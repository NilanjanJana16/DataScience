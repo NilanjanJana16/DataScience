{
  "nbformat": 4,
  "nbformat_minor": 0,
  "metadata": {
    "colab": {
      "name": "NLP-Basics",
      "provenance": [],
      "authorship_tag": "ABX9TyPv8+f3Z1QDck0I2qj8pLJS",
      "include_colab_link": true
    },
    "kernelspec": {
      "name": "python3",
      "display_name": "Python 3"
    },
    "language_info": {
      "name": "python"
    }
  },
  "cells": [
    {
      "cell_type": "markdown",
      "metadata": {
        "id": "view-in-github",
        "colab_type": "text"
      },
      "source": [
        "<a href=\"https://colab.research.google.com/github/Pepcoders/Data-Science-December/blob/main/NLP/NLP_Basics.ipynb\" target=\"_parent\"><img src=\"https://colab.research.google.com/assets/colab-badge.svg\" alt=\"Open In Colab\"/></a>"
      ]
    },
    {
      "cell_type": "code",
      "execution_count": 2,
      "metadata": {
        "colab": {
          "base_uri": "https://localhost:8080/"
        },
        "id": "-qumZtxZ4dSF",
        "outputId": "e013c2ba-5066-458f-dcd1-a3a6895499fc"
      },
      "outputs": [
        {
          "output_type": "stream",
          "name": "stdout",
          "text": [
            "[nltk_data] Downloading collection 'all'\n",
            "[nltk_data]    | \n",
            "[nltk_data]    | Downloading package abc to /root/nltk_data...\n",
            "[nltk_data]    |   Unzipping corpora/abc.zip.\n",
            "[nltk_data]    | Downloading package alpino to /root/nltk_data...\n",
            "[nltk_data]    |   Unzipping corpora/alpino.zip.\n",
            "[nltk_data]    | Downloading package averaged_perceptron_tagger to\n",
            "[nltk_data]    |     /root/nltk_data...\n",
            "[nltk_data]    |   Unzipping taggers/averaged_perceptron_tagger.zip.\n",
            "[nltk_data]    | Downloading package averaged_perceptron_tagger_ru to\n",
            "[nltk_data]    |     /root/nltk_data...\n",
            "[nltk_data]    |   Unzipping\n",
            "[nltk_data]    |       taggers/averaged_perceptron_tagger_ru.zip.\n",
            "[nltk_data]    | Downloading package basque_grammars to\n",
            "[nltk_data]    |     /root/nltk_data...\n",
            "[nltk_data]    |   Unzipping grammars/basque_grammars.zip.\n",
            "[nltk_data]    | Downloading package biocreative_ppi to\n",
            "[nltk_data]    |     /root/nltk_data...\n",
            "[nltk_data]    |   Unzipping corpora/biocreative_ppi.zip.\n",
            "[nltk_data]    | Downloading package bllip_wsj_no_aux to\n",
            "[nltk_data]    |     /root/nltk_data...\n",
            "[nltk_data]    |   Unzipping models/bllip_wsj_no_aux.zip.\n",
            "[nltk_data]    | Downloading package book_grammars to\n",
            "[nltk_data]    |     /root/nltk_data...\n",
            "[nltk_data]    |   Unzipping grammars/book_grammars.zip.\n",
            "[nltk_data]    | Downloading package brown to /root/nltk_data...\n",
            "[nltk_data]    |   Unzipping corpora/brown.zip.\n",
            "[nltk_data]    | Downloading package brown_tei to /root/nltk_data...\n",
            "[nltk_data]    |   Unzipping corpora/brown_tei.zip.\n",
            "[nltk_data]    | Downloading package cess_cat to /root/nltk_data...\n",
            "[nltk_data]    |   Unzipping corpora/cess_cat.zip.\n",
            "[nltk_data]    | Downloading package cess_esp to /root/nltk_data...\n",
            "[nltk_data]    |   Unzipping corpora/cess_esp.zip.\n",
            "[nltk_data]    | Downloading package chat80 to /root/nltk_data...\n",
            "[nltk_data]    |   Unzipping corpora/chat80.zip.\n",
            "[nltk_data]    | Downloading package city_database to\n",
            "[nltk_data]    |     /root/nltk_data...\n",
            "[nltk_data]    |   Unzipping corpora/city_database.zip.\n",
            "[nltk_data]    | Downloading package cmudict to /root/nltk_data...\n",
            "[nltk_data]    |   Unzipping corpora/cmudict.zip.\n",
            "[nltk_data]    | Downloading package comparative_sentences to\n",
            "[nltk_data]    |     /root/nltk_data...\n",
            "[nltk_data]    |   Unzipping corpora/comparative_sentences.zip.\n",
            "[nltk_data]    | Downloading package comtrans to /root/nltk_data...\n",
            "[nltk_data]    | Downloading package conll2000 to /root/nltk_data...\n",
            "[nltk_data]    |   Unzipping corpora/conll2000.zip.\n",
            "[nltk_data]    | Downloading package conll2002 to /root/nltk_data...\n",
            "[nltk_data]    |   Unzipping corpora/conll2002.zip.\n",
            "[nltk_data]    | Downloading package conll2007 to /root/nltk_data...\n",
            "[nltk_data]    | Downloading package crubadan to /root/nltk_data...\n",
            "[nltk_data]    |   Unzipping corpora/crubadan.zip.\n",
            "[nltk_data]    | Downloading package dependency_treebank to\n",
            "[nltk_data]    |     /root/nltk_data...\n",
            "[nltk_data]    |   Unzipping corpora/dependency_treebank.zip.\n",
            "[nltk_data]    | Downloading package dolch to /root/nltk_data...\n",
            "[nltk_data]    |   Unzipping corpora/dolch.zip.\n",
            "[nltk_data]    | Downloading package europarl_raw to\n",
            "[nltk_data]    |     /root/nltk_data...\n",
            "[nltk_data]    |   Unzipping corpora/europarl_raw.zip.\n",
            "[nltk_data]    | Downloading package extended_omw to\n",
            "[nltk_data]    |     /root/nltk_data...\n",
            "[nltk_data]    |   Unzipping corpora/extended_omw.zip.\n",
            "[nltk_data]    | Downloading package floresta to /root/nltk_data...\n",
            "[nltk_data]    |   Unzipping corpora/floresta.zip.\n",
            "[nltk_data]    | Downloading package framenet_v15 to\n",
            "[nltk_data]    |     /root/nltk_data...\n",
            "[nltk_data]    |   Unzipping corpora/framenet_v15.zip.\n",
            "[nltk_data]    | Downloading package framenet_v17 to\n",
            "[nltk_data]    |     /root/nltk_data...\n",
            "[nltk_data]    |   Unzipping corpora/framenet_v17.zip.\n",
            "[nltk_data]    | Downloading package gazetteers to /root/nltk_data...\n",
            "[nltk_data]    |   Unzipping corpora/gazetteers.zip.\n",
            "[nltk_data]    | Downloading package genesis to /root/nltk_data...\n",
            "[nltk_data]    |   Unzipping corpora/genesis.zip.\n",
            "[nltk_data]    | Downloading package gutenberg to /root/nltk_data...\n",
            "[nltk_data]    |   Unzipping corpora/gutenberg.zip.\n",
            "[nltk_data]    | Downloading package ieer to /root/nltk_data...\n",
            "[nltk_data]    |   Unzipping corpora/ieer.zip.\n",
            "[nltk_data]    | Downloading package inaugural to /root/nltk_data...\n",
            "[nltk_data]    |   Unzipping corpora/inaugural.zip.\n",
            "[nltk_data]    | Downloading package indian to /root/nltk_data...\n",
            "[nltk_data]    |   Unzipping corpora/indian.zip.\n",
            "[nltk_data]    | Downloading package jeita to /root/nltk_data...\n",
            "[nltk_data]    | Downloading package kimmo to /root/nltk_data...\n",
            "[nltk_data]    |   Unzipping corpora/kimmo.zip.\n",
            "[nltk_data]    | Downloading package knbc to /root/nltk_data...\n",
            "[nltk_data]    | Downloading package large_grammars to\n",
            "[nltk_data]    |     /root/nltk_data...\n",
            "[nltk_data]    |   Unzipping grammars/large_grammars.zip.\n",
            "[nltk_data]    | Downloading package lin_thesaurus to\n",
            "[nltk_data]    |     /root/nltk_data...\n",
            "[nltk_data]    |   Unzipping corpora/lin_thesaurus.zip.\n",
            "[nltk_data]    | Downloading package mac_morpho to /root/nltk_data...\n",
            "[nltk_data]    |   Unzipping corpora/mac_morpho.zip.\n",
            "[nltk_data]    | Downloading package machado to /root/nltk_data...\n",
            "[nltk_data]    | Downloading package masc_tagged to /root/nltk_data...\n",
            "[nltk_data]    | Downloading package maxent_ne_chunker to\n",
            "[nltk_data]    |     /root/nltk_data...\n",
            "[nltk_data]    |   Unzipping chunkers/maxent_ne_chunker.zip.\n",
            "[nltk_data]    | Downloading package maxent_treebank_pos_tagger to\n",
            "[nltk_data]    |     /root/nltk_data...\n",
            "[nltk_data]    |   Unzipping taggers/maxent_treebank_pos_tagger.zip.\n",
            "[nltk_data]    | Downloading package moses_sample to\n",
            "[nltk_data]    |     /root/nltk_data...\n",
            "[nltk_data]    |   Unzipping models/moses_sample.zip.\n",
            "[nltk_data]    | Downloading package movie_reviews to\n",
            "[nltk_data]    |     /root/nltk_data...\n",
            "[nltk_data]    |   Unzipping corpora/movie_reviews.zip.\n",
            "[nltk_data]    | Downloading package mte_teip5 to /root/nltk_data...\n",
            "[nltk_data]    |   Unzipping corpora/mte_teip5.zip.\n",
            "[nltk_data]    | Downloading package mwa_ppdb to /root/nltk_data...\n",
            "[nltk_data]    |   Unzipping misc/mwa_ppdb.zip.\n",
            "[nltk_data]    | Downloading package names to /root/nltk_data...\n",
            "[nltk_data]    |   Unzipping corpora/names.zip.\n",
            "[nltk_data]    | Downloading package nombank.1.0 to /root/nltk_data...\n",
            "[nltk_data]    | Downloading package nonbreaking_prefixes to\n",
            "[nltk_data]    |     /root/nltk_data...\n",
            "[nltk_data]    |   Unzipping corpora/nonbreaking_prefixes.zip.\n",
            "[nltk_data]    | Downloading package nps_chat to /root/nltk_data...\n",
            "[nltk_data]    |   Unzipping corpora/nps_chat.zip.\n",
            "[nltk_data]    | Downloading package omw to /root/nltk_data...\n",
            "[nltk_data]    |   Unzipping corpora/omw.zip.\n",
            "[nltk_data]    | Downloading package omw-1.4 to /root/nltk_data...\n",
            "[nltk_data]    |   Unzipping corpora/omw-1.4.zip.\n",
            "[nltk_data]    | Downloading package opinion_lexicon to\n",
            "[nltk_data]    |     /root/nltk_data...\n",
            "[nltk_data]    |   Unzipping corpora/opinion_lexicon.zip.\n",
            "[nltk_data]    | Downloading package panlex_swadesh to\n",
            "[nltk_data]    |     /root/nltk_data...\n",
            "[nltk_data]    | Downloading package paradigms to /root/nltk_data...\n",
            "[nltk_data]    |   Unzipping corpora/paradigms.zip.\n",
            "[nltk_data]    | Downloading package pe08 to /root/nltk_data...\n",
            "[nltk_data]    |   Unzipping corpora/pe08.zip.\n",
            "[nltk_data]    | Downloading package perluniprops to\n",
            "[nltk_data]    |     /root/nltk_data...\n",
            "[nltk_data]    |   Unzipping misc/perluniprops.zip.\n",
            "[nltk_data]    | Downloading package pil to /root/nltk_data...\n",
            "[nltk_data]    |   Unzipping corpora/pil.zip.\n",
            "[nltk_data]    | Downloading package pl196x to /root/nltk_data...\n",
            "[nltk_data]    |   Unzipping corpora/pl196x.zip.\n",
            "[nltk_data]    | Downloading package porter_test to /root/nltk_data...\n",
            "[nltk_data]    |   Unzipping stemmers/porter_test.zip.\n",
            "[nltk_data]    | Downloading package ppattach to /root/nltk_data...\n",
            "[nltk_data]    |   Unzipping corpora/ppattach.zip.\n",
            "[nltk_data]    | Downloading package problem_reports to\n",
            "[nltk_data]    |     /root/nltk_data...\n",
            "[nltk_data]    |   Unzipping corpora/problem_reports.zip.\n",
            "[nltk_data]    | Downloading package product_reviews_1 to\n",
            "[nltk_data]    |     /root/nltk_data...\n",
            "[nltk_data]    |   Unzipping corpora/product_reviews_1.zip.\n",
            "[nltk_data]    | Downloading package product_reviews_2 to\n",
            "[nltk_data]    |     /root/nltk_data...\n",
            "[nltk_data]    |   Unzipping corpora/product_reviews_2.zip.\n",
            "[nltk_data]    | Downloading package propbank to /root/nltk_data...\n",
            "[nltk_data]    | Downloading package pros_cons to /root/nltk_data...\n",
            "[nltk_data]    |   Unzipping corpora/pros_cons.zip.\n",
            "[nltk_data]    | Downloading package ptb to /root/nltk_data...\n",
            "[nltk_data]    |   Unzipping corpora/ptb.zip.\n",
            "[nltk_data]    | Downloading package punkt to /root/nltk_data...\n",
            "[nltk_data]    |   Unzipping tokenizers/punkt.zip.\n",
            "[nltk_data]    | Downloading package qc to /root/nltk_data...\n",
            "[nltk_data]    |   Unzipping corpora/qc.zip.\n",
            "[nltk_data]    | Downloading package reuters to /root/nltk_data...\n",
            "[nltk_data]    | Downloading package rslp to /root/nltk_data...\n",
            "[nltk_data]    |   Unzipping stemmers/rslp.zip.\n",
            "[nltk_data]    | Downloading package rte to /root/nltk_data...\n",
            "[nltk_data]    |   Unzipping corpora/rte.zip.\n",
            "[nltk_data]    | Downloading package sample_grammars to\n",
            "[nltk_data]    |     /root/nltk_data...\n",
            "[nltk_data]    |   Unzipping grammars/sample_grammars.zip.\n",
            "[nltk_data]    | Downloading package semcor to /root/nltk_data...\n",
            "[nltk_data]    | Downloading package senseval to /root/nltk_data...\n",
            "[nltk_data]    |   Unzipping corpora/senseval.zip.\n",
            "[nltk_data]    | Downloading package sentence_polarity to\n",
            "[nltk_data]    |     /root/nltk_data...\n",
            "[nltk_data]    |   Unzipping corpora/sentence_polarity.zip.\n",
            "[nltk_data]    | Downloading package sentiwordnet to\n",
            "[nltk_data]    |     /root/nltk_data...\n",
            "[nltk_data]    |   Unzipping corpora/sentiwordnet.zip.\n",
            "[nltk_data]    | Downloading package shakespeare to /root/nltk_data...\n",
            "[nltk_data]    |   Unzipping corpora/shakespeare.zip.\n",
            "[nltk_data]    | Downloading package sinica_treebank to\n",
            "[nltk_data]    |     /root/nltk_data...\n",
            "[nltk_data]    |   Unzipping corpora/sinica_treebank.zip.\n",
            "[nltk_data]    | Downloading package smultron to /root/nltk_data...\n",
            "[nltk_data]    |   Unzipping corpora/smultron.zip.\n",
            "[nltk_data]    | Downloading package snowball_data to\n",
            "[nltk_data]    |     /root/nltk_data...\n",
            "[nltk_data]    | Downloading package spanish_grammars to\n",
            "[nltk_data]    |     /root/nltk_data...\n",
            "[nltk_data]    |   Unzipping grammars/spanish_grammars.zip.\n",
            "[nltk_data]    | Downloading package state_union to /root/nltk_data...\n",
            "[nltk_data]    |   Unzipping corpora/state_union.zip.\n",
            "[nltk_data]    | Downloading package stopwords to /root/nltk_data...\n",
            "[nltk_data]    |   Unzipping corpora/stopwords.zip.\n",
            "[nltk_data]    | Downloading package subjectivity to\n",
            "[nltk_data]    |     /root/nltk_data...\n",
            "[nltk_data]    |   Unzipping corpora/subjectivity.zip.\n",
            "[nltk_data]    | Downloading package swadesh to /root/nltk_data...\n",
            "[nltk_data]    |   Unzipping corpora/swadesh.zip.\n",
            "[nltk_data]    | Downloading package switchboard to /root/nltk_data...\n",
            "[nltk_data]    |   Unzipping corpora/switchboard.zip.\n",
            "[nltk_data]    | Downloading package tagsets to /root/nltk_data...\n",
            "[nltk_data]    |   Unzipping help/tagsets.zip.\n",
            "[nltk_data]    | Downloading package timit to /root/nltk_data...\n",
            "[nltk_data]    |   Unzipping corpora/timit.zip.\n",
            "[nltk_data]    | Downloading package toolbox to /root/nltk_data...\n",
            "[nltk_data]    |   Unzipping corpora/toolbox.zip.\n",
            "[nltk_data]    | Downloading package treebank to /root/nltk_data...\n",
            "[nltk_data]    |   Unzipping corpora/treebank.zip.\n",
            "[nltk_data]    | Downloading package twitter_samples to\n",
            "[nltk_data]    |     /root/nltk_data...\n",
            "[nltk_data]    |   Unzipping corpora/twitter_samples.zip.\n",
            "[nltk_data]    | Downloading package udhr to /root/nltk_data...\n",
            "[nltk_data]    |   Unzipping corpora/udhr.zip.\n",
            "[nltk_data]    | Downloading package udhr2 to /root/nltk_data...\n",
            "[nltk_data]    |   Unzipping corpora/udhr2.zip.\n",
            "[nltk_data]    | Downloading package unicode_samples to\n",
            "[nltk_data]    |     /root/nltk_data...\n",
            "[nltk_data]    |   Unzipping corpora/unicode_samples.zip.\n",
            "[nltk_data]    | Downloading package universal_tagset to\n",
            "[nltk_data]    |     /root/nltk_data...\n",
            "[nltk_data]    |   Unzipping taggers/universal_tagset.zip.\n",
            "[nltk_data]    | Downloading package universal_treebanks_v20 to\n",
            "[nltk_data]    |     /root/nltk_data...\n",
            "[nltk_data]    | Downloading package vader_lexicon to\n",
            "[nltk_data]    |     /root/nltk_data...\n",
            "[nltk_data]    | Downloading package verbnet to /root/nltk_data...\n",
            "[nltk_data]    |   Unzipping corpora/verbnet.zip.\n",
            "[nltk_data]    | Downloading package verbnet3 to /root/nltk_data...\n",
            "[nltk_data]    |   Unzipping corpora/verbnet3.zip.\n",
            "[nltk_data]    | Downloading package webtext to /root/nltk_data...\n",
            "[nltk_data]    |   Unzipping corpora/webtext.zip.\n",
            "[nltk_data]    | Downloading package wmt15_eval to /root/nltk_data...\n",
            "[nltk_data]    |   Unzipping models/wmt15_eval.zip.\n",
            "[nltk_data]    | Downloading package word2vec_sample to\n",
            "[nltk_data]    |     /root/nltk_data...\n",
            "[nltk_data]    |   Unzipping models/word2vec_sample.zip.\n",
            "[nltk_data]    | Downloading package wordnet to /root/nltk_data...\n",
            "[nltk_data]    |   Unzipping corpora/wordnet.zip.\n",
            "[nltk_data]    | Downloading package wordnet2021 to /root/nltk_data...\n",
            "[nltk_data]    |   Unzipping corpora/wordnet2021.zip.\n",
            "[nltk_data]    | Downloading package wordnet31 to /root/nltk_data...\n",
            "[nltk_data]    |   Unzipping corpora/wordnet31.zip.\n",
            "[nltk_data]    | Downloading package wordnet_ic to /root/nltk_data...\n",
            "[nltk_data]    |   Unzipping corpora/wordnet_ic.zip.\n",
            "[nltk_data]    | Downloading package words to /root/nltk_data...\n",
            "[nltk_data]    |   Unzipping corpora/words.zip.\n",
            "[nltk_data]    | Downloading package ycoe to /root/nltk_data...\n",
            "[nltk_data]    |   Unzipping corpora/ycoe.zip.\n",
            "[nltk_data]    | \n",
            "[nltk_data]  Done downloading collection all\n"
          ]
        },
        {
          "output_type": "execute_result",
          "data": {
            "text/plain": [
              "True"
            ]
          },
          "metadata": {},
          "execution_count": 2
        }
      ],
      "source": [
        "import nltk\n",
        "nltk.download('all')"
      ]
    },
    {
      "cell_type": "code",
      "source": [
        "paragraph = \"\"\"\n",
        "Looking back on a childhood filled with events and memories, I find it rather difficult to pick one that leaves me with the fabled \"warm and fuzzy feelings.\" As the daughter of an Air Force major, I had the pleasure of traveling across America in many moving trips. I have visited the monstrous trees of the Sequoia National Forest, stood on the edge of the Grand Canyon and have jumped on the beds at Caesar's Palace in Lake Tahoe.\"\n",
        "\"The day I picked my dog up from the pound was one of the happiest days of both of our lives. I had gone to the pound just a week earlier with the idea that I would just \"look\" at a puppy. Of course, you can no more just look at those squiggling little faces so filled with hope and joy than you can stop the sun from setting in the evening. I knew within minutes of walking in the door that I would get a puppy… but it wasn't until I saw him that I knew I had found my puppy.\"\n",
        "\"Looking for houses was supposed to be a fun and exciting process. Unfortunately, none of the ones that we saw seemed to match the specifications that we had established. They were too small, too impersonal, too close to the neighbors. After days of finding nothing even close, we began to wonder: was there really a perfect house out there for us? \"\"\""
      ],
      "metadata": {
        "id": "j6ourj9jAt-D"
      },
      "execution_count": 4,
      "outputs": []
    },
    {
      "cell_type": "code",
      "source": [
        "sentences = nltk.sent_tokenize(paragraph)"
      ],
      "metadata": {
        "id": "0m78GundBli6"
      },
      "execution_count": 5,
      "outputs": []
    },
    {
      "cell_type": "code",
      "source": [
        "# Tokenizing words\n",
        "words = nltk.word_tokenize(paragraph)"
      ],
      "metadata": {
        "id": "wETbWeOrB5KQ"
      },
      "execution_count": 8,
      "outputs": []
    },
    {
      "cell_type": "code",
      "source": [
        "words"
      ],
      "metadata": {
        "id": "zJoxcDcPB7CY"
      },
      "execution_count": null,
      "outputs": []
    },
    {
      "cell_type": "markdown",
      "source": [
        "**Stemming**"
      ],
      "metadata": {
        "id": "vaMHxd-BCKY7"
      }
    },
    {
      "cell_type": "code",
      "source": [
        "sentences = nltk.sent_tokenize(paragraph)\n"
      ],
      "metadata": {
        "id": "C3MkplDCCGf_"
      },
      "execution_count": 10,
      "outputs": []
    },
    {
      "cell_type": "code",
      "source": [
        "from nltk.stem import PorterStemmer\n",
        "from nltk.corpus import stopwords\n",
        "stemmer=PorterStemmer()"
      ],
      "metadata": {
        "id": "TcXyP6BFCVOx"
      },
      "execution_count": 15,
      "outputs": []
    },
    {
      "cell_type": "code",
      "source": [
        "# Stemming\n",
        "for i in range(len(sentences)):\n",
        "    words = nltk.word_tokenize(sentences[i])\n",
        "    words = [stemmer.stem(word) for word in words if word not in set(stopwords.words('english'))]\n",
        "    sentences[i] = ' '.join(words)   "
      ],
      "metadata": {
        "id": "k3DWpQC1Ccun"
      },
      "execution_count": 16,
      "outputs": []
    },
    {
      "cell_type": "code",
      "source": [
        "sentences"
      ],
      "metadata": {
        "colab": {
          "base_uri": "https://localhost:8080/"
        },
        "id": "NtA91asjCe2y",
        "outputId": "443b851e-9a22-4877-9e65-1344201414f3"
      },
      "execution_count": 17,
      "outputs": [
        {
          "output_type": "execute_result",
          "data": {
            "text/plain": [
              "[\"look back childhood fill event memori , I find rather difficult pick one leav fabl `` warm fuzzi feel . ''\",\n",
              " 'As daughter air forc major , I pleasur travel across america mani move trip .',\n",
              " \"I visit monstrou tree sequoia nation forest , stood edg grand canyon jump bed caesar 's palac lake taho . ''\",\n",
              " '`` the day I pick dog pound one happiest day live .',\n",
              " \"I gone pound week earlier idea I would `` look '' puppi .\",\n",
              " 'Of cours , look squiggl littl face fill hope joy stop sun set even .',\n",
              " \"I knew within minut walk door I would get puppy… n't I saw I knew I found puppi . ''\",\n",
              " '`` look hous suppos fun excit process .',\n",
              " 'unfortun , none one saw seem match specif establish .',\n",
              " 'they small , imperson , close neighbor .',\n",
              " 'after day find noth even close , began wonder : realli perfect hous us ?']"
            ]
          },
          "metadata": {},
          "execution_count": 17
        }
      ]
    },
    {
      "cell_type": "markdown",
      "source": [
        "Lemmetization"
      ],
      "metadata": {
        "id": "KuM6qPjvDJYW"
      }
    },
    {
      "cell_type": "code",
      "source": [
        "from nltk.stem import WordNetLemmatizer\n",
        "from nltk.corpus import stopwords"
      ],
      "metadata": {
        "id": "1_zrUeM-DAxD"
      },
      "execution_count": 18,
      "outputs": []
    },
    {
      "cell_type": "code",
      "source": [
        "sentences = nltk.sent_tokenize(paragraph)\n",
        "lemmatizer = WordNetLemmatizer()\n",
        "\n",
        "# Lemmatization\n",
        "for i in range(len(sentences)):\n",
        "    words = nltk.word_tokenize(sentences[i])\n",
        "    words = [lemmatizer.lemmatize(word) for word in words if word not in set(stopwords.words('english'))]\n",
        "    sentences[i] = ' '.join(words)      "
      ],
      "metadata": {
        "id": "dSZfhFEHDOQ3"
      },
      "execution_count": 19,
      "outputs": []
    },
    {
      "cell_type": "code",
      "source": [
        "sentences"
      ],
      "metadata": {
        "colab": {
          "base_uri": "https://localhost:8080/"
        },
        "id": "A9ODLz83DRDo",
        "outputId": "2cc9328e-8f96-4e72-8f4a-fecf132dff8b"
      },
      "execution_count": 20,
      "outputs": [
        {
          "output_type": "execute_result",
          "data": {
            "text/plain": [
              "[\"Looking back childhood filled event memory , I find rather difficult pick one leaf fabled `` warm fuzzy feeling . ''\",\n",
              " 'As daughter Air Force major , I pleasure traveling across America many moving trip .',\n",
              " \"I visited monstrous tree Sequoia National Forest , stood edge Grand Canyon jumped bed Caesar 's Palace Lake Tahoe . ''\",\n",
              " '`` The day I picked dog pound one happiest day life .',\n",
              " \"I gone pound week earlier idea I would `` look '' puppy .\",\n",
              " 'Of course , look squiggling little face filled hope joy stop sun setting evening .',\n",
              " \"I knew within minute walking door I would get puppy… n't I saw I knew I found puppy . ''\",\n",
              " '`` Looking house supposed fun exciting process .',\n",
              " 'Unfortunately , none one saw seemed match specification established .',\n",
              " 'They small , impersonal , close neighbor .',\n",
              " 'After day finding nothing even close , began wonder : really perfect house u ?']"
            ]
          },
          "metadata": {},
          "execution_count": 20
        }
      ]
    },
    {
      "cell_type": "markdown",
      "source": [
        "**BAG OF WORDS**"
      ],
      "metadata": {
        "id": "PYmGmjt5FQot"
      }
    },
    {
      "cell_type": "code",
      "source": [
        "import re #Regular Expression\n",
        "from nltk.corpus import stopwords\n",
        "from nltk.stem.porter import PorterStemmer\n",
        "from nltk.stem import WordNetLemmatizer"
      ],
      "metadata": {
        "id": "xnsWE1LmDjLR"
      },
      "execution_count": 21,
      "outputs": []
    },
    {
      "cell_type": "code",
      "source": [
        "ps = PorterStemmer()\n",
        "wordnet=WordNetLemmatizer()\n",
        "sentences = nltk.sent_tokenize(paragraph)\n",
        "corpus = []"
      ],
      "metadata": {
        "id": "dBVzrtIMDU4J"
      },
      "execution_count": 29,
      "outputs": []
    },
    {
      "cell_type": "code",
      "source": [
        "for i in range(len(sentences)):\n",
        "    review = re.sub('[^a-zA-Z]', ' ', sentences[i])\n",
        "    review = review.lower()\n",
        "    review = review.split()\n",
        "    review = [wordnet.lemmatize(word) for word in review if not word in set(stopwords.words('english'))]\n",
        "    review = ' '.join(review)\n",
        "    corpus.append(review)"
      ],
      "metadata": {
        "id": "hD81LbPaFnT-"
      },
      "execution_count": 30,
      "outputs": []
    },
    {
      "cell_type": "code",
      "source": [
        "corpus"
      ],
      "metadata": {
        "colab": {
          "base_uri": "https://localhost:8080/"
        },
        "id": "KYFeAuFGF1lP",
        "outputId": "d9e5a77b-ff45-4282-e097-367494d54a7d"
      },
      "execution_count": 31,
      "outputs": [
        {
          "output_type": "execute_result",
          "data": {
            "text/plain": [
              "['looking back childhood filled event memory find rather difficult pick one leaf fabled warm fuzzy feeling',\n",
              " 'daughter air force major pleasure traveling across america many moving trip',\n",
              " 'visited monstrous tree sequoia national forest stood edge grand canyon jumped bed caesar palace lake tahoe',\n",
              " 'day picked dog pound one happiest day life',\n",
              " 'gone pound week earlier idea would look puppy',\n",
              " 'course look squiggling little face filled hope joy stop sun setting evening',\n",
              " 'knew within minute walking door would get puppy saw knew found puppy',\n",
              " 'looking house supposed fun exciting process',\n",
              " 'unfortunately none one saw seemed match specification established',\n",
              " 'small impersonal close neighbor',\n",
              " 'day finding nothing even close began wonder really perfect house u']"
            ]
          },
          "metadata": {},
          "execution_count": 31
        }
      ]
    },
    {
      "cell_type": "code",
      "source": [
        "# Creating the Bag of Words model\n",
        "from sklearn.feature_extraction.text import CountVectorizer\n",
        "cv = CountVectorizer(max_features = 1500)\n",
        "X = cv.fit_transform(corpus).toarray()"
      ],
      "metadata": {
        "id": "5EkFMCBlF22z"
      },
      "execution_count": 32,
      "outputs": []
    },
    {
      "cell_type": "code",
      "source": [
        "X"
      ],
      "metadata": {
        "colab": {
          "base_uri": "https://localhost:8080/"
        },
        "id": "gbI-HH7WGD-7",
        "outputId": "fece7453-fe1a-4fb5-be1f-3053ca9055f9"
      },
      "execution_count": 33,
      "outputs": [
        {
          "output_type": "execute_result",
          "data": {
            "text/plain": [
              "array([[0, 0, 0, ..., 0, 0, 0],\n",
              "       [1, 1, 1, ..., 0, 0, 0],\n",
              "       [0, 0, 0, ..., 0, 0, 0],\n",
              "       ...,\n",
              "       [0, 0, 0, ..., 0, 0, 0],\n",
              "       [0, 0, 0, ..., 0, 0, 0],\n",
              "       [0, 0, 0, ..., 0, 1, 0]])"
            ]
          },
          "metadata": {},
          "execution_count": 33
        }
      ]
    },
    {
      "cell_type": "markdown",
      "source": [
        "**TF-IDF**"
      ],
      "metadata": {
        "id": "-Lw2IDvEIa1M"
      }
    },
    {
      "cell_type": "code",
      "source": [
        "import re\n",
        "from nltk.corpus import stopwords\n",
        "from nltk.stem.porter import PorterStemmer\n",
        "from nltk.stem import WordNetLemmatizer\n"
      ],
      "metadata": {
        "id": "mIaPqLogGE5h"
      },
      "execution_count": 34,
      "outputs": []
    },
    {
      "cell_type": "code",
      "source": [
        "ps = PorterStemmer()\n",
        "wordnet=WordNetLemmatizer()\n",
        "sentences = nltk.sent_tokenize(paragraph)\n",
        "corpus = []\n",
        "for i in range(len(sentences)):\n",
        "    review = re.sub('[^a-zA-Z]', ' ', sentences[i])\n",
        "    review = review.lower()\n",
        "    review = review.split()\n",
        "    review = [wordnet.lemmatize(word) for word in review if not word in set(stopwords.words('english'))]\n",
        "    review = ' '.join(review)\n",
        "    corpus.append(review)"
      ],
      "metadata": {
        "id": "LKZdZuRbIf96"
      },
      "execution_count": 35,
      "outputs": []
    },
    {
      "cell_type": "code",
      "source": [
        "# Creating the TF-IDF model\n",
        "from sklearn.feature_extraction.text import TfidfVectorizer\n",
        "cv = TfidfVectorizer()\n",
        "X = cv.fit_transform(corpus).toarray()"
      ],
      "metadata": {
        "id": "k1YjObq7IhpC"
      },
      "execution_count": 36,
      "outputs": []
    },
    {
      "cell_type": "code",
      "source": [
        "X"
      ],
      "metadata": {
        "colab": {
          "base_uri": "https://localhost:8080/"
        },
        "id": "5qRHBOadIkz7",
        "outputId": "53d86a2e-8dab-4130-f6aa-66fdccd1484e"
      },
      "execution_count": 37,
      "outputs": [
        {
          "output_type": "execute_result",
          "data": {
            "text/plain": [
              "array([[0.        , 0.        , 0.        , ..., 0.        , 0.        ,\n",
              "        0.        ],\n",
              "       [0.30151134, 0.30151134, 0.30151134, ..., 0.        , 0.        ,\n",
              "        0.        ],\n",
              "       [0.        , 0.        , 0.        , ..., 0.        , 0.        ,\n",
              "        0.        ],\n",
              "       ...,\n",
              "       [0.        , 0.        , 0.        , ..., 0.        , 0.        ,\n",
              "        0.        ],\n",
              "       [0.        , 0.        , 0.        , ..., 0.        , 0.        ,\n",
              "        0.        ],\n",
              "       [0.        , 0.        , 0.        , ..., 0.        , 0.32983614,\n",
              "        0.        ]])"
            ]
          },
          "metadata": {},
          "execution_count": 37
        }
      ]
    },
    {
      "cell_type": "markdown",
      "source": [
        "**Word2Vec**\n"
      ],
      "metadata": {
        "id": "FXhacsdLJkZO"
      }
    },
    {
      "cell_type": "code",
      "source": [
        "text = re.sub(r'\\[[0-9]*\\]',' ',paragraph)\n",
        "text = re.sub(r'\\s+',' ',text)\n",
        "text = text.lower()\n",
        "text = re.sub(r'\\d',' ',text)\n",
        "text = re.sub(r'\\s+',' ',text)\n",
        "\n",
        "# Preparing the dataset\n",
        "sentences = nltk.sent_tokenize(text)\n",
        "\n",
        "sentences = [nltk.word_tokenize(sentence) for sentence in sentences]\n",
        "\n",
        "for i in range(len(sentences)):\n",
        "    sentences[i] = [word for word in sentences[i] if word not in stopwords.words('english')]"
      ],
      "metadata": {
        "id": "1-9oe7nlIlgn"
      },
      "execution_count": 38,
      "outputs": []
    },
    {
      "cell_type": "code",
      "source": [
        "from gensim.models import Word2Vec"
      ],
      "metadata": {
        "id": "5zz1wqaIJu6W"
      },
      "execution_count": 40,
      "outputs": []
    },
    {
      "cell_type": "code",
      "source": [
        "model = Word2Vec(sentences, min_count=1)"
      ],
      "metadata": {
        "id": "e0w33biuJyU7"
      },
      "execution_count": 41,
      "outputs": []
    },
    {
      "cell_type": "code",
      "source": [
        "words = model.wv.vocab"
      ],
      "metadata": {
        "id": "r85qqkhaJ9ky"
      },
      "execution_count": 44,
      "outputs": []
    },
    {
      "cell_type": "code",
      "source": [
        "words"
      ],
      "metadata": {
        "colab": {
          "base_uri": "https://localhost:8080/"
        },
        "id": "rUq_FtAxKBPd",
        "outputId": "4b2d601f-7454-41b7-a7d0-dab892783e90"
      },
      "execution_count": 45,
      "outputs": [
        {
          "output_type": "execute_result",
          "data": {
            "text/plain": [
              "{\"''\": <gensim.models.keyedvectors.Vocab at 0x7efd4a5120d0>,\n",
              " \"'s\": <gensim.models.keyedvectors.Vocab at 0x7efd4b720b90>,\n",
              " ',': <gensim.models.keyedvectors.Vocab at 0x7efd4a512790>,\n",
              " '.': <gensim.models.keyedvectors.Vocab at 0x7efd4a512290>,\n",
              " ':': <gensim.models.keyedvectors.Vocab at 0x7efd4a51c990>,\n",
              " '?': <gensim.models.keyedvectors.Vocab at 0x7efd4a51cad0>,\n",
              " '``': <gensim.models.keyedvectors.Vocab at 0x7efd4a5123d0>,\n",
              " 'across': <gensim.models.keyedvectors.Vocab at 0x7efd4a50ad90>,\n",
              " 'air': <gensim.models.keyedvectors.Vocab at 0x7efd4a512090>,\n",
              " 'america': <gensim.models.keyedvectors.Vocab at 0x7efd4a50aed0>,\n",
              " 'back': <gensim.models.keyedvectors.Vocab at 0x7efd4a512c90>,\n",
              " 'beds': <gensim.models.keyedvectors.Vocab at 0x7efd4b720cd0>,\n",
              " 'began': <gensim.models.keyedvectors.Vocab at 0x7efd4a51c910>,\n",
              " 'caesar': <gensim.models.keyedvectors.Vocab at 0x7efd4b720e90>,\n",
              " 'canyon': <gensim.models.keyedvectors.Vocab at 0x7efd4b720750>,\n",
              " 'childhood': <gensim.models.keyedvectors.Vocab at 0x7efd4a512650>,\n",
              " 'close': <gensim.models.keyedvectors.Vocab at 0x7efd4a51c7d0>,\n",
              " 'course': <gensim.models.keyedvectors.Vocab at 0x7efd4b72d490>,\n",
              " 'daughter': <gensim.models.keyedvectors.Vocab at 0x7efd4a512110>,\n",
              " 'day': <gensim.models.keyedvectors.Vocab at 0x7efd4b720fd0>,\n",
              " 'days': <gensim.models.keyedvectors.Vocab at 0x7efd4b720b10>,\n",
              " 'difficult': <gensim.models.keyedvectors.Vocab at 0x7efd4a512e50>,\n",
              " 'dog': <gensim.models.keyedvectors.Vocab at 0x7efd4b7206d0>,\n",
              " 'door': <gensim.models.keyedvectors.Vocab at 0x7efd4a51c250>,\n",
              " 'earlier': <gensim.models.keyedvectors.Vocab at 0x7efd4b72d5d0>,\n",
              " 'edge': <gensim.models.keyedvectors.Vocab at 0x7efd4b720e50>,\n",
              " 'established': <gensim.models.keyedvectors.Vocab at 0x7efd4a51c710>,\n",
              " 'even': <gensim.models.keyedvectors.Vocab at 0x7efd4a51c8d0>,\n",
              " 'evening': <gensim.models.keyedvectors.Vocab at 0x7efd4b72d350>,\n",
              " 'events': <gensim.models.keyedvectors.Vocab at 0x7efd4a512bd0>,\n",
              " 'exciting': <gensim.models.keyedvectors.Vocab at 0x7efd4a51c550>,\n",
              " 'fabled': <gensim.models.keyedvectors.Vocab at 0x7efd4a512410>,\n",
              " 'faces': <gensim.models.keyedvectors.Vocab at 0x7efd4b72d390>,\n",
              " 'feelings': <gensim.models.keyedvectors.Vocab at 0x7efd4a5122d0>,\n",
              " 'filled': <gensim.models.keyedvectors.Vocab at 0x7efd4a512e10>,\n",
              " 'find': <gensim.models.keyedvectors.Vocab at 0x7efd4a512210>,\n",
              " 'finding': <gensim.models.keyedvectors.Vocab at 0x7efd4a51c850>,\n",
              " 'force': <gensim.models.keyedvectors.Vocab at 0x7efd4a512150>,\n",
              " 'forest': <gensim.models.keyedvectors.Vocab at 0x7efd4a4ea950>,\n",
              " 'found': <gensim.models.keyedvectors.Vocab at 0x7efd4a51c510>,\n",
              " 'fun': <gensim.models.keyedvectors.Vocab at 0x7efd4a51c5d0>,\n",
              " 'fuzzy': <gensim.models.keyedvectors.Vocab at 0x7efd4a512310>,\n",
              " 'get': <gensim.models.keyedvectors.Vocab at 0x7efd4a51c290>,\n",
              " 'gone': <gensim.models.keyedvectors.Vocab at 0x7efd4b720b50>,\n",
              " 'grand': <gensim.models.keyedvectors.Vocab at 0x7efd4b720350>,\n",
              " 'happiest': <gensim.models.keyedvectors.Vocab at 0x7efd4b720e10>,\n",
              " 'hope': <gensim.models.keyedvectors.Vocab at 0x7efd4b72d050>,\n",
              " 'house': <gensim.models.keyedvectors.Vocab at 0x7efd4a51ca50>,\n",
              " 'houses': <gensim.models.keyedvectors.Vocab at 0x7efd4a51c490>,\n",
              " 'idea': <gensim.models.keyedvectors.Vocab at 0x7efd4b72d310>,\n",
              " 'impersonal': <gensim.models.keyedvectors.Vocab at 0x7efd4a51c790>,\n",
              " 'joy': <gensim.models.keyedvectors.Vocab at 0x7efd4b72d690>,\n",
              " 'jumped': <gensim.models.keyedvectors.Vocab at 0x7efd4b720410>,\n",
              " 'knew': <gensim.models.keyedvectors.Vocab at 0x7efd4b72d250>,\n",
              " 'lake': <gensim.models.keyedvectors.Vocab at 0x7efd4b720190>,\n",
              " 'leaves': <gensim.models.keyedvectors.Vocab at 0x7efd4a512450>,\n",
              " 'little': <gensim.models.keyedvectors.Vocab at 0x7efd4b72d2d0>,\n",
              " 'lives': <gensim.models.keyedvectors.Vocab at 0x7efd4b720a10>,\n",
              " 'look': <gensim.models.keyedvectors.Vocab at 0x7efd4b72d410>,\n",
              " 'looking': <gensim.models.keyedvectors.Vocab at 0x7efd4a512850>,\n",
              " 'major': <gensim.models.keyedvectors.Vocab at 0x7efd4a50ae50>,\n",
              " 'many': <gensim.models.keyedvectors.Vocab at 0x7efd4a50af10>,\n",
              " 'match': <gensim.models.keyedvectors.Vocab at 0x7efd4a51c690>,\n",
              " 'memories': <gensim.models.keyedvectors.Vocab at 0x7efd4a512590>,\n",
              " 'minutes': <gensim.models.keyedvectors.Vocab at 0x7efd4b72d1d0>,\n",
              " 'monstrous': <gensim.models.keyedvectors.Vocab at 0x7efd4aa07ed0>,\n",
              " 'moving': <gensim.models.keyedvectors.Vocab at 0x7efd4a50abd0>,\n",
              " \"n't\": <gensim.models.keyedvectors.Vocab at 0x7efd4a51c190>,\n",
              " 'national': <gensim.models.keyedvectors.Vocab at 0x7efd4b5dcd10>,\n",
              " 'neighbors': <gensim.models.keyedvectors.Vocab at 0x7efd4a51c810>,\n",
              " 'none': <gensim.models.keyedvectors.Vocab at 0x7efd4a51c590>,\n",
              " 'nothing': <gensim.models.keyedvectors.Vocab at 0x7efd4a51c890>,\n",
              " 'one': <gensim.models.keyedvectors.Vocab at 0x7efd4a512490>,\n",
              " 'ones': <gensim.models.keyedvectors.Vocab at 0x7efd4a51c610>,\n",
              " 'palace': <gensim.models.keyedvectors.Vocab at 0x7efd4b720090>,\n",
              " 'perfect': <gensim.models.keyedvectors.Vocab at 0x7efd4a51ca10>,\n",
              " 'pick': <gensim.models.keyedvectors.Vocab at 0x7efd4a512510>,\n",
              " 'picked': <gensim.models.keyedvectors.Vocab at 0x7efd4b7208d0>,\n",
              " 'pleasure': <gensim.models.keyedvectors.Vocab at 0x7efd4a50acd0>,\n",
              " 'pound': <gensim.models.keyedvectors.Vocab at 0x7efd4b720290>,\n",
              " 'process': <gensim.models.keyedvectors.Vocab at 0x7efd4a51c2d0>,\n",
              " 'puppy': <gensim.models.keyedvectors.Vocab at 0x7efd4b72d3d0>,\n",
              " 'puppy…': <gensim.models.keyedvectors.Vocab at 0x7efd4a51c0d0>,\n",
              " 'rather': <gensim.models.keyedvectors.Vocab at 0x7efd4a512d90>,\n",
              " 'really': <gensim.models.keyedvectors.Vocab at 0x7efd4a51c9d0>,\n",
              " 'saw': <gensim.models.keyedvectors.Vocab at 0x7efd4a51c4d0>,\n",
              " 'seemed': <gensim.models.keyedvectors.Vocab at 0x7efd4a51c650>,\n",
              " 'sequoia': <gensim.models.keyedvectors.Vocab at 0x7efd4a4e51d0>,\n",
              " 'setting': <gensim.models.keyedvectors.Vocab at 0x7efd4b72d150>,\n",
              " 'small': <gensim.models.keyedvectors.Vocab at 0x7efd4a51c750>,\n",
              " 'specifications': <gensim.models.keyedvectors.Vocab at 0x7efd4a51c6d0>,\n",
              " 'squiggling': <gensim.models.keyedvectors.Vocab at 0x7efd4b72de10>,\n",
              " 'stood': <gensim.models.keyedvectors.Vocab at 0x7efd4b720110>,\n",
              " 'stop': <gensim.models.keyedvectors.Vocab at 0x7efd4b72d4d0>,\n",
              " 'sun': <gensim.models.keyedvectors.Vocab at 0x7efd4b72d0d0>,\n",
              " 'supposed': <gensim.models.keyedvectors.Vocab at 0x7efd4a51c3d0>,\n",
              " 'tahoe': <gensim.models.keyedvectors.Vocab at 0x7efd4b720d90>,\n",
              " 'traveling': <gensim.models.keyedvectors.Vocab at 0x7efd4a50af90>,\n",
              " 'trees': <gensim.models.keyedvectors.Vocab at 0x7efd4a4e5190>,\n",
              " 'trips': <gensim.models.keyedvectors.Vocab at 0x7efd4a50aad0>,\n",
              " 'unfortunately': <gensim.models.keyedvectors.Vocab at 0x7efd4a51c110>,\n",
              " 'us': <gensim.models.keyedvectors.Vocab at 0x7efd4a51ca90>,\n",
              " 'visited': <gensim.models.keyedvectors.Vocab at 0x7efd4a50ac90>,\n",
              " 'walking': <gensim.models.keyedvectors.Vocab at 0x7efd4a51c210>,\n",
              " 'warm': <gensim.models.keyedvectors.Vocab at 0x7efd4a512350>,\n",
              " 'week': <gensim.models.keyedvectors.Vocab at 0x7efd4b720a90>,\n",
              " 'within': <gensim.models.keyedvectors.Vocab at 0x7efd4b72d190>,\n",
              " 'wonder': <gensim.models.keyedvectors.Vocab at 0x7efd4a51c950>,\n",
              " 'would': <gensim.models.keyedvectors.Vocab at 0x7efd4b72d110>}"
            ]
          },
          "metadata": {},
          "execution_count": 45
        }
      ]
    },
    {
      "cell_type": "code",
      "source": [
        "vector = model.wv['squiggling']"
      ],
      "metadata": {
        "id": "R3yYgEIOKHEg"
      },
      "execution_count": 47,
      "outputs": []
    },
    {
      "cell_type": "code",
      "source": [
        "vector"
      ],
      "metadata": {
        "colab": {
          "base_uri": "https://localhost:8080/"
        },
        "id": "9Gsibp0ZKQpH",
        "outputId": "ee5ff641-1309-453f-ebc5-42df1288bf29"
      },
      "execution_count": 48,
      "outputs": [
        {
          "output_type": "execute_result",
          "data": {
            "text/plain": [
              "array([-3.0273842e-03,  2.2439836e-03,  4.2287023e-03, -3.1285177e-04,\n",
              "        1.7663389e-03, -4.1972972e-03,  2.7297651e-03,  1.8482261e-03,\n",
              "        2.5401753e-03, -1.4911069e-03, -1.3837310e-03,  7.4284399e-05,\n",
              "       -3.6233466e-03,  1.4966882e-03,  1.3970927e-03, -4.1479464e-03,\n",
              "       -1.1739621e-03,  4.8632892e-03, -3.2684805e-03,  8.1190799e-04,\n",
              "       -6.3263411e-05, -4.9244789e-03, -4.5481129e-03,  7.3163677e-04,\n",
              "       -2.5170069e-04,  3.0578508e-03,  4.0584025e-03,  4.7446163e-03,\n",
              "        1.7434316e-03, -2.8912276e-03,  3.9253058e-03,  1.6595445e-03,\n",
              "       -4.9976087e-03, -1.0149175e-03,  1.6074647e-03,  1.9854216e-03,\n",
              "       -1.7634082e-03, -1.7338354e-03,  9.2369714e-04,  1.2664887e-03,\n",
              "        3.8177117e-03, -2.1040505e-03, -2.6458467e-03,  4.3567992e-03,\n",
              "        7.0718979e-04,  4.3091406e-03, -1.8035572e-03,  1.1240252e-03,\n",
              "       -2.6730043e-03,  3.6506872e-03, -5.6637765e-04,  7.6417078e-04,\n",
              "        1.2464365e-03, -1.2893217e-03,  3.3832621e-04, -3.2946768e-03,\n",
              "       -2.6503932e-03, -3.0003753e-03, -3.4503131e-03, -2.8161523e-03,\n",
              "       -3.1595828e-03, -4.6460107e-03,  3.5567170e-03,  3.2800334e-03,\n",
              "       -4.4031260e-03,  1.6457260e-03,  2.4644039e-03,  4.7237478e-05,\n",
              "       -1.5108504e-03,  8.7849342e-04, -3.4474216e-03,  1.1476892e-03,\n",
              "       -3.6274866e-04, -3.0763007e-03, -3.9888402e-03, -1.6168020e-03,\n",
              "        3.7158190e-03, -1.0529390e-03, -3.0407819e-03, -3.2442284e-03,\n",
              "        1.4860641e-03, -7.9652731e-04,  1.0696112e-03,  1.2955669e-03,\n",
              "        4.8721563e-03, -4.6681948e-03,  1.7467876e-03,  4.2303693e-03,\n",
              "       -1.3281516e-04, -1.0116122e-03,  2.7245679e-03,  2.4840285e-03,\n",
              "       -4.6980670e-03, -2.3076405e-04, -4.6981061e-03,  2.1493870e-03,\n",
              "       -1.8591541e-03,  4.1892868e-03, -3.4735983e-03,  4.3449700e-03],\n",
              "      dtype=float32)"
            ]
          },
          "metadata": {},
          "execution_count": 48
        }
      ]
    },
    {
      "cell_type": "code",
      "source": [
        "model.wv.most_similar('house')"
      ],
      "metadata": {
        "colab": {
          "base_uri": "https://localhost:8080/"
        },
        "id": "3is91rTZKV8V",
        "outputId": "68cd97a9-16ed-4f93-d5a0-4ab34c8c9c48"
      },
      "execution_count": 49,
      "outputs": [
        {
          "output_type": "execute_result",
          "data": {
            "text/plain": [
              "[('seemed', 0.2617650628089905),\n",
              " ('edge', 0.24428975582122803),\n",
              " ('picked', 0.21808312833309174),\n",
              " ('found', 0.18108545243740082),\n",
              " ('match', 0.16251622140407562),\n",
              " ('moving', 0.1521281599998474),\n",
              " ('back', 0.15195345878601074),\n",
              " ('national', 0.14823314547538757),\n",
              " ('happiest', 0.1447581648826599),\n",
              " ('trees', 0.13342557847499847)]"
            ]
          },
          "metadata": {},
          "execution_count": 49
        }
      ]
    },
    {
      "cell_type": "code",
      "source": [
        ""
      ],
      "metadata": {
        "id": "IJT4jf8LKftY"
      },
      "execution_count": null,
      "outputs": []
    }
  ]
}