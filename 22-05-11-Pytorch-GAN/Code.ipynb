{
  "nbformat": 4,
  "nbformat_minor": 0,
  "metadata": {
    "colab": {
      "name": "Pytorch DCGAN.ipynb",
      "provenance": [],
      "collapsed_sections": [],
      "authorship_tag": "ABX9TyMMs47lWAeL3REm6X6iwvGs",
      "include_colab_link": true
    },
    "kernelspec": {
      "name": "python3",
      "display_name": "Python 3"
    },
    "language_info": {
      "name": "python"
    },
    "accelerator": "GPU",
    "widgets": {
      "application/vnd.jupyter.widget-state+json": {
        "1c0cb57287b544e080d7668d715eb6b9": {
          "model_module": "@jupyter-widgets/controls",
          "model_name": "HBoxModel",
          "model_module_version": "1.5.0",
          "state": {
            "_dom_classes": [],
            "_model_module": "@jupyter-widgets/controls",
            "_model_module_version": "1.5.0",
            "_model_name": "HBoxModel",
            "_view_count": null,
            "_view_module": "@jupyter-widgets/controls",
            "_view_module_version": "1.5.0",
            "_view_name": "HBoxView",
            "box_style": "",
            "children": [
              "IPY_MODEL_288f0b0f90f741298610e74a07eeb30d",
              "IPY_MODEL_f89ad1d3a6434451bf2385999e832102",
              "IPY_MODEL_4bc553af415d458b97fc9d376ab6d668"
            ],
            "layout": "IPY_MODEL_655045b3b5bc45e6a51660f12ec2f0a9"
          }
        },
        "288f0b0f90f741298610e74a07eeb30d": {
          "model_module": "@jupyter-widgets/controls",
          "model_name": "HTMLModel",
          "model_module_version": "1.5.0",
          "state": {
            "_dom_classes": [],
            "_model_module": "@jupyter-widgets/controls",
            "_model_module_version": "1.5.0",
            "_model_name": "HTMLModel",
            "_view_count": null,
            "_view_module": "@jupyter-widgets/controls",
            "_view_module_version": "1.5.0",
            "_view_name": "HTMLView",
            "description": "",
            "description_tooltip": null,
            "layout": "IPY_MODEL_eba6d06a60624b2d99f848eebbfdf5ed",
            "placeholder": "​",
            "style": "IPY_MODEL_e8cabb1a3193424d868838aba08e9958",
            "value": ""
          }
        },
        "f89ad1d3a6434451bf2385999e832102": {
          "model_module": "@jupyter-widgets/controls",
          "model_name": "FloatProgressModel",
          "model_module_version": "1.5.0",
          "state": {
            "_dom_classes": [],
            "_model_module": "@jupyter-widgets/controls",
            "_model_module_version": "1.5.0",
            "_model_name": "FloatProgressModel",
            "_view_count": null,
            "_view_module": "@jupyter-widgets/controls",
            "_view_module_version": "1.5.0",
            "_view_name": "ProgressView",
            "bar_style": "success",
            "description": "",
            "description_tooltip": null,
            "layout": "IPY_MODEL_2068cf55a4d3487a86ff71fb5eac6f5a",
            "max": 9912422,
            "min": 0,
            "orientation": "horizontal",
            "style": "IPY_MODEL_731bd0dca1f0432e8c663164758c84a3",
            "value": 9912422
          }
        },
        "4bc553af415d458b97fc9d376ab6d668": {
          "model_module": "@jupyter-widgets/controls",
          "model_name": "HTMLModel",
          "model_module_version": "1.5.0",
          "state": {
            "_dom_classes": [],
            "_model_module": "@jupyter-widgets/controls",
            "_model_module_version": "1.5.0",
            "_model_name": "HTMLModel",
            "_view_count": null,
            "_view_module": "@jupyter-widgets/controls",
            "_view_module_version": "1.5.0",
            "_view_name": "HTMLView",
            "description": "",
            "description_tooltip": null,
            "layout": "IPY_MODEL_5289bc9ac07649e59e5e878000c4dbbb",
            "placeholder": "​",
            "style": "IPY_MODEL_95f4432c337245c895b621414096b4c7",
            "value": " 9913344/? [00:00&lt;00:00, 54422257.34it/s]"
          }
        },
        "655045b3b5bc45e6a51660f12ec2f0a9": {
          "model_module": "@jupyter-widgets/base",
          "model_name": "LayoutModel",
          "model_module_version": "1.2.0",
          "state": {
            "_model_module": "@jupyter-widgets/base",
            "_model_module_version": "1.2.0",
            "_model_name": "LayoutModel",
            "_view_count": null,
            "_view_module": "@jupyter-widgets/base",
            "_view_module_version": "1.2.0",
            "_view_name": "LayoutView",
            "align_content": null,
            "align_items": null,
            "align_self": null,
            "border": null,
            "bottom": null,
            "display": null,
            "flex": null,
            "flex_flow": null,
            "grid_area": null,
            "grid_auto_columns": null,
            "grid_auto_flow": null,
            "grid_auto_rows": null,
            "grid_column": null,
            "grid_gap": null,
            "grid_row": null,
            "grid_template_areas": null,
            "grid_template_columns": null,
            "grid_template_rows": null,
            "height": null,
            "justify_content": null,
            "justify_items": null,
            "left": null,
            "margin": null,
            "max_height": null,
            "max_width": null,
            "min_height": null,
            "min_width": null,
            "object_fit": null,
            "object_position": null,
            "order": null,
            "overflow": null,
            "overflow_x": null,
            "overflow_y": null,
            "padding": null,
            "right": null,
            "top": null,
            "visibility": null,
            "width": null
          }
        },
        "eba6d06a60624b2d99f848eebbfdf5ed": {
          "model_module": "@jupyter-widgets/base",
          "model_name": "LayoutModel",
          "model_module_version": "1.2.0",
          "state": {
            "_model_module": "@jupyter-widgets/base",
            "_model_module_version": "1.2.0",
            "_model_name": "LayoutModel",
            "_view_count": null,
            "_view_module": "@jupyter-widgets/base",
            "_view_module_version": "1.2.0",
            "_view_name": "LayoutView",
            "align_content": null,
            "align_items": null,
            "align_self": null,
            "border": null,
            "bottom": null,
            "display": null,
            "flex": null,
            "flex_flow": null,
            "grid_area": null,
            "grid_auto_columns": null,
            "grid_auto_flow": null,
            "grid_auto_rows": null,
            "grid_column": null,
            "grid_gap": null,
            "grid_row": null,
            "grid_template_areas": null,
            "grid_template_columns": null,
            "grid_template_rows": null,
            "height": null,
            "justify_content": null,
            "justify_items": null,
            "left": null,
            "margin": null,
            "max_height": null,
            "max_width": null,
            "min_height": null,
            "min_width": null,
            "object_fit": null,
            "object_position": null,
            "order": null,
            "overflow": null,
            "overflow_x": null,
            "overflow_y": null,
            "padding": null,
            "right": null,
            "top": null,
            "visibility": null,
            "width": null
          }
        },
        "e8cabb1a3193424d868838aba08e9958": {
          "model_module": "@jupyter-widgets/controls",
          "model_name": "DescriptionStyleModel",
          "model_module_version": "1.5.0",
          "state": {
            "_model_module": "@jupyter-widgets/controls",
            "_model_module_version": "1.5.0",
            "_model_name": "DescriptionStyleModel",
            "_view_count": null,
            "_view_module": "@jupyter-widgets/base",
            "_view_module_version": "1.2.0",
            "_view_name": "StyleView",
            "description_width": ""
          }
        },
        "2068cf55a4d3487a86ff71fb5eac6f5a": {
          "model_module": "@jupyter-widgets/base",
          "model_name": "LayoutModel",
          "model_module_version": "1.2.0",
          "state": {
            "_model_module": "@jupyter-widgets/base",
            "_model_module_version": "1.2.0",
            "_model_name": "LayoutModel",
            "_view_count": null,
            "_view_module": "@jupyter-widgets/base",
            "_view_module_version": "1.2.0",
            "_view_name": "LayoutView",
            "align_content": null,
            "align_items": null,
            "align_self": null,
            "border": null,
            "bottom": null,
            "display": null,
            "flex": null,
            "flex_flow": null,
            "grid_area": null,
            "grid_auto_columns": null,
            "grid_auto_flow": null,
            "grid_auto_rows": null,
            "grid_column": null,
            "grid_gap": null,
            "grid_row": null,
            "grid_template_areas": null,
            "grid_template_columns": null,
            "grid_template_rows": null,
            "height": null,
            "justify_content": null,
            "justify_items": null,
            "left": null,
            "margin": null,
            "max_height": null,
            "max_width": null,
            "min_height": null,
            "min_width": null,
            "object_fit": null,
            "object_position": null,
            "order": null,
            "overflow": null,
            "overflow_x": null,
            "overflow_y": null,
            "padding": null,
            "right": null,
            "top": null,
            "visibility": null,
            "width": null
          }
        },
        "731bd0dca1f0432e8c663164758c84a3": {
          "model_module": "@jupyter-widgets/controls",
          "model_name": "ProgressStyleModel",
          "model_module_version": "1.5.0",
          "state": {
            "_model_module": "@jupyter-widgets/controls",
            "_model_module_version": "1.5.0",
            "_model_name": "ProgressStyleModel",
            "_view_count": null,
            "_view_module": "@jupyter-widgets/base",
            "_view_module_version": "1.2.0",
            "_view_name": "StyleView",
            "bar_color": null,
            "description_width": ""
          }
        },
        "5289bc9ac07649e59e5e878000c4dbbb": {
          "model_module": "@jupyter-widgets/base",
          "model_name": "LayoutModel",
          "model_module_version": "1.2.0",
          "state": {
            "_model_module": "@jupyter-widgets/base",
            "_model_module_version": "1.2.0",
            "_model_name": "LayoutModel",
            "_view_count": null,
            "_view_module": "@jupyter-widgets/base",
            "_view_module_version": "1.2.0",
            "_view_name": "LayoutView",
            "align_content": null,
            "align_items": null,
            "align_self": null,
            "border": null,
            "bottom": null,
            "display": null,
            "flex": null,
            "flex_flow": null,
            "grid_area": null,
            "grid_auto_columns": null,
            "grid_auto_flow": null,
            "grid_auto_rows": null,
            "grid_column": null,
            "grid_gap": null,
            "grid_row": null,
            "grid_template_areas": null,
            "grid_template_columns": null,
            "grid_template_rows": null,
            "height": null,
            "justify_content": null,
            "justify_items": null,
            "left": null,
            "margin": null,
            "max_height": null,
            "max_width": null,
            "min_height": null,
            "min_width": null,
            "object_fit": null,
            "object_position": null,
            "order": null,
            "overflow": null,
            "overflow_x": null,
            "overflow_y": null,
            "padding": null,
            "right": null,
            "top": null,
            "visibility": null,
            "width": null
          }
        },
        "95f4432c337245c895b621414096b4c7": {
          "model_module": "@jupyter-widgets/controls",
          "model_name": "DescriptionStyleModel",
          "model_module_version": "1.5.0",
          "state": {
            "_model_module": "@jupyter-widgets/controls",
            "_model_module_version": "1.5.0",
            "_model_name": "DescriptionStyleModel",
            "_view_count": null,
            "_view_module": "@jupyter-widgets/base",
            "_view_module_version": "1.2.0",
            "_view_name": "StyleView",
            "description_width": ""
          }
        },
        "8dc4a8f346ef4686bd175778e7e6f67b": {
          "model_module": "@jupyter-widgets/controls",
          "model_name": "HBoxModel",
          "model_module_version": "1.5.0",
          "state": {
            "_dom_classes": [],
            "_model_module": "@jupyter-widgets/controls",
            "_model_module_version": "1.5.0",
            "_model_name": "HBoxModel",
            "_view_count": null,
            "_view_module": "@jupyter-widgets/controls",
            "_view_module_version": "1.5.0",
            "_view_name": "HBoxView",
            "box_style": "",
            "children": [
              "IPY_MODEL_4b71547b175345b992b47aeb6e8bf7d2",
              "IPY_MODEL_3a646b55b1944c8fa1a4f38d30ce5fc7",
              "IPY_MODEL_140a56748d394812aa539d669a45c503"
            ],
            "layout": "IPY_MODEL_94bdac23cbb74ae49937f366591280c9"
          }
        },
        "4b71547b175345b992b47aeb6e8bf7d2": {
          "model_module": "@jupyter-widgets/controls",
          "model_name": "HTMLModel",
          "model_module_version": "1.5.0",
          "state": {
            "_dom_classes": [],
            "_model_module": "@jupyter-widgets/controls",
            "_model_module_version": "1.5.0",
            "_model_name": "HTMLModel",
            "_view_count": null,
            "_view_module": "@jupyter-widgets/controls",
            "_view_module_version": "1.5.0",
            "_view_name": "HTMLView",
            "description": "",
            "description_tooltip": null,
            "layout": "IPY_MODEL_a6dbb8fbfe8e4b5a8af4ea72a0c8adfb",
            "placeholder": "​",
            "style": "IPY_MODEL_4f3365cb40e945c595f986c73cf92ca1",
            "value": ""
          }
        },
        "3a646b55b1944c8fa1a4f38d30ce5fc7": {
          "model_module": "@jupyter-widgets/controls",
          "model_name": "FloatProgressModel",
          "model_module_version": "1.5.0",
          "state": {
            "_dom_classes": [],
            "_model_module": "@jupyter-widgets/controls",
            "_model_module_version": "1.5.0",
            "_model_name": "FloatProgressModel",
            "_view_count": null,
            "_view_module": "@jupyter-widgets/controls",
            "_view_module_version": "1.5.0",
            "_view_name": "ProgressView",
            "bar_style": "success",
            "description": "",
            "description_tooltip": null,
            "layout": "IPY_MODEL_25f0077f0f14445da4f465125ac8a613",
            "max": 28881,
            "min": 0,
            "orientation": "horizontal",
            "style": "IPY_MODEL_f73cfc93570b43d18f15e6b1947ad01a",
            "value": 28881
          }
        },
        "140a56748d394812aa539d669a45c503": {
          "model_module": "@jupyter-widgets/controls",
          "model_name": "HTMLModel",
          "model_module_version": "1.5.0",
          "state": {
            "_dom_classes": [],
            "_model_module": "@jupyter-widgets/controls",
            "_model_module_version": "1.5.0",
            "_model_name": "HTMLModel",
            "_view_count": null,
            "_view_module": "@jupyter-widgets/controls",
            "_view_module_version": "1.5.0",
            "_view_name": "HTMLView",
            "description": "",
            "description_tooltip": null,
            "layout": "IPY_MODEL_46af6b5f2f6541b4b0b7928a045680f1",
            "placeholder": "​",
            "style": "IPY_MODEL_e0943800157843b6ad6515cb47219de6",
            "value": " 29696/? [00:00&lt;00:00, 757462.18it/s]"
          }
        },
        "94bdac23cbb74ae49937f366591280c9": {
          "model_module": "@jupyter-widgets/base",
          "model_name": "LayoutModel",
          "model_module_version": "1.2.0",
          "state": {
            "_model_module": "@jupyter-widgets/base",
            "_model_module_version": "1.2.0",
            "_model_name": "LayoutModel",
            "_view_count": null,
            "_view_module": "@jupyter-widgets/base",
            "_view_module_version": "1.2.0",
            "_view_name": "LayoutView",
            "align_content": null,
            "align_items": null,
            "align_self": null,
            "border": null,
            "bottom": null,
            "display": null,
            "flex": null,
            "flex_flow": null,
            "grid_area": null,
            "grid_auto_columns": null,
            "grid_auto_flow": null,
            "grid_auto_rows": null,
            "grid_column": null,
            "grid_gap": null,
            "grid_row": null,
            "grid_template_areas": null,
            "grid_template_columns": null,
            "grid_template_rows": null,
            "height": null,
            "justify_content": null,
            "justify_items": null,
            "left": null,
            "margin": null,
            "max_height": null,
            "max_width": null,
            "min_height": null,
            "min_width": null,
            "object_fit": null,
            "object_position": null,
            "order": null,
            "overflow": null,
            "overflow_x": null,
            "overflow_y": null,
            "padding": null,
            "right": null,
            "top": null,
            "visibility": null,
            "width": null
          }
        },
        "a6dbb8fbfe8e4b5a8af4ea72a0c8adfb": {
          "model_module": "@jupyter-widgets/base",
          "model_name": "LayoutModel",
          "model_module_version": "1.2.0",
          "state": {
            "_model_module": "@jupyter-widgets/base",
            "_model_module_version": "1.2.0",
            "_model_name": "LayoutModel",
            "_view_count": null,
            "_view_module": "@jupyter-widgets/base",
            "_view_module_version": "1.2.0",
            "_view_name": "LayoutView",
            "align_content": null,
            "align_items": null,
            "align_self": null,
            "border": null,
            "bottom": null,
            "display": null,
            "flex": null,
            "flex_flow": null,
            "grid_area": null,
            "grid_auto_columns": null,
            "grid_auto_flow": null,
            "grid_auto_rows": null,
            "grid_column": null,
            "grid_gap": null,
            "grid_row": null,
            "grid_template_areas": null,
            "grid_template_columns": null,
            "grid_template_rows": null,
            "height": null,
            "justify_content": null,
            "justify_items": null,
            "left": null,
            "margin": null,
            "max_height": null,
            "max_width": null,
            "min_height": null,
            "min_width": null,
            "object_fit": null,
            "object_position": null,
            "order": null,
            "overflow": null,
            "overflow_x": null,
            "overflow_y": null,
            "padding": null,
            "right": null,
            "top": null,
            "visibility": null,
            "width": null
          }
        },
        "4f3365cb40e945c595f986c73cf92ca1": {
          "model_module": "@jupyter-widgets/controls",
          "model_name": "DescriptionStyleModel",
          "model_module_version": "1.5.0",
          "state": {
            "_model_module": "@jupyter-widgets/controls",
            "_model_module_version": "1.5.0",
            "_model_name": "DescriptionStyleModel",
            "_view_count": null,
            "_view_module": "@jupyter-widgets/base",
            "_view_module_version": "1.2.0",
            "_view_name": "StyleView",
            "description_width": ""
          }
        },
        "25f0077f0f14445da4f465125ac8a613": {
          "model_module": "@jupyter-widgets/base",
          "model_name": "LayoutModel",
          "model_module_version": "1.2.0",
          "state": {
            "_model_module": "@jupyter-widgets/base",
            "_model_module_version": "1.2.0",
            "_model_name": "LayoutModel",
            "_view_count": null,
            "_view_module": "@jupyter-widgets/base",
            "_view_module_version": "1.2.0",
            "_view_name": "LayoutView",
            "align_content": null,
            "align_items": null,
            "align_self": null,
            "border": null,
            "bottom": null,
            "display": null,
            "flex": null,
            "flex_flow": null,
            "grid_area": null,
            "grid_auto_columns": null,
            "grid_auto_flow": null,
            "grid_auto_rows": null,
            "grid_column": null,
            "grid_gap": null,
            "grid_row": null,
            "grid_template_areas": null,
            "grid_template_columns": null,
            "grid_template_rows": null,
            "height": null,
            "justify_content": null,
            "justify_items": null,
            "left": null,
            "margin": null,
            "max_height": null,
            "max_width": null,
            "min_height": null,
            "min_width": null,
            "object_fit": null,
            "object_position": null,
            "order": null,
            "overflow": null,
            "overflow_x": null,
            "overflow_y": null,
            "padding": null,
            "right": null,
            "top": null,
            "visibility": null,
            "width": null
          }
        },
        "f73cfc93570b43d18f15e6b1947ad01a": {
          "model_module": "@jupyter-widgets/controls",
          "model_name": "ProgressStyleModel",
          "model_module_version": "1.5.0",
          "state": {
            "_model_module": "@jupyter-widgets/controls",
            "_model_module_version": "1.5.0",
            "_model_name": "ProgressStyleModel",
            "_view_count": null,
            "_view_module": "@jupyter-widgets/base",
            "_view_module_version": "1.2.0",
            "_view_name": "StyleView",
            "bar_color": null,
            "description_width": ""
          }
        },
        "46af6b5f2f6541b4b0b7928a045680f1": {
          "model_module": "@jupyter-widgets/base",
          "model_name": "LayoutModel",
          "model_module_version": "1.2.0",
          "state": {
            "_model_module": "@jupyter-widgets/base",
            "_model_module_version": "1.2.0",
            "_model_name": "LayoutModel",
            "_view_count": null,
            "_view_module": "@jupyter-widgets/base",
            "_view_module_version": "1.2.0",
            "_view_name": "LayoutView",
            "align_content": null,
            "align_items": null,
            "align_self": null,
            "border": null,
            "bottom": null,
            "display": null,
            "flex": null,
            "flex_flow": null,
            "grid_area": null,
            "grid_auto_columns": null,
            "grid_auto_flow": null,
            "grid_auto_rows": null,
            "grid_column": null,
            "grid_gap": null,
            "grid_row": null,
            "grid_template_areas": null,
            "grid_template_columns": null,
            "grid_template_rows": null,
            "height": null,
            "justify_content": null,
            "justify_items": null,
            "left": null,
            "margin": null,
            "max_height": null,
            "max_width": null,
            "min_height": null,
            "min_width": null,
            "object_fit": null,
            "object_position": null,
            "order": null,
            "overflow": null,
            "overflow_x": null,
            "overflow_y": null,
            "padding": null,
            "right": null,
            "top": null,
            "visibility": null,
            "width": null
          }
        },
        "e0943800157843b6ad6515cb47219de6": {
          "model_module": "@jupyter-widgets/controls",
          "model_name": "DescriptionStyleModel",
          "model_module_version": "1.5.0",
          "state": {
            "_model_module": "@jupyter-widgets/controls",
            "_model_module_version": "1.5.0",
            "_model_name": "DescriptionStyleModel",
            "_view_count": null,
            "_view_module": "@jupyter-widgets/base",
            "_view_module_version": "1.2.0",
            "_view_name": "StyleView",
            "description_width": ""
          }
        },
        "709f37c3c68f40a8a8173be4cea3fd33": {
          "model_module": "@jupyter-widgets/controls",
          "model_name": "HBoxModel",
          "model_module_version": "1.5.0",
          "state": {
            "_dom_classes": [],
            "_model_module": "@jupyter-widgets/controls",
            "_model_module_version": "1.5.0",
            "_model_name": "HBoxModel",
            "_view_count": null,
            "_view_module": "@jupyter-widgets/controls",
            "_view_module_version": "1.5.0",
            "_view_name": "HBoxView",
            "box_style": "",
            "children": [
              "IPY_MODEL_ac064665b468416cbdc5919f2107472d",
              "IPY_MODEL_a1d27b0e0e1e4391a882df662aa5eb21",
              "IPY_MODEL_a47966f304e642068efaaedabf2f0a05"
            ],
            "layout": "IPY_MODEL_b78ae9c74bab4d66a570a63ab048a189"
          }
        },
        "ac064665b468416cbdc5919f2107472d": {
          "model_module": "@jupyter-widgets/controls",
          "model_name": "HTMLModel",
          "model_module_version": "1.5.0",
          "state": {
            "_dom_classes": [],
            "_model_module": "@jupyter-widgets/controls",
            "_model_module_version": "1.5.0",
            "_model_name": "HTMLModel",
            "_view_count": null,
            "_view_module": "@jupyter-widgets/controls",
            "_view_module_version": "1.5.0",
            "_view_name": "HTMLView",
            "description": "",
            "description_tooltip": null,
            "layout": "IPY_MODEL_81789d74785c4010ab433c48a5320fe5",
            "placeholder": "​",
            "style": "IPY_MODEL_28ca36a6514c449fbcb114c220f33c96",
            "value": ""
          }
        },
        "a1d27b0e0e1e4391a882df662aa5eb21": {
          "model_module": "@jupyter-widgets/controls",
          "model_name": "FloatProgressModel",
          "model_module_version": "1.5.0",
          "state": {
            "_dom_classes": [],
            "_model_module": "@jupyter-widgets/controls",
            "_model_module_version": "1.5.0",
            "_model_name": "FloatProgressModel",
            "_view_count": null,
            "_view_module": "@jupyter-widgets/controls",
            "_view_module_version": "1.5.0",
            "_view_name": "ProgressView",
            "bar_style": "success",
            "description": "",
            "description_tooltip": null,
            "layout": "IPY_MODEL_ce56021206204662a342e8d4b9f66901",
            "max": 1648877,
            "min": 0,
            "orientation": "horizontal",
            "style": "IPY_MODEL_d54bb76c33d94273b07360b5bf8752c9",
            "value": 1648877
          }
        },
        "a47966f304e642068efaaedabf2f0a05": {
          "model_module": "@jupyter-widgets/controls",
          "model_name": "HTMLModel",
          "model_module_version": "1.5.0",
          "state": {
            "_dom_classes": [],
            "_model_module": "@jupyter-widgets/controls",
            "_model_module_version": "1.5.0",
            "_model_name": "HTMLModel",
            "_view_count": null,
            "_view_module": "@jupyter-widgets/controls",
            "_view_module_version": "1.5.0",
            "_view_name": "HTMLView",
            "description": "",
            "description_tooltip": null,
            "layout": "IPY_MODEL_8bf7d54f69234a26b3ca45dc0d9b35e1",
            "placeholder": "​",
            "style": "IPY_MODEL_f5272b1c48e944079f18b23502a540f9",
            "value": " 1649664/? [00:00&lt;00:00, 5578659.63it/s]"
          }
        },
        "b78ae9c74bab4d66a570a63ab048a189": {
          "model_module": "@jupyter-widgets/base",
          "model_name": "LayoutModel",
          "model_module_version": "1.2.0",
          "state": {
            "_model_module": "@jupyter-widgets/base",
            "_model_module_version": "1.2.0",
            "_model_name": "LayoutModel",
            "_view_count": null,
            "_view_module": "@jupyter-widgets/base",
            "_view_module_version": "1.2.0",
            "_view_name": "LayoutView",
            "align_content": null,
            "align_items": null,
            "align_self": null,
            "border": null,
            "bottom": null,
            "display": null,
            "flex": null,
            "flex_flow": null,
            "grid_area": null,
            "grid_auto_columns": null,
            "grid_auto_flow": null,
            "grid_auto_rows": null,
            "grid_column": null,
            "grid_gap": null,
            "grid_row": null,
            "grid_template_areas": null,
            "grid_template_columns": null,
            "grid_template_rows": null,
            "height": null,
            "justify_content": null,
            "justify_items": null,
            "left": null,
            "margin": null,
            "max_height": null,
            "max_width": null,
            "min_height": null,
            "min_width": null,
            "object_fit": null,
            "object_position": null,
            "order": null,
            "overflow": null,
            "overflow_x": null,
            "overflow_y": null,
            "padding": null,
            "right": null,
            "top": null,
            "visibility": null,
            "width": null
          }
        },
        "81789d74785c4010ab433c48a5320fe5": {
          "model_module": "@jupyter-widgets/base",
          "model_name": "LayoutModel",
          "model_module_version": "1.2.0",
          "state": {
            "_model_module": "@jupyter-widgets/base",
            "_model_module_version": "1.2.0",
            "_model_name": "LayoutModel",
            "_view_count": null,
            "_view_module": "@jupyter-widgets/base",
            "_view_module_version": "1.2.0",
            "_view_name": "LayoutView",
            "align_content": null,
            "align_items": null,
            "align_self": null,
            "border": null,
            "bottom": null,
            "display": null,
            "flex": null,
            "flex_flow": null,
            "grid_area": null,
            "grid_auto_columns": null,
            "grid_auto_flow": null,
            "grid_auto_rows": null,
            "grid_column": null,
            "grid_gap": null,
            "grid_row": null,
            "grid_template_areas": null,
            "grid_template_columns": null,
            "grid_template_rows": null,
            "height": null,
            "justify_content": null,
            "justify_items": null,
            "left": null,
            "margin": null,
            "max_height": null,
            "max_width": null,
            "min_height": null,
            "min_width": null,
            "object_fit": null,
            "object_position": null,
            "order": null,
            "overflow": null,
            "overflow_x": null,
            "overflow_y": null,
            "padding": null,
            "right": null,
            "top": null,
            "visibility": null,
            "width": null
          }
        },
        "28ca36a6514c449fbcb114c220f33c96": {
          "model_module": "@jupyter-widgets/controls",
          "model_name": "DescriptionStyleModel",
          "model_module_version": "1.5.0",
          "state": {
            "_model_module": "@jupyter-widgets/controls",
            "_model_module_version": "1.5.0",
            "_model_name": "DescriptionStyleModel",
            "_view_count": null,
            "_view_module": "@jupyter-widgets/base",
            "_view_module_version": "1.2.0",
            "_view_name": "StyleView",
            "description_width": ""
          }
        },
        "ce56021206204662a342e8d4b9f66901": {
          "model_module": "@jupyter-widgets/base",
          "model_name": "LayoutModel",
          "model_module_version": "1.2.0",
          "state": {
            "_model_module": "@jupyter-widgets/base",
            "_model_module_version": "1.2.0",
            "_model_name": "LayoutModel",
            "_view_count": null,
            "_view_module": "@jupyter-widgets/base",
            "_view_module_version": "1.2.0",
            "_view_name": "LayoutView",
            "align_content": null,
            "align_items": null,
            "align_self": null,
            "border": null,
            "bottom": null,
            "display": null,
            "flex": null,
            "flex_flow": null,
            "grid_area": null,
            "grid_auto_columns": null,
            "grid_auto_flow": null,
            "grid_auto_rows": null,
            "grid_column": null,
            "grid_gap": null,
            "grid_row": null,
            "grid_template_areas": null,
            "grid_template_columns": null,
            "grid_template_rows": null,
            "height": null,
            "justify_content": null,
            "justify_items": null,
            "left": null,
            "margin": null,
            "max_height": null,
            "max_width": null,
            "min_height": null,
            "min_width": null,
            "object_fit": null,
            "object_position": null,
            "order": null,
            "overflow": null,
            "overflow_x": null,
            "overflow_y": null,
            "padding": null,
            "right": null,
            "top": null,
            "visibility": null,
            "width": null
          }
        },
        "d54bb76c33d94273b07360b5bf8752c9": {
          "model_module": "@jupyter-widgets/controls",
          "model_name": "ProgressStyleModel",
          "model_module_version": "1.5.0",
          "state": {
            "_model_module": "@jupyter-widgets/controls",
            "_model_module_version": "1.5.0",
            "_model_name": "ProgressStyleModel",
            "_view_count": null,
            "_view_module": "@jupyter-widgets/base",
            "_view_module_version": "1.2.0",
            "_view_name": "StyleView",
            "bar_color": null,
            "description_width": ""
          }
        },
        "8bf7d54f69234a26b3ca45dc0d9b35e1": {
          "model_module": "@jupyter-widgets/base",
          "model_name": "LayoutModel",
          "model_module_version": "1.2.0",
          "state": {
            "_model_module": "@jupyter-widgets/base",
            "_model_module_version": "1.2.0",
            "_model_name": "LayoutModel",
            "_view_count": null,
            "_view_module": "@jupyter-widgets/base",
            "_view_module_version": "1.2.0",
            "_view_name": "LayoutView",
            "align_content": null,
            "align_items": null,
            "align_self": null,
            "border": null,
            "bottom": null,
            "display": null,
            "flex": null,
            "flex_flow": null,
            "grid_area": null,
            "grid_auto_columns": null,
            "grid_auto_flow": null,
            "grid_auto_rows": null,
            "grid_column": null,
            "grid_gap": null,
            "grid_row": null,
            "grid_template_areas": null,
            "grid_template_columns": null,
            "grid_template_rows": null,
            "height": null,
            "justify_content": null,
            "justify_items": null,
            "left": null,
            "margin": null,
            "max_height": null,
            "max_width": null,
            "min_height": null,
            "min_width": null,
            "object_fit": null,
            "object_position": null,
            "order": null,
            "overflow": null,
            "overflow_x": null,
            "overflow_y": null,
            "padding": null,
            "right": null,
            "top": null,
            "visibility": null,
            "width": null
          }
        },
        "f5272b1c48e944079f18b23502a540f9": {
          "model_module": "@jupyter-widgets/controls",
          "model_name": "DescriptionStyleModel",
          "model_module_version": "1.5.0",
          "state": {
            "_model_module": "@jupyter-widgets/controls",
            "_model_module_version": "1.5.0",
            "_model_name": "DescriptionStyleModel",
            "_view_count": null,
            "_view_module": "@jupyter-widgets/base",
            "_view_module_version": "1.2.0",
            "_view_name": "StyleView",
            "description_width": ""
          }
        },
        "9d0d83d04dd646d28f842adbb465a90c": {
          "model_module": "@jupyter-widgets/controls",
          "model_name": "HBoxModel",
          "model_module_version": "1.5.0",
          "state": {
            "_dom_classes": [],
            "_model_module": "@jupyter-widgets/controls",
            "_model_module_version": "1.5.0",
            "_model_name": "HBoxModel",
            "_view_count": null,
            "_view_module": "@jupyter-widgets/controls",
            "_view_module_version": "1.5.0",
            "_view_name": "HBoxView",
            "box_style": "",
            "children": [
              "IPY_MODEL_99c931d8f8ce4d8995d700499cc7cbd2",
              "IPY_MODEL_e148c13f2492432f9e87575c1cefc362",
              "IPY_MODEL_c90e2853e94e48ccb5ecb49b504a730a"
            ],
            "layout": "IPY_MODEL_25cb9e97078745e380c36b9c76399b52"
          }
        },
        "99c931d8f8ce4d8995d700499cc7cbd2": {
          "model_module": "@jupyter-widgets/controls",
          "model_name": "HTMLModel",
          "model_module_version": "1.5.0",
          "state": {
            "_dom_classes": [],
            "_model_module": "@jupyter-widgets/controls",
            "_model_module_version": "1.5.0",
            "_model_name": "HTMLModel",
            "_view_count": null,
            "_view_module": "@jupyter-widgets/controls",
            "_view_module_version": "1.5.0",
            "_view_name": "HTMLView",
            "description": "",
            "description_tooltip": null,
            "layout": "IPY_MODEL_d70bf20d842045d68aa6ffb8323fe37b",
            "placeholder": "​",
            "style": "IPY_MODEL_297c4deca3d54b48818eacaeff8f6629",
            "value": ""
          }
        },
        "e148c13f2492432f9e87575c1cefc362": {
          "model_module": "@jupyter-widgets/controls",
          "model_name": "FloatProgressModel",
          "model_module_version": "1.5.0",
          "state": {
            "_dom_classes": [],
            "_model_module": "@jupyter-widgets/controls",
            "_model_module_version": "1.5.0",
            "_model_name": "FloatProgressModel",
            "_view_count": null,
            "_view_module": "@jupyter-widgets/controls",
            "_view_module_version": "1.5.0",
            "_view_name": "ProgressView",
            "bar_style": "success",
            "description": "",
            "description_tooltip": null,
            "layout": "IPY_MODEL_34a7c0dea51c4530b821ea8f74de1d8f",
            "max": 4542,
            "min": 0,
            "orientation": "horizontal",
            "style": "IPY_MODEL_0c00a56d069e4274912d0e236b0bc1a4",
            "value": 4542
          }
        },
        "c90e2853e94e48ccb5ecb49b504a730a": {
          "model_module": "@jupyter-widgets/controls",
          "model_name": "HTMLModel",
          "model_module_version": "1.5.0",
          "state": {
            "_dom_classes": [],
            "_model_module": "@jupyter-widgets/controls",
            "_model_module_version": "1.5.0",
            "_model_name": "HTMLModel",
            "_view_count": null,
            "_view_module": "@jupyter-widgets/controls",
            "_view_module_version": "1.5.0",
            "_view_name": "HTMLView",
            "description": "",
            "description_tooltip": null,
            "layout": "IPY_MODEL_f7300c599cbb4aec8a006eef91809a05",
            "placeholder": "​",
            "style": "IPY_MODEL_b5590ed2ddbb40fbbc75ff14795495b1",
            "value": " 5120/? [00:00&lt;00:00, 127302.04it/s]"
          }
        },
        "25cb9e97078745e380c36b9c76399b52": {
          "model_module": "@jupyter-widgets/base",
          "model_name": "LayoutModel",
          "model_module_version": "1.2.0",
          "state": {
            "_model_module": "@jupyter-widgets/base",
            "_model_module_version": "1.2.0",
            "_model_name": "LayoutModel",
            "_view_count": null,
            "_view_module": "@jupyter-widgets/base",
            "_view_module_version": "1.2.0",
            "_view_name": "LayoutView",
            "align_content": null,
            "align_items": null,
            "align_self": null,
            "border": null,
            "bottom": null,
            "display": null,
            "flex": null,
            "flex_flow": null,
            "grid_area": null,
            "grid_auto_columns": null,
            "grid_auto_flow": null,
            "grid_auto_rows": null,
            "grid_column": null,
            "grid_gap": null,
            "grid_row": null,
            "grid_template_areas": null,
            "grid_template_columns": null,
            "grid_template_rows": null,
            "height": null,
            "justify_content": null,
            "justify_items": null,
            "left": null,
            "margin": null,
            "max_height": null,
            "max_width": null,
            "min_height": null,
            "min_width": null,
            "object_fit": null,
            "object_position": null,
            "order": null,
            "overflow": null,
            "overflow_x": null,
            "overflow_y": null,
            "padding": null,
            "right": null,
            "top": null,
            "visibility": null,
            "width": null
          }
        },
        "d70bf20d842045d68aa6ffb8323fe37b": {
          "model_module": "@jupyter-widgets/base",
          "model_name": "LayoutModel",
          "model_module_version": "1.2.0",
          "state": {
            "_model_module": "@jupyter-widgets/base",
            "_model_module_version": "1.2.0",
            "_model_name": "LayoutModel",
            "_view_count": null,
            "_view_module": "@jupyter-widgets/base",
            "_view_module_version": "1.2.0",
            "_view_name": "LayoutView",
            "align_content": null,
            "align_items": null,
            "align_self": null,
            "border": null,
            "bottom": null,
            "display": null,
            "flex": null,
            "flex_flow": null,
            "grid_area": null,
            "grid_auto_columns": null,
            "grid_auto_flow": null,
            "grid_auto_rows": null,
            "grid_column": null,
            "grid_gap": null,
            "grid_row": null,
            "grid_template_areas": null,
            "grid_template_columns": null,
            "grid_template_rows": null,
            "height": null,
            "justify_content": null,
            "justify_items": null,
            "left": null,
            "margin": null,
            "max_height": null,
            "max_width": null,
            "min_height": null,
            "min_width": null,
            "object_fit": null,
            "object_position": null,
            "order": null,
            "overflow": null,
            "overflow_x": null,
            "overflow_y": null,
            "padding": null,
            "right": null,
            "top": null,
            "visibility": null,
            "width": null
          }
        },
        "297c4deca3d54b48818eacaeff8f6629": {
          "model_module": "@jupyter-widgets/controls",
          "model_name": "DescriptionStyleModel",
          "model_module_version": "1.5.0",
          "state": {
            "_model_module": "@jupyter-widgets/controls",
            "_model_module_version": "1.5.0",
            "_model_name": "DescriptionStyleModel",
            "_view_count": null,
            "_view_module": "@jupyter-widgets/base",
            "_view_module_version": "1.2.0",
            "_view_name": "StyleView",
            "description_width": ""
          }
        },
        "34a7c0dea51c4530b821ea8f74de1d8f": {
          "model_module": "@jupyter-widgets/base",
          "model_name": "LayoutModel",
          "model_module_version": "1.2.0",
          "state": {
            "_model_module": "@jupyter-widgets/base",
            "_model_module_version": "1.2.0",
            "_model_name": "LayoutModel",
            "_view_count": null,
            "_view_module": "@jupyter-widgets/base",
            "_view_module_version": "1.2.0",
            "_view_name": "LayoutView",
            "align_content": null,
            "align_items": null,
            "align_self": null,
            "border": null,
            "bottom": null,
            "display": null,
            "flex": null,
            "flex_flow": null,
            "grid_area": null,
            "grid_auto_columns": null,
            "grid_auto_flow": null,
            "grid_auto_rows": null,
            "grid_column": null,
            "grid_gap": null,
            "grid_row": null,
            "grid_template_areas": null,
            "grid_template_columns": null,
            "grid_template_rows": null,
            "height": null,
            "justify_content": null,
            "justify_items": null,
            "left": null,
            "margin": null,
            "max_height": null,
            "max_width": null,
            "min_height": null,
            "min_width": null,
            "object_fit": null,
            "object_position": null,
            "order": null,
            "overflow": null,
            "overflow_x": null,
            "overflow_y": null,
            "padding": null,
            "right": null,
            "top": null,
            "visibility": null,
            "width": null
          }
        },
        "0c00a56d069e4274912d0e236b0bc1a4": {
          "model_module": "@jupyter-widgets/controls",
          "model_name": "ProgressStyleModel",
          "model_module_version": "1.5.0",
          "state": {
            "_model_module": "@jupyter-widgets/controls",
            "_model_module_version": "1.5.0",
            "_model_name": "ProgressStyleModel",
            "_view_count": null,
            "_view_module": "@jupyter-widgets/base",
            "_view_module_version": "1.2.0",
            "_view_name": "StyleView",
            "bar_color": null,
            "description_width": ""
          }
        },
        "f7300c599cbb4aec8a006eef91809a05": {
          "model_module": "@jupyter-widgets/base",
          "model_name": "LayoutModel",
          "model_module_version": "1.2.0",
          "state": {
            "_model_module": "@jupyter-widgets/base",
            "_model_module_version": "1.2.0",
            "_model_name": "LayoutModel",
            "_view_count": null,
            "_view_module": "@jupyter-widgets/base",
            "_view_module_version": "1.2.0",
            "_view_name": "LayoutView",
            "align_content": null,
            "align_items": null,
            "align_self": null,
            "border": null,
            "bottom": null,
            "display": null,
            "flex": null,
            "flex_flow": null,
            "grid_area": null,
            "grid_auto_columns": null,
            "grid_auto_flow": null,
            "grid_auto_rows": null,
            "grid_column": null,
            "grid_gap": null,
            "grid_row": null,
            "grid_template_areas": null,
            "grid_template_columns": null,
            "grid_template_rows": null,
            "height": null,
            "justify_content": null,
            "justify_items": null,
            "left": null,
            "margin": null,
            "max_height": null,
            "max_width": null,
            "min_height": null,
            "min_width": null,
            "object_fit": null,
            "object_position": null,
            "order": null,
            "overflow": null,
            "overflow_x": null,
            "overflow_y": null,
            "padding": null,
            "right": null,
            "top": null,
            "visibility": null,
            "width": null
          }
        },
        "b5590ed2ddbb40fbbc75ff14795495b1": {
          "model_module": "@jupyter-widgets/controls",
          "model_name": "DescriptionStyleModel",
          "model_module_version": "1.5.0",
          "state": {
            "_model_module": "@jupyter-widgets/controls",
            "_model_module_version": "1.5.0",
            "_model_name": "DescriptionStyleModel",
            "_view_count": null,
            "_view_module": "@jupyter-widgets/base",
            "_view_module_version": "1.2.0",
            "_view_name": "StyleView",
            "description_width": ""
          }
        }
      }
    }
  },
  "cells": [
    {
      "cell_type": "markdown",
      "metadata": {
        "id": "view-in-github",
        "colab_type": "text"
      },
      "source": [
        "<a href=\"https://colab.research.google.com/github/Pepcoders/Data-Science-December/blob/main/22-05-11-Pytorch-GAN/Code.ipynb\" target=\"_parent\"><img src=\"https://colab.research.google.com/assets/colab-badge.svg\" alt=\"Open In Colab\"/></a>"
      ]
    },
    {
      "cell_type": "markdown",
      "source": [
        "https://pytorch.org/docs/stable/index.html"
      ],
      "metadata": {
        "id": "J_rYu48oyikS"
      }
    },
    {
      "cell_type": "code",
      "source": [
        "! pip3 install torch torchvision torchaudio"
      ],
      "metadata": {
        "colab": {
          "base_uri": "https://localhost:8080/"
        },
        "id": "saqOQru40F4y",
        "outputId": "bf37cedc-41e1-4381-e77f-d43ffdecff26"
      },
      "execution_count": 2,
      "outputs": [
        {
          "output_type": "stream",
          "name": "stdout",
          "text": [
            "Requirement already satisfied: torch in /usr/local/lib/python3.7/dist-packages (1.11.0+cu113)\n",
            "Requirement already satisfied: torchvision in /usr/local/lib/python3.7/dist-packages (0.12.0+cu113)\n",
            "Requirement already satisfied: torchaudio in /usr/local/lib/python3.7/dist-packages (0.11.0+cu113)\n",
            "Requirement already satisfied: typing-extensions in /usr/local/lib/python3.7/dist-packages (from torch) (4.2.0)\n",
            "Requirement already satisfied: numpy in /usr/local/lib/python3.7/dist-packages (from torchvision) (1.21.6)\n",
            "Requirement already satisfied: requests in /usr/local/lib/python3.7/dist-packages (from torchvision) (2.23.0)\n",
            "Requirement already satisfied: pillow!=8.3.*,>=5.3.0 in /usr/local/lib/python3.7/dist-packages (from torchvision) (7.1.2)\n",
            "Requirement already satisfied: certifi>=2017.4.17 in /usr/local/lib/python3.7/dist-packages (from requests->torchvision) (2021.10.8)\n",
            "Requirement already satisfied: urllib3!=1.25.0,!=1.25.1,<1.26,>=1.21.1 in /usr/local/lib/python3.7/dist-packages (from requests->torchvision) (1.24.3)\n",
            "Requirement already satisfied: chardet<4,>=3.0.2 in /usr/local/lib/python3.7/dist-packages (from requests->torchvision) (3.0.4)\n",
            "Requirement already satisfied: idna<3,>=2.5 in /usr/local/lib/python3.7/dist-packages (from requests->torchvision) (2.10)\n"
          ]
        }
      ]
    },
    {
      "cell_type": "code",
      "execution_count": 1,
      "metadata": {
        "id": "QAbxD9l4twa7"
      },
      "outputs": [],
      "source": [
        "import torch\n",
        "import numpy as np"
      ]
    },
    {
      "cell_type": "markdown",
      "source": [
        "# Numpy interoperatiblity"
      ],
      "metadata": {
        "id": "NHU_eiTwzxLA"
      }
    },
    {
      "cell_type": "code",
      "source": [
        "a = torch.tensor([1,2,3])\n",
        "a"
      ],
      "metadata": {
        "colab": {
          "base_uri": "https://localhost:8080/"
        },
        "id": "NRnmDbyPzsy7",
        "outputId": "0f128538-4c4c-4bb8-ff9d-ab8c12ce2d07"
      },
      "execution_count": 2,
      "outputs": [
        {
          "output_type": "execute_result",
          "data": {
            "text/plain": [
              "tensor([1, 2, 3])"
            ]
          },
          "metadata": {},
          "execution_count": 2
        }
      ]
    },
    {
      "cell_type": "code",
      "source": [
        "print(a.size())"
      ],
      "metadata": {
        "colab": {
          "base_uri": "https://localhost:8080/"
        },
        "id": "BXvNoeJN14Yo",
        "outputId": "662446df-d489-4a89-9e66-5f07ef55ecdd"
      },
      "execution_count": 3,
      "outputs": [
        {
          "output_type": "stream",
          "name": "stdout",
          "text": [
            "torch.Size([3])\n"
          ]
        }
      ]
    },
    {
      "cell_type": "code",
      "source": [
        "b = torch.tensor([\n",
        "           [1,2,3],\n",
        "           [5,6,7]\n",
        "])\n",
        "print(b.shape)"
      ],
      "metadata": {
        "colab": {
          "base_uri": "https://localhost:8080/"
        },
        "id": "PwYu8ixt2Af6",
        "outputId": "07def630-edb3-4776-8a74-c7b8c3841fa8"
      },
      "execution_count": 4,
      "outputs": [
        {
          "output_type": "stream",
          "name": "stdout",
          "text": [
            "torch.Size([2, 3])\n"
          ]
        }
      ]
    },
    {
      "cell_type": "code",
      "source": [
        "b[0, :2].clone()"
      ],
      "metadata": {
        "colab": {
          "base_uri": "https://localhost:8080/"
        },
        "id": "tvmEyBAo2Guj",
        "outputId": "3e6e0002-c1b2-4654-efda-49270ee04da6"
      },
      "execution_count": 5,
      "outputs": [
        {
          "output_type": "execute_result",
          "data": {
            "text/plain": [
              "tensor([1, 2])"
            ]
          },
          "metadata": {},
          "execution_count": 5
        }
      ]
    },
    {
      "cell_type": "code",
      "source": [
        "a = torch.ones(3,5)"
      ],
      "metadata": {
        "id": "Bp-TC7w-2PV3"
      },
      "execution_count": 6,
      "outputs": []
    },
    {
      "cell_type": "code",
      "source": [
        "a.numpy()"
      ],
      "metadata": {
        "colab": {
          "base_uri": "https://localhost:8080/"
        },
        "id": "Ef78YNlN2WDF",
        "outputId": "5c89a52d-3f48-479a-8958-393c57cd3576"
      },
      "execution_count": 7,
      "outputs": [
        {
          "output_type": "execute_result",
          "data": {
            "text/plain": [
              "array([[1., 1., 1., 1., 1.],\n",
              "       [1., 1., 1., 1., 1.],\n",
              "       [1., 1., 1., 1., 1.]], dtype=float32)"
            ]
          },
          "metadata": {},
          "execution_count": 7
        }
      ]
    },
    {
      "cell_type": "code",
      "source": [
        "b = np.array([5,3,6,7])\n",
        "torch.from_numpy(b)"
      ],
      "metadata": {
        "colab": {
          "base_uri": "https://localhost:8080/"
        },
        "id": "0L_bydj72ZmE",
        "outputId": "135781fb-50e3-4bd2-efe1-7ddcdb3452e0"
      },
      "execution_count": 8,
      "outputs": [
        {
          "output_type": "execute_result",
          "data": {
            "text/plain": [
              "tensor([5, 3, 6, 7])"
            ]
          },
          "metadata": {},
          "execution_count": 8
        }
      ]
    },
    {
      "cell_type": "markdown",
      "source": [
        "# Cpu Gpu"
      ],
      "metadata": {
        "id": "KZqjOeUs2vUr"
      }
    },
    {
      "cell_type": "code",
      "source": [
        "if torch.cuda.is_available():\n",
        "    device = 'cuda'\n",
        "else:\n",
        "    device = 'cpu'"
      ],
      "metadata": {
        "id": "OS6rNlvw3ZZq"
      },
      "execution_count": 12,
      "outputs": []
    },
    {
      "cell_type": "code",
      "source": [
        "device"
      ],
      "metadata": {
        "colab": {
          "base_uri": "https://localhost:8080/",
          "height": 35
        },
        "id": "CG9MJjaG3rk_",
        "outputId": "e403e3dd-5896-49f4-a801-c2158c03cfc7"
      },
      "execution_count": 13,
      "outputs": [
        {
          "output_type": "execute_result",
          "data": {
            "text/plain": [
              "'cuda'"
            ],
            "application/vnd.google.colaboratory.intrinsic+json": {
              "type": "string"
            }
          },
          "metadata": {},
          "execution_count": 13
        }
      ]
    },
    {
      "cell_type": "code",
      "source": [
        "a_gpu = torch.tensor([1,2,3], device=device)"
      ],
      "metadata": {
        "id": "imC3s2uK2mCL"
      },
      "execution_count": 14,
      "outputs": []
    },
    {
      "cell_type": "code",
      "source": [
        "a_gpu"
      ],
      "metadata": {
        "colab": {
          "base_uri": "https://localhost:8080/"
        },
        "id": "8CRyGfLa3K0y",
        "outputId": "7fb90060-104a-45f3-cffe-2d385cdfea22"
      },
      "execution_count": 15,
      "outputs": [
        {
          "output_type": "execute_result",
          "data": {
            "text/plain": [
              "tensor([1, 2, 3], device='cuda:0')"
            ]
          },
          "metadata": {},
          "execution_count": 15
        }
      ]
    },
    {
      "cell_type": "code",
      "source": [
        "a_cpu = a_gpu.to('cpu')"
      ],
      "metadata": {
        "id": "RQD6GQT23XzS"
      },
      "execution_count": 18,
      "outputs": []
    },
    {
      "cell_type": "code",
      "source": [
        "a_cpu.to('cuda')"
      ],
      "metadata": {
        "colab": {
          "base_uri": "https://localhost:8080/"
        },
        "id": "l1NutFMf34pI",
        "outputId": "3a1812ea-6fef-4377-b198-e718a90488f4"
      },
      "execution_count": 19,
      "outputs": [
        {
          "output_type": "execute_result",
          "data": {
            "text/plain": [
              "tensor([1, 2, 3], device='cuda:0')"
            ]
          },
          "metadata": {},
          "execution_count": 19
        }
      ]
    },
    {
      "cell_type": "markdown",
      "source": [
        "# Save Tensor"
      ],
      "metadata": {
        "id": "DcCVaG604Kbf"
      }
    },
    {
      "cell_type": "code",
      "source": [
        "a = torch.tensor([1,3,45,6], device=device)"
      ],
      "metadata": {
        "id": "0ZqxRl2w3_8I"
      },
      "execution_count": 20,
      "outputs": []
    },
    {
      "cell_type": "code",
      "source": [
        "torch.save(a, 'a_tensor.t')"
      ],
      "metadata": {
        "id": "crSvq17H4Rdn"
      },
      "execution_count": 21,
      "outputs": []
    },
    {
      "cell_type": "code",
      "source": [
        "b=torch.load('a_tensor.t')\n",
        "b"
      ],
      "metadata": {
        "colab": {
          "base_uri": "https://localhost:8080/"
        },
        "id": "vyE8Cvo44X1W",
        "outputId": "9804f2c5-1d13-4f07-8472-fd9720ac7412"
      },
      "execution_count": 22,
      "outputs": [
        {
          "output_type": "execute_result",
          "data": {
            "text/plain": [
              "tensor([ 1,  3, 45,  6], device='cuda:0')"
            ]
          },
          "metadata": {},
          "execution_count": 22
        }
      ]
    },
    {
      "cell_type": "markdown",
      "source": [
        "# DataSet"
      ],
      "metadata": {
        "id": "IB4hIRS84zcc"
      }
    },
    {
      "cell_type": "code",
      "source": [
        "from torchvision import datasets"
      ],
      "metadata": {
        "id": "wjVfaIbC4cdw"
      },
      "execution_count": 23,
      "outputs": []
    },
    {
      "cell_type": "code",
      "source": [
        "df_train = datasets.CIFAR10('./datasets', train=True, download=True)"
      ],
      "metadata": {
        "colab": {
          "base_uri": "https://localhost:8080/"
        },
        "id": "L9abJlZY47We",
        "outputId": "206c16f1-986c-4b8a-edb7-2f7f5da364e5"
      },
      "execution_count": 26,
      "outputs": [
        {
          "output_type": "stream",
          "name": "stdout",
          "text": [
            "Files already downloaded and verified\n"
          ]
        }
      ]
    },
    {
      "cell_type": "code",
      "source": [
        "df_val = datasets.CIFAR10('./datasets', train=False, download=True)"
      ],
      "metadata": {
        "colab": {
          "base_uri": "https://localhost:8080/"
        },
        "id": "mcWGVOrj5Nuk",
        "outputId": "fc9c0be8-2c8a-44bc-8197-d8d7f619f98e"
      },
      "execution_count": 27,
      "outputs": [
        {
          "output_type": "stream",
          "name": "stdout",
          "text": [
            "Files already downloaded and verified\n"
          ]
        }
      ]
    },
    {
      "cell_type": "code",
      "source": [
        "import matplotlib.pyplot as plt\n"
      ],
      "metadata": {
        "id": "dWp7RMHX5lfK"
      },
      "execution_count": 32,
      "outputs": []
    },
    {
      "cell_type": "code",
      "source": [
        "img, label = df_train[1]"
      ],
      "metadata": {
        "id": "yxYOphLA5Yc-"
      },
      "execution_count": 34,
      "outputs": []
    },
    {
      "cell_type": "code",
      "source": [
        "plt.imshow(img)\n",
        "plt.title(label)\n",
        "plt.show()"
      ],
      "metadata": {
        "colab": {
          "base_uri": "https://localhost:8080/",
          "height": 281
        },
        "id": "msalR9ji5oD6",
        "outputId": "98ef3866-351f-4d00-f852-e493c01cd6d2"
      },
      "execution_count": 35,
      "outputs": [
        {
          "output_type": "display_data",
          "data": {
            "text/plain": [
              "<Figure size 432x288 with 1 Axes>"
            ],
            "image/png": "[encoded data removed]"
          },
          "metadata": {
            "needs_background": "light"
          }
        }
      ]
    },
    {
      "cell_type": "code",
      "source": [
        "from torchvision import transforms\n",
        "\n",
        "to_tensor = transforms.ToTensor()\n",
        "img_t = to_tensor(img)"
      ],
      "metadata": {
        "id": "P99GPDYa5qRe"
      },
      "execution_count": 37,
      "outputs": []
    },
    {
      "cell_type": "code",
      "source": [
        "img_t.shape"
      ],
      "metadata": {
        "colab": {
          "base_uri": "https://localhost:8080/"
        },
        "id": "RRdah0RV6I_6",
        "outputId": "dc3cbc7b-ab23-4630-89a2-18c985a97749"
      },
      "execution_count": 38,
      "outputs": [
        {
          "output_type": "execute_result",
          "data": {
            "text/plain": [
              "torch.Size([3, 32, 32])"
            ]
          },
          "metadata": {},
          "execution_count": 38
        }
      ]
    },
    {
      "cell_type": "code",
      "source": [
        "a = torch.transpose(img_t, 0, 1)\n",
        "a = torch.transpose(a, 1, 2)\n",
        "a.shape"
      ],
      "metadata": {
        "colab": {
          "base_uri": "https://localhost:8080/"
        },
        "id": "ow2lKJoW6Khl",
        "outputId": "900f63e9-fb50-4bf4-caaa-c37cb6182603"
      },
      "execution_count": 45,
      "outputs": [
        {
          "output_type": "execute_result",
          "data": {
            "text/plain": [
              "torch.Size([32, 32, 3])"
            ]
          },
          "metadata": {},
          "execution_count": 45
        }
      ]
    },
    {
      "cell_type": "code",
      "source": [
        "df_train = datasets.CIFAR10('./datasets', train=True, download=True, transform=to_tensor)"
      ],
      "metadata": {
        "colab": {
          "base_uri": "https://localhost:8080/"
        },
        "id": "B_KI6tT86w8l",
        "outputId": "3c805659-9e7f-410a-9b95-a9b51898fdaf"
      },
      "execution_count": 46,
      "outputs": [
        {
          "output_type": "stream",
          "name": "stdout",
          "text": [
            "Files already downloaded and verified\n"
          ]
        }
      ]
    },
    {
      "cell_type": "code",
      "source": [
        "img, label = df_train[0]\n",
        "type(img), type(label)"
      ],
      "metadata": {
        "colab": {
          "base_uri": "https://localhost:8080/"
        },
        "id": "AcvP_ceG7EXn",
        "outputId": "2484a5e9-3e14-49a2-a972-70fc32a66d65"
      },
      "execution_count": 50,
      "outputs": [
        {
          "output_type": "execute_result",
          "data": {
            "text/plain": [
              "(torch.Tensor, int)"
            ]
          },
          "metadata": {},
          "execution_count": 50
        }
      ]
    },
    {
      "cell_type": "markdown",
      "source": [
        "# DCGAN"
      ],
      "metadata": {
        "id": "67tPNGWF7Nkv"
      }
    },
    {
      "cell_type": "code",
      "source": [
        "import os\n",
        "import torch\n",
        "import matplotlib.pyplot as plt\n",
        "from IPython import display\n",
        "import time\n",
        "from tqdm import tqdm"
      ],
      "metadata": {
        "id": "HFcQ6eW57pKT"
      },
      "execution_count": 51,
      "outputs": []
    },
    {
      "cell_type": "code",
      "source": [
        "DATASET_ROOT = 'dataset/'\n",
        "CHECKPOINT_GEN = 'gen.pth.tar'\n",
        "CHECKPOINT_DISC = 'disc.pth.tar'\n",
        "LEARNING_RATE = 2e-4\n",
        "\n",
        "LOAD_MODEL = os.path.exists(CHECKPOINT_GEN) and os.path.exists(CHECKPOINT_DISC)\n",
        "SAVE_MODEL = True\n",
        "\n",
        "device = torch.device('cuda' if torch.cuda.is_available() else 'cpu')"
      ],
      "metadata": {
        "id": "Yo7Vzmae71o9"
      },
      "execution_count": 52,
      "outputs": []
    },
    {
      "cell_type": "code",
      "source": [
        "import torch\n",
        "\n",
        "\n",
        "def save_checkpoint(model, optimizer, filename=\"my_checkpoint.pth.tar\"):\n",
        "    print(\"=> Saving checkpoint at\", filename)\n",
        "    checkpoint = {\n",
        "        \"state_dict\": model.state_dict(),\n",
        "        \"optimizer\": optimizer.state_dict(),\n",
        "    }\n",
        "    torch.save(checkpoint, filename)\n",
        "\n",
        "\n",
        "def load_checkpoint(checkpoint_file, model, optimizer, lr):\n",
        "    print(\"=> Loading checkpoint from\", checkpoint_file)\n",
        "    checkpoint = torch.load(checkpoint_file, map_location=device)\n",
        "    # model.load_state_dict(checkpoint)\n",
        "    model.load_state_dict(checkpoint[\"state_dict\"])\n",
        "    optimizer.load_state_dict(checkpoint[\"optimizer\"])\n",
        "\n",
        "    for param_group in optimizer.param_groups:\n",
        "        param_group[\"lr\"] = lr"
      ],
      "metadata": {
        "id": "j5q2tggT8IiZ"
      },
      "execution_count": 53,
      "outputs": []
    },
    {
      "cell_type": "markdown",
      "source": [
        "## Discriminator \\ Generator Model"
      ],
      "metadata": {
        "id": "ESx1hLZ58cZF"
      }
    },
    {
      "cell_type": "code",
      "source": [
        "from audioop import bias\n",
        "import torch\n",
        "import torch.nn as nn\n",
        "\n",
        "class Discriminator(nn.Module):\n",
        "    def __init__(self, channels_img, features_d):\n",
        "        super(Discriminator, self).__init__()\n",
        "        self.disc = nn.Sequential(\n",
        "            # N x channel_img x 64 x 64\n",
        "            # https://pytorch.org/docs/stable/generated/torch.nn.Conv2d.html\n",
        "            nn.Conv2d(\n",
        "                channels_img, features_d, 4, 2, 1\n",
        "            ),\n",
        "            nn.LeakyReLU(0.2),\n",
        "\n",
        "            self._block(features_d, features_d*2, 4, 2, 1), # 16 x 16\n",
        "            self._block(features_d*2, features_d*4, 4, 2, 1), # 8x8\n",
        "            self._block(features_d*4, features_d*8, 4, 2, 1), # 4x4\n",
        "            nn.Conv2d(features_d*8, 1, 4, 2, 0), # 1 x 1\n",
        "            nn.Sigmoid(),\n",
        "        )\n",
        "    \n",
        "    def _block(self, in_channels, out_channels, kernel_size, stride, padding):\n",
        "        return nn.Sequential(\n",
        "            nn.Conv2d(\n",
        "                in_channels,\n",
        "                out_channels,\n",
        "                kernel_size,\n",
        "                stride,\n",
        "                padding,\n",
        "                bias=False, # because we have used BatchNorm\n",
        "            ),\n",
        "            nn.BatchNorm2d(out_channels),\n",
        "            nn.LeakyReLU(0.2),\n",
        "        )\n",
        "    \n",
        "    def forward(self, x):\n",
        "        return self.disc(x)\n",
        "\n",
        "class Generator(nn.Module):\n",
        "    def __init__(self, z_dim, channels_img, features_g):\n",
        "        super(Generator, self).__init__()\n",
        "        self.net = nn.Sequential(\n",
        "            # N * z_dim * 1 * 1\n",
        "            self._block(z_dim, features_g*16, 4, 1, 0), # n f_G*16 4 4\n",
        "            self._block(features_g*16, features_g*8, 4, 2, 1), # 8x8\n",
        "            self._block(features_g*8, features_g*4, 4, 2, 1), # 16x16\n",
        "            self._block(features_g*4, features_g*2, 4, 2, 1), # 32x32\n",
        "            nn.ConvTranspose2d(\n",
        "                features_g*2,\n",
        "                channels_img,\n",
        "                4,\n",
        "                2,\n",
        "                1\n",
        "            ),\n",
        "            nn.Tanh(), # output [-1, 1]\n",
        "        )\n",
        "    \n",
        "    def _block(self, in_channels, out_channels, kernel, stride, padding):\n",
        "        return nn.Sequential(\n",
        "            nn.ConvTranspose2d(\n",
        "                in_channels,\n",
        "                out_channels,\n",
        "                kernel,\n",
        "                stride,\n",
        "                padding,\n",
        "                bias=False,\n",
        "            ),\n",
        "            nn.BatchNorm2d(out_channels),\n",
        "            nn.ReLU(),\n",
        "        )\n",
        "    \n",
        "    def forward(self, x):\n",
        "        return self.net(x)\n",
        "\n",
        "def init_weights(model):\n",
        "    for m in model.modules():\n",
        "        if isinstance(m, (nn.Conv2d, nn.ConvTranspose2d, nn.BatchNorm2d)):\n",
        "            nn.init.normal_(m.weight.data, 0.0, 0.02)\n",
        "# torch.nn.init.xavier_uniform(conv1.weight)\n",
        "\n",
        "def test():\n",
        "    N, in_channels, H, W = 8, 3, 64, 64\n",
        "    z_dim = 100\n",
        "    x = torch.randn((N, in_channels, H, W))\n",
        "    disc = Discriminator(in_channels, 8)\n",
        "    init_weights(disc)\n",
        "    assert disc(x).shape == (N, 1, 1, 1)\n",
        "    gen = Generator(z_dim, in_channels, 8)\n",
        "    init_weights(gen)\n",
        "    z = torch.randn((N, z_dim, 1, 1))\n",
        "    assert gen(z).shape == (N, in_channels, H, W)\n",
        "    print('Success Test')\n",
        "\n",
        "test()"
      ],
      "metadata": {
        "colab": {
          "base_uri": "https://localhost:8080/"
        },
        "id": "TTSqgVq28YXE",
        "outputId": "b5dcde28-a55e-4628-b4e5-c9c56bb7e20e"
      },
      "execution_count": 57,
      "outputs": [
        {
          "output_type": "stream",
          "name": "stdout",
          "text": [
            "Success Test\n"
          ]
        }
      ]
    },
    {
      "cell_type": "code",
      "source": [
        "BATCH_SIZE = 128\n",
        "IMAGE_SIZE = 64\n",
        "CHANNELS_IMG = 1\n",
        "NOISE_DIM = 100\n",
        "NUM_EPOCHS = 5\n",
        "FEATURES_DISC = 64\n",
        "FEATURES_GEN = 64\n",
        "\n",
        "fixed_noise = torch.randn(32, NOISE_DIM, 1, 1).to(device)"
      ],
      "metadata": {
        "id": "p2Ts3Xb2-g6x"
      },
      "execution_count": 58,
      "outputs": []
    },
    {
      "cell_type": "code",
      "source": [
        "gen = Generator(NOISE_DIM, CHANNELS_IMG, FEATURES_GEN).to(device)\n",
        "disc = Discriminator(CHANNELS_IMG, FEATURES_DISC).to(device)\n",
        "init_weights(gen)\n",
        "init_weights(disc)"
      ],
      "metadata": {
        "id": "2tJ0Q1di-wrV"
      },
      "execution_count": 59,
      "outputs": []
    },
    {
      "cell_type": "code",
      "source": [
        "from locale import normalize\n",
        "import torch\n",
        "import torch.nn as nn\n",
        "import torch.optim as optim\n",
        "import torchvision\n",
        "import torchvision.datasets as datasets\n",
        "import torchvision.transforms as transforms\n",
        "from torch.utils.data import DataLoader\n",
        "from torch.utils.tensorboard import SummaryWriter\n",
        "\n",
        "# Tutorial dataset\n",
        "# https://pytorch.org/tutorials/beginner/basics/quickstart_tutorial.html\n",
        "\n",
        "transform = transforms.Compose([\n",
        "    transforms.Resize(IMAGE_SIZE),\n",
        "    transforms.ToTensor(),\n",
        "    transforms.Normalize(\n",
        "        [0.5]*CHANNELS_IMG, [0.5]*CHANNELS_IMG \n",
        "    ),\n",
        "])\n",
        "\n",
        "dataset = datasets.MNIST(root=DATASET_ROOT, train=True, transform=transform,download=True)\n",
        "# dataset = datasets.ImageFolder(root=DATASET_ROOT, train=True, transform=transform)\n",
        "\n",
        "loader = DataLoader(dataset, batch_size = BATCH_SIZE, shuffle=True)\n",
        "\n",
        "opt_gen = optim.Adam(gen.parameters(), lr=LEARNING_RATE, betas=(0.5, 0.999))\n",
        "opt_disc = optim.Adam(disc.parameters(), lr=LEARNING_RATE, betas=(0.5, 0.999))\n",
        "# https://pytorch.org/docs/stable/generated/torch.nn.BCELoss.html\n",
        "criterion = nn.BCELoss()\n",
        "\n",
        "fixed_noise = torch.randn(32, NOISE_DIM, 1, 1).to(device)\n",
        "writer_real = SummaryWriter(f'logs/real')\n",
        "writer_fake = SummaryWriter(f'logs/fake')\n",
        "step = 0\n",
        "\n",
        "gen.train()\n",
        "disc.train()\n",
        "\n",
        "if LOAD_MODEL:\n",
        "    load_checkpoint(\n",
        "        CHECKPOINT_GEN,\n",
        "        gen,\n",
        "        opt_gen,\n",
        "        LEARNING_RATE,\n",
        "    )\n",
        "    load_checkpoint(\n",
        "        CHECKPOINT_DISC,\n",
        "        disc,\n",
        "        opt_disc,\n",
        "        LEARNING_RATE,\n",
        "    )"
      ],
      "metadata": {
        "colab": {
          "base_uri": "https://localhost:8080/",
          "height": 423,
          "referenced_widgets": [
            "1c0cb57287b544e080d7668d715eb6b9",
            "288f0b0f90f741298610e74a07eeb30d",
            "f89ad1d3a6434451bf2385999e832102",
            "4bc553af415d458b97fc9d376ab6d668",
            "655045b3b5bc45e6a51660f12ec2f0a9",
            "eba6d06a60624b2d99f848eebbfdf5ed",
            "e8cabb1a3193424d868838aba08e9958",
            "2068cf55a4d3487a86ff71fb5eac6f5a",
            "731bd0dca1f0432e8c663164758c84a3",
            "5289bc9ac07649e59e5e878000c4dbbb",
            "95f4432c337245c895b621414096b4c7",
            "8dc4a8f346ef4686bd175778e7e6f67b",
            "4b71547b175345b992b47aeb6e8bf7d2",
            "3a646b55b1944c8fa1a4f38d30ce5fc7",
            "140a56748d394812aa539d669a45c503",
            "94bdac23cbb74ae49937f366591280c9",
            "a6dbb8fbfe8e4b5a8af4ea72a0c8adfb",
            "4f3365cb40e945c595f986c73cf92ca1",
            "25f0077f0f14445da4f465125ac8a613",
            "f73cfc93570b43d18f15e6b1947ad01a",
            "46af6b5f2f6541b4b0b7928a045680f1",
            "e0943800157843b6ad6515cb47219de6",
            "709f37c3c68f40a8a8173be4cea3fd33",
            "ac064665b468416cbdc5919f2107472d",
            "a1d27b0e0e1e4391a882df662aa5eb21",
            "a47966f304e642068efaaedabf2f0a05",
            "b78ae9c74bab4d66a570a63ab048a189",
            "81789d74785c4010ab433c48a5320fe5",
            "28ca36a6514c449fbcb114c220f33c96",
            "ce56021206204662a342e8d4b9f66901",
            "d54bb76c33d94273b07360b5bf8752c9",
            "8bf7d54f69234a26b3ca45dc0d9b35e1",
            "f5272b1c48e944079f18b23502a540f9",
            "9d0d83d04dd646d28f842adbb465a90c",
            "99c931d8f8ce4d8995d700499cc7cbd2",
            "e148c13f2492432f9e87575c1cefc362",
            "c90e2853e94e48ccb5ecb49b504a730a",
            "25cb9e97078745e380c36b9c76399b52",
            "d70bf20d842045d68aa6ffb8323fe37b",
            "297c4deca3d54b48818eacaeff8f6629",
            "34a7c0dea51c4530b821ea8f74de1d8f",
            "0c00a56d069e4274912d0e236b0bc1a4",
            "f7300c599cbb4aec8a006eef91809a05",
            "b5590ed2ddbb40fbbc75ff14795495b1"
          ]
        },
        "id": "S83bXw5Q-4GT",
        "outputId": "c275805f-dced-4d8a-e461-384174e9cf54"
      },
      "execution_count": 60,
      "outputs": [
        {
          "output_type": "stream",
          "name": "stdout",
          "text": [
            "Downloading http://yann.lecun.com/exdb/mnist/train-images-idx3-ubyte.gz\n",
            "Downloading http://yann.lecun.com/exdb/mnist/train-images-idx3-ubyte.gz to dataset/MNIST/raw/train-images-idx3-ubyte.gz\n"
          ]
        },
        {
          "output_type": "display_data",
          "data": {
            "text/plain": [
              "  0%|          | 0/9912422 [00:00<?, ?it/s]"
            ],
            "application/vnd.jupyter.widget-view+json": {
              "version_major": 2,
              "version_minor": 0,
              "model_id": "1c0cb57287b544e080d7668d715eb6b9"
            }
          },
          "metadata": {}
        },
        {
          "output_type": "stream",
          "name": "stdout",
          "text": [
            "Extracting dataset/MNIST/raw/train-images-idx3-ubyte.gz to dataset/MNIST/raw\n",
            "\n",
            "Downloading http://yann.lecun.com/exdb/mnist/train-labels-idx1-ubyte.gz\n",
            "Downloading http://yann.lecun.com/exdb/mnist/train-labels-idx1-ubyte.gz to dataset/MNIST/raw/train-labels-idx1-ubyte.gz\n"
          ]
        },
        {
          "output_type": "display_data",
          "data": {
            "text/plain": [
              "  0%|          | 0/28881 [00:00<?, ?it/s]"
            ],
            "application/vnd.jupyter.widget-view+json": {
              "version_major": 2,
              "version_minor": 0,
              "model_id": "8dc4a8f346ef4686bd175778e7e6f67b"
            }
          },
          "metadata": {}
        },
        {
          "output_type": "stream",
          "name": "stdout",
          "text": [
            "Extracting dataset/MNIST/raw/train-labels-idx1-ubyte.gz to dataset/MNIST/raw\n",
            "\n",
            "Downloading http://yann.lecun.com/exdb/mnist/t10k-images-idx3-ubyte.gz\n",
            "Downloading http://yann.lecun.com/exdb/mnist/t10k-images-idx3-ubyte.gz to dataset/MNIST/raw/t10k-images-idx3-ubyte.gz\n"
          ]
        },
        {
          "output_type": "display_data",
          "data": {
            "text/plain": [
              "  0%|          | 0/1648877 [00:00<?, ?it/s]"
            ],
            "application/vnd.jupyter.widget-view+json": {
              "version_major": 2,
              "version_minor": 0,
              "model_id": "709f37c3c68f40a8a8173be4cea3fd33"
            }
          },
          "metadata": {}
        },
        {
          "output_type": "stream",
          "name": "stdout",
          "text": [
            "Extracting dataset/MNIST/raw/t10k-images-idx3-ubyte.gz to dataset/MNIST/raw\n",
            "\n",
            "Downloading http://yann.lecun.com/exdb/mnist/t10k-labels-idx1-ubyte.gz\n",
            "Downloading http://yann.lecun.com/exdb/mnist/t10k-labels-idx1-ubyte.gz to dataset/MNIST/raw/t10k-labels-idx1-ubyte.gz\n"
          ]
        },
        {
          "output_type": "display_data",
          "data": {
            "text/plain": [
              "  0%|          | 0/4542 [00:00<?, ?it/s]"
            ],
            "application/vnd.jupyter.widget-view+json": {
              "version_major": 2,
              "version_minor": 0,
              "model_id": "9d0d83d04dd646d28f842adbb465a90c"
            }
          },
          "metadata": {}
        },
        {
          "output_type": "stream",
          "name": "stdout",
          "text": [
            "Extracting dataset/MNIST/raw/t10k-labels-idx1-ubyte.gz to dataset/MNIST/raw\n",
            "\n"
          ]
        }
      ]
    },
    {
      "cell_type": "code",
      "source": [
        "# Perform BackProp\n",
        "# https://pytorch.org/tutorials/beginner/blitz/autograd_tutorial.html\n",
        "\n",
        "for epoch in range(NUM_EPOCHS):\n",
        "    start = time.time()\n",
        "    print('\\nEpoch', epoch+1, '/', NUM_EPOCHS)\n",
        "    for batch_idx, (real, _) in tqdm(enumerate(loader)):\n",
        "        real = real.to(device)\n",
        "        noise = torch.randn((BATCH_SIZE, NOISE_DIM, 1, 1)).to(device)\n",
        "        fake = gen(noise)\n",
        "\n",
        "        # train Discrimanator\n",
        "        disc_real = disc(real).reshape(-1)\n",
        "        disc_fake = disc(fake).reshape(-1)\n",
        "        \n",
        "        loss_disc_real = criterion(disc_real, torch.ones_like(disc_real))\n",
        "        loss_disc_fake = criterion(disc_fake, torch.zeros_like(disc_fake))\n",
        "        loss_disc = (loss_disc_real + loss_disc_fake)/2\n",
        "\n",
        "        # https://pytorch.org/tutorials/beginner/blitz/autograd_tutorial.html\n",
        "        disc.zero_grad()\n",
        "        loss_disc.backward(retain_graph=True) # gradients calculate\n",
        "        opt_disc.step() # update weights\n",
        "\n",
        "        # train Generator\n",
        "        output = disc(fake).reshape(-1)\n",
        "        loss_gen = criterion(output, torch.ones_like(output))\n",
        "        gen.zero_grad()\n",
        "        loss_gen.backward()\n",
        "        opt_gen.step()\n",
        "\n",
        "        # print('.', end='', flush=True)\n",
        "\n",
        "        if batch_idx%50 == 0:\n",
        "            save_checkpoint(gen, opt_gen, filename=CHECKPOINT_GEN)\n",
        "            save_checkpoint(disc, opt_disc, filename=CHECKPOINT_DISC)\n",
        "\n",
        "        if batch_idx % 50 == 0:\n",
        "            display.clear_output(wait=True)\n",
        "            predictions = gen(fixed_noise)\n",
        "            predictions = predictions.detach().cpu().numpy()\n",
        "\n",
        "\n",
        "            fig = plt.figure(figsize=(8, 8))\n",
        "            for i in range(min(16, predictions.shape[0])):\n",
        "                plt.subplot(4, 4, i+1)\n",
        "                plt.imshow(predictions[i, 0, :, :] * 127.5 + 127.5, cmap='gray')\n",
        "                plt.axis('off')\n",
        "                \n",
        "            plt.savefig('image_at_epoch_{:04d}.png'.format(step))\n",
        "            plt.show()\n",
        "        \n",
        "            step += 1\n",
        "    \n",
        "    print ('Time for epoch {} is {} sec'.format(epoch + 1, time.time()-start))\n",
        "    if SAVE_MODEL:\n",
        "        save_checkpoint(gen, opt_gen, filename=CHECKPOINT_GEN)\n",
        "        save_checkpoint(disc, opt_disc, filename=CHECKPOINT_DISC)"
      ],
      "metadata": {
        "colab": {
          "base_uri": "https://localhost:8080/",
          "height": 701
        },
        "id": "e8uREds7AB2k",
        "outputId": "74c50d3a-f40a-4772-c6e9-acbb9fd0f2fc"
      },
      "execution_count": 61,
      "outputs": [
        {
          "output_type": "display_data",
          "data": {
            "text/plain": [
              "<Figure size 576x576 with 16 Axes>"
            ],
            "image/png": "[encoded data removed]"
          },
          "metadata": {
            "needs_background": "light"
          }
        },
        {
          "output_type": "stream",
          "name": "stderr",
          "text": [
            "443it [07:33,  1.02s/it]\n"
          ]
        },
        {
          "output_type": "error",
          "ename": "KeyboardInterrupt",
          "evalue": "ignored",
          "traceback": [
            "\u001b[0;31m---------------------------------------------------------------------------\u001b[0m",
            "\u001b[0;31mKeyboardInterrupt\u001b[0m                         Traceback (most recent call last)",
            "\u001b[0;32m<ipython-input-61-27606a5b4f5b>\u001b[0m in \u001b[0;36m<module>\u001b[0;34m()\u001b[0m\n\u001b[1;32m      6\u001b[0m     \u001b[0mprint\u001b[0m\u001b[0;34m(\u001b[0m\u001b[0;34m'\\nEpoch'\u001b[0m\u001b[0;34m,\u001b[0m \u001b[0mepoch\u001b[0m\u001b[0;34m+\u001b[0m\u001b[0;36m1\u001b[0m\u001b[0;34m,\u001b[0m \u001b[0;34m'/'\u001b[0m\u001b[0;34m,\u001b[0m \u001b[0mNUM_EPOCHS\u001b[0m\u001b[0;34m)\u001b[0m\u001b[0;34m\u001b[0m\u001b[0;34m\u001b[0m\u001b[0m\n\u001b[1;32m      7\u001b[0m     \u001b[0;32mfor\u001b[0m \u001b[0mbatch_idx\u001b[0m\u001b[0;34m,\u001b[0m \u001b[0;34m(\u001b[0m\u001b[0mreal\u001b[0m\u001b[0;34m,\u001b[0m \u001b[0m_\u001b[0m\u001b[0;34m)\u001b[0m \u001b[0;32min\u001b[0m \u001b[0mtqdm\u001b[0m\u001b[0;34m(\u001b[0m\u001b[0menumerate\u001b[0m\u001b[0;34m(\u001b[0m\u001b[0mloader\u001b[0m\u001b[0;34m)\u001b[0m\u001b[0;34m)\u001b[0m\u001b[0;34m:\u001b[0m\u001b[0;34m\u001b[0m\u001b[0;34m\u001b[0m\u001b[0m\n\u001b[0;32m----> 8\u001b[0;31m         \u001b[0mreal\u001b[0m \u001b[0;34m=\u001b[0m \u001b[0mreal\u001b[0m\u001b[0;34m.\u001b[0m\u001b[0mto\u001b[0m\u001b[0;34m(\u001b[0m\u001b[0mdevice\u001b[0m\u001b[0;34m)\u001b[0m\u001b[0;34m\u001b[0m\u001b[0;34m\u001b[0m\u001b[0m\n\u001b[0m\u001b[1;32m      9\u001b[0m         \u001b[0mnoise\u001b[0m \u001b[0;34m=\u001b[0m \u001b[0mtorch\u001b[0m\u001b[0;34m.\u001b[0m\u001b[0mrandn\u001b[0m\u001b[0;34m(\u001b[0m\u001b[0;34m(\u001b[0m\u001b[0mBATCH_SIZE\u001b[0m\u001b[0;34m,\u001b[0m \u001b[0mNOISE_DIM\u001b[0m\u001b[0;34m,\u001b[0m \u001b[0;36m1\u001b[0m\u001b[0;34m,\u001b[0m \u001b[0;36m1\u001b[0m\u001b[0;34m)\u001b[0m\u001b[0;34m)\u001b[0m\u001b[0;34m.\u001b[0m\u001b[0mto\u001b[0m\u001b[0;34m(\u001b[0m\u001b[0mdevice\u001b[0m\u001b[0;34m)\u001b[0m\u001b[0;34m\u001b[0m\u001b[0;34m\u001b[0m\u001b[0m\n\u001b[1;32m     10\u001b[0m         \u001b[0mfake\u001b[0m \u001b[0;34m=\u001b[0m \u001b[0mgen\u001b[0m\u001b[0;34m(\u001b[0m\u001b[0mnoise\u001b[0m\u001b[0;34m)\u001b[0m\u001b[0;34m\u001b[0m\u001b[0;34m\u001b[0m\u001b[0m\n",
            "\u001b[0;31mKeyboardInterrupt\u001b[0m: "
          ]
        }
      ]
    },
    {
      "cell_type": "markdown",
      "source": [
        "![image.png](data:image/png;base64,iVBORw0KGgoAAAANSUhEUgAAAc0AAAG/CAYAAAA6r4zXAAAAAXNSR0IArs4c6QAAAARnQU1BAACxjwv8YQUAAAAJcEhZcwAADsMAAA7DAcdvqGQAAP+lSURBVHhe7N3nszTBWd/9I3LOOeecFFAOBGGQAONYRZVfuMov/af4D/B7l+2yDdgPBlvIQjKWhAIgBCLnnHPO4IfPwPemWe/ZM7s7c3bPuedXddXMzvR091y/vkL3zO4+44//+I//782GDRs2bNiw4U4848///M+3oLlhw4YNGzbMwDP+6q/+aguaGzZs2LBhwww84//+Nf52f8OGDRs2bNhwAO/0t9sNGzZs2LBhwx3YguaGDRs2bNgwE7OWZ9/lXd7lRjHyTu/0d3H2r/7qr6btQ13hfcYznvG3e39zD+NnWOK+qtOW7t75nd95+pw+6ZDc1tYSfdiHd3u3d3vSh5HTv/zLv3xyfEns6haObSMdBp/Tnf3qG/d3cep97fa/z7btq3uU23BqHw4hG4Wxr4fG1kPELg+n3ttuPbs4pt619MtX7Kv7IfKZnSS3xY5rubdD/Zg108yRwu7NP3SM9+AeR1kaY90NmkvhL/7iL57weh9cdt+7+8fitr7uq2+3vVPbhN1rz6lrDYzJzn3weSl0j8mpOOfa+0IJD4nTh8rtLl8P+V5mzTTHGxtvtEtnVHF1GO9pjf7v6iyMuiuTHJOSXayl27FP4+wNtLlWu+dAn+tr/dvXz/vQ2cjjri45u0NJ0Rr929c3WEsXjwGjnsIp+rqP8QZ9fqic6r8VLqsiwP859sd//MfT1n39+Z//+VXc36E+nBQ0R1zDDZ6KiFoTu/oa0bn7drAw9mtOILoG6HP93u3jffd57MeoS/uOHerPGn3d14cN94O1dD1y+hjgfgRM8u7v/u5P7KRVL35wXDG5JA61f3LQvPRNPS1YS88jp4Jm7Vwzr7tO5KGOwTX6vaubDfeH+7DRa4D+nHqvriWCJXn/93//aVZZwPyzP/uzaX8MoJfEofvcguYOxvuL6EsSuJaeR07HmeY18zr2+dR+jvxeCmu0Pepmw/1irbE0cnoN41Yfjm3fNfyLpdh3fdd3vfnET/zESZ7znOfc/M7v/M7N7/3e7938/M///M3v/u7v3vzBH/zBzW/91m9Nx//0T//0Yn5Xnw+1PetFoBGUdkni1sbu/T3mex3xEO4zbs7p67nXb9hwCVzDuD21/QLme77ne9587Md+7M1nf/Zn3zz3uc+9eeELX3jzghe84OaZz3zmzcd93MfdfOAHfuDFk4PaP4Sjg+bThGsYqPeBp+EeN2zYcBmYaXqOKWh+yId8yBQ4P/mTP/nmUz7lUyb5hE/4hJsP/uAPns7ncy/hk+YETNiC5oaLDtQNGzY8bgiaZpoCo+eZlj6JJdg/+qM/uvmTP/mTmz/8wz+8+f3f//3pmeal/NBcP/jUBE3Ezc0krgH6+pD6u2HDhsuDnyPXggKmWeR7vdd7TSJw+prJr/3ar938zM/8zM1P/MRP3PzCL/zCzW//9m8/iMT9KrS7ZoCo7msNmmPfdvfJhg0bNszBNfoN/kyQfO/3fu/pjVlB03c1vS3rhR+B85d+6ZdufvM3f3N6KcgM9NoD58WDJoLHQHEuxjqq23q6h9H2O35f6L5G0Y/6ZUA1kN7jPd5jyshkZn2faS3s9qf9DRseO8ZxP8pDH//X1n/94d88x/z4j//4m8/7vM+7+YiP+IjJ1/laiSVZwdLbs7/+678+vUFrBurcNePiQXPOGvIx2K3LZ9nL+N2f+8pkxkFsfxRBvAzsgz7og24+4AM+4Ob93u/9Jilgrhk0ob48FqexYcNdaIyPY7/95KEiX3pf/u0Q6JGPe5/3eZ+bD//wD7/5pE/6pJvnP//505uzXgQyQTDzFFBNGpTno6+l/4dwFcuzaypKvT14PqaN0YhIGI/tM7gCUDPb9kcpIBo4gub7vu/7/j3pp6bWDpqw2//Hit37HCWekt3zGx4PRr7Z12in5CHjWoJNOqZb/s0LQAKlN2U/5mM+Zvo8Pue075qHsDQLR/+4wdMAhCOymSnYpweGRmUNjPFtr9EAR50V/MZyAqPBY1AZONVp+1M/9VNPfiHDssUa0EfQZn3VdvIQMOp4xHhP7RN6zzA7NnLdfY+c2jrn2FJYQ7/u5Row9qN997vGPR+D+GZ3xgHJls1wsmVvdB4741nr3q6F02NBl3RrUvA5n/M5Ny9+8Yun72R++Zd/+bT8alnWrwH9wA/8wM0P//AP37z61a+++dEf/dGbX/3VX510Ofrd+8So70N92ILmDtwr0hEO1NP9O25JtTIGRr9cYd8yqyBoibXrBT+fXeeYAaO8OixNqF8Zv4bBaJ37wR/8wSeO29tla0D/g31tJfeBdNp2xNiHQ/3pHpRpX30cYvv03j6HGV+yXOcETLwUFPHohQRG7Rqvw9vvuvpzjp7OufY27NPjfUL72URbui0QNbbXuPdDGPuF8w/7sA+b7JGtNk70SXLKNn0FwnM2nOtv4+IQ1rqnS3Ja26fcG3syEbBqZnb5spe97OZFL3rRFDx9rYR9/cZv/MaToPma17xmeq7p7Vm47zEC7ne8Z9zfhi1oDkhxjImBjYq0ZXyOc74ZIqdKwT77eSizxw/90A+dDBM4DMcMIuJhd7NIzzHtM9Zf+ZVfmfaV/77v+75pH378x3982i4N/Q32DYPkPpBu0++I+rCvP2P53Xtoixfl8MiAHSM+06s68eiZivOcu2OuUc5PeeEVRzJjnHCmeB4d/27f5uLU6w5hnx7vE+ldIsI+SkjozvhuzN/3Sx7xrk85cc/Y/AJNQVOfJKccOvm5n/u5iW99J3fxtQafcN+c7tqW+zLeOz73Pj3H5P/4N88yX/rSl06//PO85z1vemOWff30T//0zQ/90A/d/NiP/djNa1/72mmWaeIwF/pE9Olc/Xd/3TMcGqcn/fbsuZ28Noz3x/AZkwDH8O0zdvds34AQFDkEjhUMLE5BJiVwfuqnfuo041RGfTlnwigNDsFzzGa/53u+ZxpQzr/tbW974rTXCprd83jv98mrdg1SclsfClBkX38BJyR+CMQfwZl2ZLg4wAngyjnc4UvduCF4KJEROPHFkPRpNKj6O/b7LhxTdi529XLfKGC22mLM0xPdFYyMabLG/d8G40HAxLufaWOj7PMLvuALpjEBOP3Jn/zJaabDoX//93//xD1HjnfnD2Gt+1mTU3UXJOr/2B4u3bfxj1tl+KO7oA7B0kTBStpnfuZnTsHST+U961nPmmaYvmLyf/7P/5mSE9/PfMMb3jDZpgRlLnAK+WawHe+h43fBNQm4btGg+VBQn1MG4g0SRsSoDQqKR6zBQRgWCHZejR6dbcuqOQTXq8vxiDMoPuqjPmp6vTrn7HoOvOybUbqGjL+GIeuy5WS+67u+azpnwFq+WAMjp+3PHWTnIk7oho7oMT21n+7o3LZrnC8ZoXd8uE4ZOnaO7ivHeJWToNCve3TcTMNsUzkGUv3qFTSV9R0y7eNoTHK0pYzr1Gc5D1dEufS4L7hqQx1LQ72XBN2zFy96mGWwEcfowFhu+c34T29rIi6NDcGSI9e3L/zCL5ySJW9x4kE544Gd6R9hf7/8y788BU5O/a5gsda9rM3pWL97GD8b44413u3PuU9l+UC69vLPp3/6p9987ud+7hQ8JSsCpln9N3/zN09JiWVxEwZJFfuZC+3ob/2a07fboJ7d+kbb3cWjC5r11TahEIZBGDIjYuDE7x5mxM4xNE4X4YyfU21JgdNkhJZ5CrqcK6MyuAwMs1DLP85rF+zXPqPkRFxnoJSJC5qOk7e+9a1P6r2PoHnfiJcCmy29l4w4hhvH7DeAXRM/dE8/OCLjcYE0zgVNQU8WS9d4UobjjB/1aEP96qgszpUvGI6ZMB59NiY42Pi0nzN2PvOydQycXxrVfSnQm8DEntiXZBSHQL+e03OY9ENn9DHD9ZyM+Dem2DK7xLnE1mcOHOfKGTteRMG3mdB3f/d3T8FSoPdSnv4ewlr3cWlOTwFb7k1ZS7N84qd92qdN+xLVfgHoG77hGyZd07nVNEnoMUFz1M25+leXcWCrLvZ5yEYfZdAclWCbU2bEAp5MyDISh+rtLueBcfSdSQTbZ3gcJII5Xw7XeVtGp14K5mQFy2aVrgPqVX/94kgFRg62JQmfGargTKzxa0u9P/uzPzvVszT05ZKIG7oinC7HhiP6tY8fMs7yBFU6NkukW2Vx6nrb9N9qAocdFwyz8zhRhz7Q/wjn1Y0D7TJmXDmmvgKqfpmNmmnacrKcr2vcX9ckYdxfCpfmk75xZmbxkR/5kVPwxE1c/a//9b9ufuRHfmR6hiXBwOUaegh4xb8XfyzFsmezS7OeElvQD3bcrIe96aflWu8W2G5B827UV3oXNOmZviUpxoOVO1yYHHgB6Ou//usnm+Hv2JExcUrQXEr3u7o2Lm7Dgw+a+lZQ5OwYKiPlRJ1zrMAm63SeAcmEZcQIRjRRThmOm7OuDoFNkMt41K+sa4AK1a+84+M5GPXX8zKB+Bd/8RenfYPG7JLz5qgtD9WWJaI1cGlOtU/oqkAYJwVMxoYf+qdfoiw9kzGAmm3a4ttWoIyHuBDwSmBsHbfPaY5mUHntOee6sQ8+C5S4Y/RmJUTAlPxk/BIt5bVhC+P+klDvJcFmOEZOUkCSmPrM3sirXvWqadWE0xSg6Ihul9ZF3OLeODCGnv3sZ08zHc/V/LtGyVic23oxBadmwpw6Li0bOv5Yg6ZxPurgHGRX9G4iImj6BaCXvOQlk67Zp8SKfbz97W+/+Y//8T9OiSd/yIbYl/EwF6NultK/Oufo4+88+wOEm4woDrRs1zPFz/iMz5gyHVvZr62lgs/6rM+atoyn4Jkw8hw3J8AB54R9Js1gHLfNiXPeOeldIIBwEIKigWLAcB6klw6atRhADJVzfqxoUNJJMgavdC6JiRvPST76oz962sfzyJdVAYYZRwVWvLTvXPt4K7Di0v4ojlVWX9TperPZlh8FB/0RIGTRjivrWvVm2IcM8LHAuM8O6SB94wSH9ENnJbV0VNKyNNTLiWsD/42LeKld22TsRwnVY4b7o4+C3blIn/TLVugc1wJmK0HOs3MJEz9oW/J0rI1oL1kKc/vw4IMmIhCCJI7UWrqH/a985StvvuZrvubmK77iK26+5Eu+ZPr8lV/5lZN88Rd/8ZOsk+Nj0Bk1ghn+OJhsU6jjOfg+Z2SOC3Yt65VJ208ES7MSWbds1vq+JSFvklnvl9kWNJuxPFbQKaGn9OPe6Q8XZgkCki1ecSaDlQSZOQiiAqeAyTFzkDnj+Bsl7BpH/OKqz7vScfVy+saagGkZ0jMbY8lngbPEKozt7bb9GEAvdD4mkBxmKwb2PUOkI5zhVhArsRh1fC7iSN36og/GkH6wJ+PLFtejuM7W2CtxWqpP1wj6wQvO7M/BIX2kd3rjQ3HMHtgmrrMHum9FzWMOfJxiE8Yb0e598/TggiYFUVZZJOI5Tst4HOlznvOcybm2nu6zIGpr2YDz5YSJ61yP1DKhSDDLy4mbGXo+VcAzM7T0ZlZo35IO8UBbIBT4PN/y4oPZo4A4BkZi3/Md4rO6taEtbWbcjxkFKnpmRJapLdVY9qR/BogfKwL4YoCcYAmOz84Tgcp4GGd6Bc7aGjlluL28Q/f4wxdeHWPQytoS16pLvUTfjBljR/uCJcdcn/TFeIL68BjRvblXOnH/+GFb9FEyY58TZaO4UnYt4Bo3jQkwFvTN+NC2fuszKci2b3wYlxz9Y+TOPbk/49++ez4EZcih4Mbm2AKeJSklRnSofu3Ra6tn9K2+JhaH6t6Hyl+Cnwc50zS4kcEgWvpBFOfaUhkDadkuGWcjDCfjQRryBCkOkkMtK/WZExX8OFZOtReDfBYcBcAxIHp5wAzSm3fOOyaQEuUEXg66lw+IdgQO7TaQbB87DP6Mp6BGD7bEMUZH8B53+B+lMpXLmKqfPqsbv4JznOICT3GJl55ZCuS2HIy+qEvd2sjJkoJpbZ7iCO4b7iPpfk6B69x7SYSZhpUfQcuxElzHC1zKx9ES6B5wYTxIXLRlq119KVgrM16TDiA/gOuHwOGpcF/us/HcGB51k07ugnI4jt+SlSYi2R47apZJv3RNTtGxa8brjunvuXhwLwJloDIZhmlr6cdzTK+UE8cI43R7SGNIGYitAYPIMVgpZ981lm0zIE7UywEcaM+tlB2dKTEg1OkabRg0+ui4ulzDUQu4HHRfWyg4N4BGStS7Bq6F0/hgrPTK8GSrfkXEsqelWFwwQsbICSoPo+O1jWtIj8rSK15wZTZfYuRFLDN75wVRZdRj1QLPZrXKqoNTMHsqKFS/9iQ9EiUvOfj+mc/GilUIddefMO4vhVP4dF/p0la/6GAuRu6sBHz+53/+9DiEDZpR4ordCVQSR/qWOH7jN37jk9WY7C05Ft23ftjXHt68tyCBtiRs1ckxkjPHYfeuXX3psYm3ZyW8fuRAEnWXDZ7S7zk4hdO5UDcxrtMDezJejXnn3JfxXT9uu0/ne9+A7dC9seBRiscX/Bvbo0s/3PK93/u9N9/yLd8y+T92CNntMdDuyKHP6lmCj0N1PJigWR8Qywg5MIbKOJ/73OdOy66cLKfGKEi31pZCCUUjEWGcpX3Echi22uKoteMzIyIcoSDI8JwDRmZ5z7kCr/bGNhmdrQGpzYKk9irvXNcE/cjpLo1r4DToC044X7rlbP2KCMPz5mOzBcLxKdc1wed0TNI50DfnbFbJUCU7EhdOHG8Cp/Lq0z6OBfBEsC45a9VidKRmqpbZv/M7v3NyBmapxpQEqT7gNp13bEmcwqf7ZU/u2dh1T7ZzoU3XE84SZ//oH/2jyVH6THdxJfGkbysw//N//s/pMYZEgx2MOjoW6ibuRQBg//yARzL6QawwGUMSa/3RX/5hhIApcPo+6Tve8Y4paOrjYw2akO7oA1d8Hv4le9kPqR+33SedeiTWDxpIUiS7fLI62QNb8BUeb097jPW6171ushE+8FT91a/GGOj3EnwcquPvvM4VIlJzqIxCJsnIOVDOzODPudlXxjWUx1kiJidpMDBcpDEK2S7DbV827Nljy6n2iTIt2XGQ6vGZGAy2HLJ9s4y2jis7ijo46oKnQdMARVTyNKF7LtjRSfuM2DmcMu7GRNL1yguMAiD9c4J45PTi2WfbODcWcBKnSdc2BmyNGU7VeYHXjLVn0LhMxkRoX1/bXgN2+6bPx6BrC0RsL2GnOTNSgM5WO38Oqrs+aFfQlEyb9dh6VCNgOu78uDw7omSLgP6Sxw6cFxxHPzQX6b9EhE9ueRbHwIbZicmFLb9Hz9o5dswFbV4KVzvTjAxikBvsSECMgClrNCOw7yUfGaVlIZ8NduQjiyMTOAWr9jk/cOuCm3IGDCBTmy0tIVj2WRli+VCf1CcYGwgCIdSuQQTaUOc4KBuYyT507xnx0lD3mlD/bfe2i+6VxK83nC3zEFyb3VkydY7ucZz+6FOwEswYpoAncOIFh45nrI4X7PDhOtypo/bVjz+Gb9w1nqxoGGe+vqRM5dQvEPt+7bd/+7dPSZq2jDnXwaiLNTjV92OgvL53H8Zs43Qu6EUdApL3CeinmSbOnK9fkkrcsDczTY872JVj6WPueAnq1gYRiPkDK1CveMUrnnyp3kyngFmg7rrgnkuKWpo1hvqRA2PkEI7t91wcy+kxUDfRd1t6oUO64NfAuUP3Vv9cS99WYswwrRBZATQm2JPEk07f/OY3P1kG9710qwz53WMRf/oXpyQfey4O3vdfn7yT8ZRzn6CUlMEwy1CRwAgENU5UJokc4vmFAc7R5cw4SWKGYCvIMVyGSjgLSqYGksIZmT74zAk2g6g/6aQlhsiqnpHUjvd53N6G6q8/S+MSnN4FfcKdYOXvhHyn1q+5MEJLbHh3Trn6n+7NMltB4IxxLBhaficthwuWOAfXGQO2+Kh9yIk4B/jkFDgDfZJNc8LKGFNWFTiHt7zlLVNb6nWsMVM99vVjaaQPsH/X+AL3pCzRz2PHGh2lA8ty/snia7/2aydbFLycB32RQLBBOvLrQIKmpboSljn93YV+uwec8QeWByXO/rfRmBEwjRu2rC/1p3vWZtJqg+VjHLZCIXA2Xm7DKX2fA328L6QTmDsOGj/8IX0LmJZmn//8509jQNLinBUd+vToQjIicPYjICVMx6K+0v2op6W4OFTP1a0/UAAyKLtl2J5JMMSWXTxjMuMTOHsG5UY5JE6LcxQkWzpFFuJkOQyEjEuqhPNLCraONzMRIG19Zuy2srJxmXV0xO3nkHIOSxH7mGEMELpqTPQ50CeuJUccHj5tGal9gu+OE85bEMVdL3KpQ9AlrUbEc1wTY4nBG0ucf+OpetWHb2I81NeR87H/a2FuG8qNY/NYCEKSWHYqobEfT2R0bBwkOyF0TNf05NwpOlE30QdBkY8QJCXR+qMvArqAqkz9qU+7UIbPcQ1R55gcP3aMY2Eu6Caum9DQW0kK4Bj3bEzd+cNzMY6b9vu8Nq4maDagI8LAFRB7PiGTlc2QftfQA39LQR44M5YMhMPi5HKcnJoXNTg8zs2SEMepTDORgiDHl8PMqRYYR8PP+AuWDYbIawB27GlEfM5F3OMQ/5wW3dFt+h2F3gVMvJq5mCUIZIJmIukZ+Y7LkdMSHFx2zBb/BVTlm02ayZoleQmMOKYt5wu+xo0+6re6GxfXNBbqj36eAvxIWL2cJYm1hA7qxONYf/ZEj2yQjY2JxTFoTGmDzXPY3pTlC/iJAl+rBqH+wHjPHTPuXOOeWtI9dgw/NJxzf67DgXFgUkNvEhY6dJyO2RK7MxHxmbAJ5x+qXq9meTbyMgQB03IYg2SMjEKQNPO0NMYxMYwePJfdWJ4TJM0kOTbOzGekIZChujYDuu326w+MZUZdjNffVs+pqJ3RuJfEeB9LI90V9Oj8LihfsMSx5VnPMyVIeDeTYJQZpPICk2dOguXrX//6yRFzzALoGBS1z1Djaw5X9Yf+lfc5Z9zSrDHHuRZsBVjBuQDfOHNtbdp3fmmo9z6BA3bp+S6R2EpevbVqBYgT7V5x0JuTvm6AK6s4khkJxTFQZ2J8GRd8xIte9KLpTWtLtD5Lto0jsx88Kq/PIw/t27acr1+SIsmQr0f4/VncKlP5Xdx2/Fzo41qgC/rzuAEHlqK7xzn3o2/N6NnAl33Zl00/HkPYrXNsBP/s06Tl277t256s/PSeyDn+LU6z0aWg3kP9uqrlWZ01wJHJIVH8uCRr2/eBiHO9HcdAIrGlGYQZEAY9yXlSSIo+JPvKdWz3+Ia/Qzwa0MRncgiViX+CQ5zm9OicoeFSQBKgJEOSop6VSJY4PwFVmZHzY7nqGrA1ltSpfg6/53TNZs2m9E0fm112bTim/WsGPiQw7M4sU5Jrxoczx+Pb/dK/JEZCQ0+SG3qi37lQX2OpMdL40IdmuwK2QFof6sdcKM9/uJcxQTu2nmuGe3Ff7pMe6fPYcakOOhIw6b+txJbvVj/eW6ljN2yCPZJz7eCSnFw8aHbzlIw8CmcMSS/5eF4hcCaCp9lnM1GGgjhbxuNcMwKCQNBOhB0izrk5shbWrHtNxCWHU7ALtw3yxoDyOcQyWHziT52crNkcQxSgBEiZq+VR2axVBoFzDJoCGO6P5UvZMdASxq7Olu8FTVnzbtBUTrvjtaM8ZMRhHLOx3ivwuRUf5dwrHdLH+MgDh3MdZ2NDe0Td2jEmBExjRPsl0PkCZeprdezTf8f0syAuGCTa7PrHBDaGO+MUH+lhVz+3gT5wbsJC5/YLnumKPtkGO5HgZhfZxjlYk4+7+nY1M82MgkSoQFn2IoN0DhGcYA52vJYiGYzr+oUgb9T2JVvnOGNl4doN4dyBdV+gx1H0u6yyZMWxQ/fTtbjBK0eIc4J/xshRClqW0ARJr7D3qy1mnAyTc66dsU9LwzjUTuOxzw8Vc/RUmeytoClxlcR6nOKz40AfdGMc9DxTUlEScwjaycYJnyAgC2QctQCpTcuLbF0fjBHnjRNlxwA+9t0WRs4c04ZrC+iuH8s/ZMQZuB/2KbmUdHoW737v4iSkR/rhU/vlJZMZn6EVmVaCPCbzYxGtBM0ZA4cQd8f0eylcPGh2w+PNG+gMTyaZAZQ5Isvgzpgcd8y+coyWk41MRDIws0/H1Nn1DaJrg/tMHhri0aBO4vUuxGPOiwMcl2eBQ/Pyj9ll36ljiM0qyWhQMLf9YzHWvyuPHbhqjApWktuRKzrAQ0GTk7bvHJsdbTDeiXPZe2NgHAtEe2y5VSezTDbP9iXF6lH/2MdkF/E1nqu/j4lL95c+wH25T/biXo9BdeGF3vlXnORb8S45ksCaZbJXgZKNOr6kbpfixz2NcghXEzVGR5fxIMXW55SDrI4hqH3C2JBY0JSBWtrtWShyzWDUm2GOA+kaMJe4a0K8jcJBErzehe4XHwmOerbknHoYGyNvpunlEoHT88wCZrOEUdbEfbZ1LWAz2Zx7blmOTTkG+MLFKI7hskCY7ca563Eu+CmjXnZcImyGmVgSZNts3BuzjulDQTNpbO1DnOV7GmO9MZ1z7/xDBs5GX+d+sk/7t+loH5RVF16sBPGv9vHHJ9ObVQXL8eOjC8e1R5ZAnBzT931IN+nnrvqOfnvW/oxLjoI6ddggp3gEWG7xZVlvYzEIRmP5hxHZl9Uom6F2w2W2xPMmgx+B3oaT8RBvVyLScp6lvTH7ORajbs7Vi7qSoF9rYGzD/tKcQm3cVTdD4+x6NmJV4B//43888Y9z/AmItt5o7Fmm36/EL645uoeCNXW9JvDE1gQ4PHns4YcE/F+txx8SUjy6P3z10g+be9Ob3jTZmhUCS7WcKFE+ESht2TR7Fli15/k0uxcUtVt546Ux0zNNdeifvu46Qf0aA2DP2fgMb/aOy4j29bWEzDW38Xbb8XOxJKe7dfms323n3AN9Av3S8xd90RdNvznrl6DoXwA1BtipmSX9WvqlUyLR9ZYu3bJfel9Ld3Ph/sfJF39b/LgNR800lyRxRKQZ0DrLETIoyqVkxmaajwgGJMiNU/0xWyr4UkQOWCbkNWgB2Pc7/dKMLNW5lJWBLQV1JcdiyX5cEvF6F+LMzKKZxKgDxmcscGCE8fn1Hw65oLnhfoArQY1tSW4Fr2aNOVXOsKDpmRbbZbdsVTnlBUBOVtATcK0E+Z6lZ5S+YuRn2diqr7O0JZy072qzYc/R2LYEW1BVb8FyxDgO2y+51k9+xOoFR+6rEcaXF8qMu5Lprn+o6B7IaFtz7ytfRr/4FzQlKR6B4YD+HeeL6ZR+g7LNSF1j7Jzrb+vP7v6x6Npj6pgdNE/t1FxQdgPZrEGAlJ30J8296NHbd4Jqb0i6xrVj8CSIlPkwKkYmaH7e533eZHQMjrEiFNlj8DwVtXuurqpj7oA+F/fVzj64Tzqn/5bdcFafnMO72aXnl7J/MwHf82oGutZs/CHi3LF3COpmIwIl2yKcaIEz22GLAhGb7e1JdopT5Qq6HKjE1XNJS6yCppUFtur7nn6u0D57Zbv2BVOf2bGyruuZpn4UvPfpQfv5GdKsgj8R4AuaxDgzQ1bu0vaxNKfqG3U05/6UxX1Jj4QJbwKhhKexwB5Hn2wc4FvQxBWfy85v4+hYjHXYP6XOY6+7qt+erfPIybDMPgjjkoXmVJVTBnnOMZgEYQRJBULBcZyVeBYmo/QD25YQeljNQXPGlbsL6caWKknH5gzG4JpRqsvAWwP18ZLIcMw6JDZmEoxK9mqfUTreDNMPGVhat/pgJsBAHyKOGRdzEZ+NnZHfpdpja2ySo+QE2ePLX/7y6UcFHC/x5CitAvT1Hwku2xOcWrrTP2U5W7aZ7WbzxkTjX6LsmPaVd53rsw3jyLUFTBh1YF+wHFeliCCpP/rqb936rVkJWUFen20P4a7zp0L/1+AxHdHFXAiI8ZTP/Zf/8l9Of5YhuZF00Bkx2Wlf4lSgxaEfaveDER6zlPS6r2PvLb3YjtceU49r9a2xZzzpM84P+d3Tp1UrIOU1wClVELN0wgA5Tc8e/N8d52lwexnEPnG8H+3mZBkFg61eQdazUEFXQLUM5BdnPDvzQoHB4DwFjoP1ECKpLdTeMeiaXXnsoOeSJEYlSHLKuDCgHTeIOTbO1mDumg3/LxozS48hOuc4OT8zBQmNmSJ+OGFSMKtcQU6iazbIxtiaGaMl1349hh1a+RGExxf2EmPC1vhopkraL1jrg/aTwJ8QY6d9/sVnTps4Rldt23+MOHVcuIZvlNjgwzgQSOmeLvlqM3R+Oh/Mb7Pfxg0xJkbOTkH9H7fH3pPyODZBEiyNgzmrVlcVNGG8EcuvZoCWeARAZHihR6YiYAqUvqdHBE9bS3dmkM1OZEAUQZCEZFkso/cigyzJrMZ3OgXMgmYGOAcRdixpu6iODPcxI8eGE06WEXGuHKagGQ+OS54kPyVAcKqxbTgdeMIJpye4WRUQtHJ+ic+cJDtT1qyk55YtvyaCKDsUMNlgz71yrpxzn9U3Bs1Rxj4YV22zKU6dD8i+7BcwzYw73wpT5Rpvl8aS/VDXqfWxS0ETpzjxmZ7piq/moxOBk98WNPld5Qu2ODOe8HYquodzdKPfxgAfI3A2Rg7hav8abBc52AyC8SJMNsuQbJHZOZ8ZqWUkBNuXsZb1IpJQWM8xvumbvmlaqpUxefN2jgKXxD49I3UNXJpTRoM/swfOkbN88YtfPDlQjpTuBUyG9R3f8R3TKoJkiRGacVqyU+YhYo0xtRaf6iVsj8OzdO55I67Y1G7wVNaYFYQ8yxSE7BfsbJUpqOF3DHS1SUeJ6ytDoOPp0vnaH6/VfjMI2wKhrSSbvXteLsG2rGilyktnrqvcXVBuDXSvS2PU4VyULFmZk9yYaPi9Wb7UuDCBaWnbpCXfarz0BxsSJv85a2n267/+6yc7Vk6wOtbPjbo5R//VM+okuQ0PJl13E4yEMADZoeyg2Wi/PMEACAMwK2UYnG3r6P7HjeN1jTpkr0gXXAVdwplngPeJXbIOEfeQQa+EjhliiU2zDIEULxwqjnCLL0u0OeHHqptrA54KSOwCL0QCijP7zhXwdsdv9lodZAyUyfjZddUzltlF9ZOCIbFPOk70gYPmMyRcxpPHPn39wRjjxDnwxld9eEygR7pO33Mh2eEnJUm+eeClrZZm6Ylu6dA3HeiUrWojXcLYrgRqd1n9WJxyzS7q2zF8P6g1rm6MFDgFzYzAMi7pu0FmjzIfsxTBsizHuntv9MmgWqO3zWGPjmDDcshoc56WajhfTlhWamuVgDgvW8UtjvE1d2BvWAbxhYuCpkSnVRuO0znINsdAxUbHmUSOzucxOO1e61wCzoWxrPPasfXZ8fFYW8kWXyFocujsn6+wosRXcPiW//W3esY2HwPoPj4LVPFxGyovaLLV3nL2fLpVA/rCMZ0KmpIRQdR16bC2CNt3bStJHT8V51wLx3L94KKCm0MSY0CUgc6h9sJQ37fyJpx1dS8OCZhveMMbpoApiJp1MpIGAwfdbNO+QFrgvASOJfHakVEwEvqlW4GyZ8rE1wjMNB1nnBKYjFIwJZ5D40lic6nVgKcN2YgASef0b5nNigCOOD32KLkRlEpic6ACksDEJq0AsU+2Z+u4cmy4a832HFPG+wgSppbjW2nQFttX3jHblgNJK1DVRfgHZQRKMyGJdQGTr6gvritoPiZkg/nP7vHQfSqP/3EC4YWtfnQE/47TGf3SKc59xoEEhN1KstShTfbPxiVb9o2pU21Y37unJXCXPsKjmUp1w0kDo2yTMDBG01td47MLyucYCKfNUVwqaJ46iK4No9FxrgyFwWR43ppkfIKn7JUBCaxd0yqAYKq84Kps3/dyviWeDesAb2xBomN2KbEcAyXnWHASgDhNL4D0FrutZ13E45KeefW1IeVtBVX2WCBzjNh3zuqQzwIpB61NYp8IomycPQuObF2gVabAaisIq0N/fVbWtc1UCX/wGLHrG+fcJxtO8M7W2JzlVXU0i8eNRIieS2CcN3Zc5/rKE76A/ZYYH4v6fgmuHv364zhQkMloyoAF0JZvECdYyqRlRgZF2dUlcMpAuiboPykAMjRB0Qyll328TOCtSQFTYGypr2sYVEFTcBU0BVpLQ4Km+sYXUO7S2UPX6X2DvuiWjs3u6VxS6Rh7aslT0DIzZFMSUsFSYLS12uMxyRg07TuXHRKz0IJmgbP3EzhkZclu0BQY9YGTzpbNcJptjgGTuFYdJAffde7pEk74vpFPvAvZb+Mg20zoja7pEF8SEQlICYw2jJ2Cps/puYDJL5xql93Dqdefigfz9uy5yAkTgfEVr3jFzcte9rLpdzORbonIUi4jZ/h+9ICxMsy5GPU0Q623YqzHAFsDa3OaYaV3hmOm4rt5L3jBC6YXCno2UvAbjdJ9MzCSU2OMvlJkmZ3Y56w5wt1nUUn3aUtGfVbmvrFGm0vyOeqsRMfvi/qKiASmxAUnAh3bEYQEtR6X+Gy5jm0Jrpxk48G+ICwAS55aXYjveNS+LRu07zrlc8LGRTMWAd1yn3oEw5Z8jQ39MT4EVn1shil4Gz/uYZypHsvPWmPIPZKwVju3Ia7olH59p/Zf/at/NfHvDVrJTY/D/vt//+/TG7Rski2zbwnxV3/1Vz95w9qbtpImfvb1r3/9NGmhf/62mekpSEdL6udQXfceNMcbREaoGzO6cxIYGmGgZi+cgFfnv/Zrv3YyGIbEyC0bMaw3vvGNU7bM+Of2aakBPtZz6kC6C0txqp4En+nYcl4zR8ZnFi9oml36CTSOmHjmwTAFVuWqi/5ynraEU8ORZIYwPp9luGYWOT7tcorNPsD1HKLPOWeOlTN1PD2vNf5GrNEGnS0F/OHCtp9KYytWCKzCCKR4ozs8mA0222zm10xOGcKRGh/EPhsk6m/Gga/uAz/GjvK4NEaMKc++G1dxTYylgqbyxoL6Wj52jLBt53DgzXqOn9PWb8eJto/BWmPGvWQP9zk+gzGAK9ywXfz7FSDJk8CJ95IjQZM9Wo5X3hu2Vof8YpRg6bGMccS/WmV47WtfOyUrAqeVCNyww2OQn2jMLKmbQ3Wtuv4Y4fvQcdsGR59vu+YcqJMiGARyOFoGX2aMNMbLITA+Rjo68Tm4zwF9DUgv+MvJ0iH9mUVwiLLMfgmGyFBlneNzY6KOXTg21o0Txifwmq2+5CUvmcR3Bp///OdPjt3PekmI/LQbB+v7YdplwC0FM+icLKdwW/sPHafaEX3QiyDF4eGQw6N79sFW2A9naZbB6Vmhsd/yKmfItiSj7Mt+y6r2OVtBlhMVtAQzUh0t15rJuE4Azqk2FgqYxpHP+mzfMQHZihJnX4LmeaytezImmwFJBFzj+mPs/T6gL8ZmfbrPvvFnBWt+UxKCgzGpkLzQnZUDeiTjPj5KfowrNsf2iXLZ4LH2t08P96Wbiy7PjgOhbqwVeCJFW4jsF0n+6T/9p9NnhsjQrM0zXj90YCmB8Rska/VrF/o36qNBuzTS/SkYr7Vf0GEcHC1D4GAFSDMSyzp9D1YwdS6Hl8GM/IzbfUg3eDEzMJvgXBk04WTVpxznzvly3Bwrh++8pSQZr/1mJepbS98j1hhLu/rq87FtuQ5/eBRUJB4Sjhe96EXTMfoRCHvm2K9wNcN0ji7NLkH7RL1JY4XgpICnXImXcpVRXqCThEmW7OeQ9dX1HLBx6LpxVmY2Os549U8Zwd+PZlhN8ja9seB9B+NF/4/R2zFlj0F2QdyTdpL7QDzhRAIi4fzX//pfT37Ty3xsB+/0Ro/8pfGgf7iSmLzwhS+cbB9fEhTjRmLUD0tIkL71W791qoNtXgsO6fii6XUDYBzka6P2CCcp60UW4zJIGC9nzjAZpAHjOEO7D6STa0POrlkIJ8UYzNrM4Hq5R4BkVGZ4/Sxa2b7yZZb0qq74wAWnhgtBzNZnDqwl1fSiL6S+cIACsXbwJlBrl+ib5WB/KaWvPVtxnGHrk+tzzo8Fx44j918QEizxiUc6wrW6JCSCjqTSzNIbrWaLRLDh+AQo/OFM+bizHY/htoRHnbYFTILLBI94w7Gkq9mMvuJO0MTdKNmrsaVN7RXUOXoOX7/NeH12Xj+vDdnHsXwuidH2WpljlyWa9I0HghM84YsIttkXdC+uaRyU7DwUPB4vcQQaiDmBDAaxnDAjtHyQg0fqJXApI9mHgiYd0Q/HxTgEIhmlAMnRmpUkvhrC6XJ0ZZuuLUCpMy4yIMKZtk8KnMpldGCrDvXhykxWG9pirNoVIGXI+iaYCt76rV8cckZ9SZ4vDTosATGbpCOBU2JBV3RL/3jhNHujtWeZnGiBD1/sij3F1644R5TDrS3BY0t9JTclQfHWsh7OlBVg9dt4akwRMD70Wxv6rp+WhwV3KxNWkQR799QYuyab0xeS3vp8n6jN2sUzoU+cOW7slPDghU2xQXzhis0rUz2NATo3XuIs3o7BKdeci6t4e3asf0Z3TgKDjDQEc/Kc/fOe97zJuTNOsyQGZNngVa961c3b3/72aSmBoRkojGptNHjSgwG2Bo7llP4IByUYFYQExxyeIMTpkmZwHJtgxvFqs+TEPicH7lEdZpc5BxwpS+fqG9tPR65XxjU5POKzsjnRymijJTg/eGGJqGdntrgnayNul4T7PBX0hB96xinbYBOeFdOb8/RupibY0JvnmHTZjI0DpGe47f7qY7yDeo0TbQuUtU0c54jx1kqF48o6rp6kMQGNB31iu/jVT30nbBnP/aiBpUX3ph3i+mOwBp9wDqdLQPuCHf0KgJKoL/3SL51sn6/EnfPKeQmoJXv+QaKKS8lX/ODM82vy5je/eSrP1/oqkrEk6ZoL9SX4WooD9cGhMfCog6Z6qw9x4DOikZnT719OvDwig+JUX/3qV0+OVUZtCYfRMcK1sauLJfUx4hhOlRXEOCtilkZnHJglPHCesQiQMksZJj0Tn513L3TIQXGwfebgCD3neCtPcKeOZqmM1XmiPHEc9FW5DFqZxoFyDJMj9RzLP+NIinoZheE6tzb0ZWkcwycoT6/pVsASlDg7YknU80zADb1xcgIQB0noyuwtPg85mhxn7dnipxUCM0g2aWxJYD0zG4NjM0zO2zHXqi+BtvphBiMJM5vsZzP1n+i3oIl7x92T8q47xQGvwSd0P0tAXcf20zV0T9i2SYYX7vhMdi/BiEd+smV6YwmXVqGMpYA3X/ORcAma9I8fz5PxwffOhb7VP2NvaQ4O1ffULM9SQsIwct4MhrMcZ5KI4Gyb3fi85AA+hLGf1wT3b9DL/i2BMiIOjINrZpDD61kGp2emWUAzuDmyXlNnNByagMVwPCcjMn/iWOf6LMAV5HKCslvG1zMqbeAXzxlWAZTD5qh7LuZ+HIdr0/maSCeSC/rApSSyt0pxKVAJaHRENwInmxFg2ufo7gqYEA/GgjFhbKjbWBGgjR9tGz/GllULQZyYZY4JmTrGoDki22HL+smuW5Y1Njh148QM075zyrmHNZzvNWFXV3ORPnHdSo0Ze/ZHmik2DlxDn/Fe246xTbwoz1bnjJ99OPV+zsWjmmmqZ+71HALD5RC8JCJz8lc3CGRIr3vd626+93u/90k2KhNC9lycek+793COPg7hGE4Neo6OI+XEZJB+ncdswOycIxuTjOpmCPVfVkqvMlLf5crwHOd86dd1dMyJaa9rtYsXZQU7xwlHqm/EcW0L7D2Lc8w2oyXqZqiCsH/rt/UmbcuNzq2NNTg9hk9l8WXsEwHqWc961qQ3vPosQNEvXgSceJNkSlj8+UGrL3g5dE/aw0H8CILqx4+XtPAreNrql0DeDEW9rmt1wbjoXnfv2WflcWx8CZISrZZnBUp9l2Bx9GMCcA4na/AJu/d3CnZ1dWxwch2hdz4TRyU1OMErCKj4wS8uJUDEj5ngD5y3uuMt2//6X//rxAOfYMvujKNjkO3zDbsc6PNanF5F0LwEOAsDQZbN+Vun/xf/4l9MGRVHwaFyDC3tyIzmkLpPV3PIa3AmrjHAT8nA5mBfP2+DsvTFYAQhxuDVf0u0vhNZoGQUoO/0qO9llhmH4OTXfOzTK2fG4JRR3nWuUVd9lNy0zyjtM5aSHjwK3IyamLkI7GYttuoyMwEcMlAz2r524tm15Ub94UDXxpzxcCzSz11Id3SGS8FLIuSrAfj0jJ+Om4EKmGZmltUkGBIdM30cOlcys++ecmrGB36a5ZtVcrr48ZZ1b8fqh7L4sgoA1avfOMwBO65tEpxznK3qo34LjhJfCZHg2eMWAdSYc70xdw7W4BPmcnobxuvxAKO+jgFOjAv8GTtsz2dw/xKg+DWOehnQvrbTkUdeHo34MQRjif3zDXFxDBrL+3ykc6f6zruufWqWZ3eBxBST4TSwnBsHnHJzDKNrbEeZC2X1gXOwPebaNdF95LT0jcEwHmK/2WZ9B3rlUGXzLetYlm1Jx7Iqh8aBOc6pCaacnS2jahlIWeXaJ/Zdo15bbTBASY/gp119iL+RQ/v6WnBO1sCadR8DfcANDiUbEoyWRwUwIpAKWHgtCNEhXUpuxiW19Nn9jdI4Nja0ZXZSW5Z/e+blczNNQVM5S/vaL9A2y2xc4XPsk/4Qn21bim253rjos7HRsrKxqZ4Nd4N/pDNBjh7ZIptry+7iAO84w13+gOBNcCxJVpbM9a/7sHvdOP5s56Lr5lzz6ILmXEWVSXMQZppeeug5iuzbIFFXZM/BqPgGikEzt0/Kcw5jALoG6H9GwJlxgj7rL3SvwUAmnJeAxsjMVCzLmNkxMLMBzkw5+mU86ckx9flsv9lFiY0tA3WeUybqiCf9c8x1nCJxTefVyXA5z5bo1DXew1JQb9I9XQLapQ8cGvMCllmeX1D65//8n08veFieNe4KUPQiaZHQ4EyC4zuazdLibrw3Y1Y7RDtsylKrdvzW81d+5VfevPSlL51mtP7R32xEGf0ixtXoaKs3aawYPyVLJVH6aWsFwYzSviVlW+V6WUXgNCbU5R4eK9xb4l4b/6dAHXRWEix5MgZ8JmDc8KmSHsKPxl+8FSz5BnWUuBzLQ+PBde0T7Rl7xlHHjsGcax5d0JyrfEq1xNDzlWZLFJ7hc6yIPURqSk7R7VfHMYFPGwbXtRm0gdiyDB0V2AUn95hhwHgPILj1go+lbs6L4+KElRPMXKMeddjmQNWPI/XHV/v6kgFmeI6ZqUh89Df9J65VzjXNOOy7H2XJYwYd0KHZpCVSQdOzTM/zfaY3elcOJ8a+Gb9gKdkRlCQ67AJ3EPe26dsWR4Jms1nPSv3MoWV9AdSzTD+GoS/K6FccqU/7jaVxTOWk9cE40ieirxyx/hHLsx4F9EMMnmUKsoItztV5LvSzcb8WauPcttLnOaiOeMABXbJh40agtHKAT/bHpxoHOAXlEvbHN6gnjo9B9tp4GaUxWLvH6G2Onh5d0JwDSqRURGewHG5KzkCRi9Q5igxjuWOuC11zyrVrooHYdpyRNCj1NwMgjtsyLAGOPpWndzr3HIShCXQJJ0rMPiQ0xGdbzrfzhFNWDwPFY3XZOqadXcPSnwInoy0AOL4m0tGloH18Ged0JlGkK3pOl/SVruiEfiQWzSroyHliHFQfXVenuqrTcq+lV2/lCspmt/YdVwZPrudc1ZWOtKP97E8/BDuO1vKgpdaW+lvab0Zs61zL/PaVd516Gofn8K2fl+LzUu2GuGFDJD3izzgwBnY5rTz9E7aHV8dOsb30P+pirMN+sgaeyheBGD0D9lzFm7N+sd8SkoyboTHE//k//+eT72nKYBkagm8DHaXKkdC55OkTB5+TN6gaWGvgGE71iRP0ApDAZRnPEls/wl5ddDQaU88XWyZrdpcBcWYctft0nONNj4JgTtOMk046VxB2jJFy+MroI/FSF8OV5TruOoI/QdJMpBe9zEDMgD0frX9LoXb1E7R/ipOYA+0cAg4FMLNJwQqXXuLyooYZYONOMKRfeqATvyuLJ0HLi0CCkeDknPvAGf1zkIQd0TsIynjEiS/DS5KUx412iP30RHKkeG8lQZs9M9OPRB+czzY5bdezX3aMZ7Pkgr7rz9X/Pj2rcw3UVrqB+r7GGDoGxkqrc/RuJaE3Zo2pnlc7z+bwZbXCNxL8OIbvweMUf/mLuRj1AeO1u8fn1Ns1tpU/xOlTGTQZq+eYnL+3Bu2XDecQ/N+b/9TkVHP0cwgIIwFzoHxiQCItWQPHcMqhcrb0xPEyBs+kJBuSju6Vo7Ml+l0wlO23rNeMhT4ZjDLdN6erLVs6aB/qbzPDwHBJb+8RQcG1eLaNB21ynGYd3v783//7f0/B3FKePpYFL4n6nY6SpVE7t4EeetkHlwKapVLBzPNMoC8Bjx4kEJY3LadzeHjk5CSQAhHBgyDYkhy9WxGQqAiGLZP7LLCqG1dQgPZZ3xPjgdQHwh61hyMB0FjSFzzqjzFlnLheAHWt/horri+ZUw6W1v8afMJdnF4S+obXEtP8KDH5kFwbY8ZdL2H5uom31I0rf72Iy9FnHINRN0vof7e+Q3VezfKsTu+TJaE+hsrAGDWDZ+hIR26OnLEhM2PjHI4l5pTyRFuntrkm6K5ARof6Rz9Q3+tvelZWEKPnluskJ705aUbol5iI7DSjc9yMRVJTGZ+J6ypjK7OV7HDcHHZLfoxZ+/rcOEq3uGWwHKuAYL/ZytIYdZN+LgFtd3/xk0B6iuc+sxWBDYecYLN5wjHSe1xJomzxhRtb3OC81QC8jG3hI8EL+yswNqslVisETkmsJMdzSqtAiXNWDDzDFOgFWAE1W1b/pTl4TMCdsWN8ELw26yTGDPujb5xKXvCIV3aXvZ3DiT4shfowpy8XnWlW72ikoEtJij0X6o9kBiwb4qhf+cpXTmQjnWNouU4m5PtEiEb6XQ5V35foJ4x1LVXnLo7hlM7MML3pyElyiJZlBSw/blB/C6JA33TmWMts6RAP8RFG/kGbHePwwqiPyquH+Ex268opm4FwpJyq3xbGMScbx8rcxfMSWIPT8X73gX4Eur7eIbj5bVk2wBbSmXL0INhY5qQfemMjLYvSn3OOCZiSFTNN9drijsPkONVLumdtqHvctyWCW7PLZv89wxRAbQXIloubqeQjRr2uoePbsFZbdHKN0C+cGk98qRUFb0LzCcYSPyF5dQ5HuLS0/5rXvGYaO7i0RMsvjLY9F7Uf4n9JHKrvYjPNDMXNMzDC2MwSGJsgNjrCJaAedcqEGLeXEWTBCNaeJQROlUEyXKRy+ocU2D0sifs0+LuQ/vFTNomfglqBRp9J+qBnopzyZhn0LjEhPjuuvpIWZRPtub7xUX2Nk1E6p+1d6JP+4RKnZiwcr4yX4Ns91P/HCvc2JjXumS7pfleHdO6YJW8zezPGluXNHM0ovQFrad6Mn1g9wGuz/NEm6L9x1BjRfsuoeMGF2SNn+pa3vGVKaN70pjdN/3n5jne8Yzrua0ucrvLNIHcD5ri/YR2kYzyzacGRH21Jtkcl2a3AybdKTkt+srlToW7t32b3a+Kiy7MZqBvPIXOmlI6InGnKV3augsa6iTpaku3NwTIlDgKBjJETJQx6NMqnFRlIwbEt3QhEo5itOb7PIOIgLsltXNZmUrvVS1yb7EPX2eobJ2vWYvbCgHGN42bAyj120F8zfzyN95we0yl+2B9bZCuSzGxGADXDtNJglmmmoVyPOUhBUxtEu7VN7yWmgiVOevvVKo/g6VmzF0fMUiQ5zinnOlyqJ95G2bA+GiOSXj61hJjY57P51MaAcZf9ZXfn2lx9qI37xEWCppuFHCklC2YMz6xPZksYqACHjGY3OdtRQvsFy2YyiBQcZUIMXd39zBPSAamyoF5yEDgZJsIP4WkwVgOcs6ITg97swH5G0EsZMkhbZQWjHOVoILY+FwSdH/fpPFFH4jOO7BeY1ZOE+KhOor/6ZqmRA/ZiiRmLfqp3t4+PEekkHt03PXbv3T9hR+yHXbI/Nikwmk0IlmaWXiDqObRzgmozDNexPXVVd4ESF832C5BmkH6QwKMRfxPVzxra718xcCZoGm9mLvrfGHjMvF0r+Fh+Gef455vxXuJk/ED8G2dsTpJkHODuHN66Vlu7cWBt3PszzTGwpWTLpBTPOAU1QskMhfFweITBMHSSsex2H1kEiX1nCLmWlgRh7VhyIjJmy0195cBSUM+4HDMjYexz0H3NUOdRWLq+cAynuMITp2m2QWde6jHL8OV4A5cTozf6ZUgSFNfgSVDFgzYZCz7cV4EQ1447r7x94jjBoz44j1cOuYTIcWIfXA/qt68NyRAxlsxgPI/jiHFsTGljLT3vwxpt3cWn83RWAilh9PasZ1H+qCBHN+qRnVVvW313XNl0T0AZ5wmdluSwITqXUHGajrNnQbCEyJYzVc44IsodsvVrwVr9uovTSwH3fDfb51eJH8qQQJEedxkX+LTcTr7+67/+ScJje6re6EXdbY2PpcfIoXrufaY5dmacZXLAnDFjlsX2oo7MlrPmiDlehs9xZuQUl/JIhCqnPAIFR4HYyw8Ry6lrV38YJoPNuTJoGTHHfSzqz2NCOhL8OL0cW78LK9FIBCKziPHL5jlIW7McdZCOK2P2oS5in9SOfWVc0+wWX4TxFXj1sS0n7DiH3Uy4F1hIs62M7bHDPRrP9EJndNfqAF3QE70pl4RdG2vFx37nSNdoR13pHsd0b2xIVhLfAW0plnhZBDf6FafXHjCfRjQWJFhNSvLJBUt84c84MwaMMWPPuDA+zuHTtQVKAo1NfVsbF3l7NqW3pCNYeqnAsqnfgBU4KZwT9mVYyzZmCYwOCQJazpHjS1kEaZGpbkFXvbZeVjBDEkQFVYbv+paC/PK+NguaxzrU+uCaY647hKXq2YV+HoN0yzgkGxIQevRSCAdH6MxMBq+W8FzDkOi6fbwwGrplRIRz5Shx2uCvTRw53vK9WZI6cLybHI1GpF7cEsvtArm/e+OoJUYCr3bVfd9Yg9M5fCpDt3TGJrz57I3Hl7zkJZNd9NxS/+gRT66Jh3jZ7X9tZy90byyUGEl8PJ/EAVt2nBMlrhHElceV65M1UF+XrH/tvl4T9IkPYHN+4KRVOxMbvoCwS+CffTfTLNOPiXzLt3zLxPFop6di1I2x2Wf2vAQfh+q4aNC07MYZmvUJlAKbL8lSPAcrQ2FoMlUzkDJigVPmihQoyyHAsXIAHCnhCDj4MmSkqoexqpsj9cKBt/QYOIeaAd8F90KUHfV07qAIc/pwCo7lVPkcJ/21VCsRETA5WMCB871gpTxJP47ZJ65pRoFLxypP/9VFlxy9QNnWcdf4LNO1xK9cRuOcz9rkpC21+wUgAVSAxn9l7hv6tzTm8KkM3dIZW7P6gj/LbPRHLNeOSWk6x6drAW/KuA98CpJ4ZJeCJPuh41YH6L6XrwqWyncdrol61bm0fvbpZsk21uAT9Lu+r9XGKWCXxoRka3w/xJgSQPPDxo+3nj32Ynvf/M3f/MTm8henorFIL/bpyb66l9DVoTouGjQ5OzMTz8GaEcpeGG4zEgYmeDJGRlkWK5japyRlGS8Ddzvq7QUGxi4wC6LqyxkIjmYcvaFnCdBMlpGrf67yG9jKjnpayhnP6cMpOJbT7pMwCrqlV4GTw4MyPucJTnahTPdERznL9FUbPhsjBU112a9eW9cVRI0h5eLBfnXmrC0J4tw4MgZcv5Z+D2GNNt3zXUi39ChR9SzK1uqOJMi+RyIlFGwFx2wU3/FJbxLOEhSBj44trZaUSEab0WdTypGuJWy4/fhbGunGtvqXbGeNPkN87WKt9uaiiceLXvSiaUXJJMeKRbNOdquPbNs/G/n1LWIlz7HRNk/FGDRHHZ1bbzik44v9uIE6y2IFORmvJb+Xv/zl02yTM0YMghgpZWd0nB7jZIgMXEAUOIl6Xadehu6YfcebXQrAlmTNMN/85jdPxs2pMm5GrL1jkH5Spc8z1DoLS9Wzi/p8LFxHmnUWBB3zWTDr/mtj3G9QO5ae7ZMR6lFf19mvPXDcfsHUWHIN8TnkpAl+jYGc/W6b94U12k1Pc0CPbMLqi3cJ/Ls+xydomm2OCUVL4pZvBVDt0KnzbEWAZJtWfjhI0syyGT3d44re1Q3pX33qWitgBu2Q2l0Sa/W7Pu9iTT3NgfHDxvz8oqApYPZLUESfjQnce1ZtBc8PxXzDN3zDdHwNDpZA4wMO9e9iQRMontMT2BglMcv0Vh8DFji98ZpjLksBQS5j4zCVQaZyjiXguEDb7JLz7IUVr7SrSwBm3DmLuUg3cxV+LJasa8S5nI73PcLndNH2Ntx1b2Mbt+0XSElBU0DwGTh244Zw9mvOaOZijbbTyRwoSz+STSsyZpmW1/rOZYkjfSkrWHp5jl7pzvlm6/Rp34zScqxnWNmTYwVgcN+7967+fceXxqifpdtaq+/HcHqfYHPsTKDsBy+sFPLZxHn8GxeSKc+xiR+rWDphbfwsjUN1XjRojjMDAZJ4zuIZC0M21fdZUEw59YXywWeBt/MM2rmyYIZPBEtBk2E7jsyelbZ0xMCPdagFa9s1sqgl6xqxFqf76j3nHsb62h+3yRg8jafKGAs5d3JsUrQG1mi/+50L+rLCI2EVPDk/WwGyhNN4Vo79mZXSLWRf9EqaTbIryWgrQCR933bP+r02H+MYWYP/tfp/LKf3Bf0yFkxy+GyJVi+SET7deDAOJFB8Lt9rZe+u8XAM6sdSnKqveg7Vd9GgaRB344zXsxMkmOLLXvzdjD+rlQ1zhMhwDelzz1ky9JaLGHVvSloq8uzS1izT8iyDFig9Ly0bpooZ6ngCfa8fsnB1cSjH1HEXlqxrxFqcrondPhsH6cc54hg+Sn4cw23jYy19HoM1+nAsn8rTE9tjQ4KlsUxXHVfGMTrtc/anDLvhGOmVzXGUY9Kavg/db/1eixf112/3oM939elYrNn3awV98tcSKjLuO5cPbowYGwLoUrqPU2NXW8bauRjH4qE+XjRoBvUb0AyR0i0TyVx8V9Nr8Z5NIsV0XxkG3vMVymrZiLFSoKAoQApifd3ASyAtGzmufHIqidrXNvLsC8KczpI4tW93YW1OL4nde1tLh6dijf6cwmfX2DaG9W2s69C+sodkDsY6515zLGrDlr0vjbX7fa3Qv8bNmFSlZ3oZfeySvlE7MLa1JA7VdxVBE1K8zMEUvzdqBc6yYEFJGctKjgGFUaDbsG8G2duS9luWbdlIHY6fqmT9dG06aWmYLJXxjDi1n3eh/m+4f6zB6UPlc+z3WmM9aGuNNjYb/Zu+1t/0nF7W0M/Y1tI+Fw71+aqCJhEAzSoFRku1nm2aXRYc7Tcj9dlxwarrLc+acVoWECAtC/S8peWClmLn4tD9l/GAviw9QJauLxy6pw3rYg1OHyqfY7/XGutrY7PRv+urLaGT5CHiUL+vJmiO0J5gRJr2j4iYMN5CWYdjoxTQyLHQj67TbvXs9gtOqX8X1Vs7a2Bf3zfcD9bgdOPzcths9HFgrt+9yqB5Lei+m9GCYyl1n15mqPNOjPXW7tJ4Wjm9BiwxRnbxmPnM5q4Va/Vts9H7A12nb3we8rt/t7Y4E2Pljxnd5233u5YOxnrXamPDhmtHdpcNbLawYS2M4wzuGmtHB0245qxvSZhhen7aPhkx6qH9c417X50bNjwkjE5o3J+Lsfyx127YcCz42fHx3V1+9+ig+TQ58pS5T6Fr6mG3rQ0bHhLOGbdbwNxwKcz1uyfNNJ8WCJa9absrYd/nDRuedmQHp9jDFjg3XDO2F4GuHGsF4Y3Ty2ENTjc+L4fNRh8fDnG6zTSfUmwG+biw8blhw/1gVtDcDPIy2PS+YcPTi83+rxOzlmc3bNiwYcOGDdvy7IYNGzZs2DAbW9DcsGHDhg0bZmILmhs2bNiwYcNMbEFzw4YNGzZsmIktaG7YsGHDhg0zsQXNDRs2bNiwYSa2oLlhw4YNGzbMxBY0N2zYsGHDhpnYguaGDRs2bNgwE1vQ3LBhw4YNG2ZiC5obNmzYsGHDTGxBc8OGDRs2bJiJLWhu2LBhw4YNM7EFzQ0bNmzYsGEmtqC5YcOGDRs2zMQWNDds2LBhw4aZ2ILmhg0bNmzYMBNb0NywYcOGDRtm4hn/96/xt/u34t3e7d1u/uqv/mqSZzzjGdMxW59hRhWLo37MbVv5fWVvO7406u8u7mp7rb7t4zRo89R2993nfej3PtC92b7zO7/zzTu90zvdvOu7vuv02T3+5V/+5c2f//mfTzo9pMM19PEu7/IuT9q9D+zjecQa/dDmbru1c1d7d/U37Kv/rrrXuFcwvmDp+sd7bF8b4/5dOKVP+3R7XxjbPvf+Zs00OYMq0TgybXeVcN+46+Yv3b99uAa9wS6n19Kva8Zt4220h0vpsQT2kqCfZA2cU/c5fbqUXaypy7nY1/45HIzyUDEraDYjgUs7h2NRH28j6dLkXUqHI6ewJKfVcal7uy+4P+Nn1Nu4f5+4b0dUe6PcF05tc275OLwUl2vj0H0d0tEpOl8bl+Bn1vLs2LH2216jIq8Jo+7oaVeXd+lvLd3u9mMXp7SrnrGu6ljrHi6B7rFlWWKptiTErPMv/uIvpmXa2+57DX2Men+a0H0fo9M5uqqMrbrHBHMXa43vtTidU+9a9zQH9e+SfTjU9slBM1zyxh466PIu/a2l310ex8+ntrlbJzy28dE9CpTt27pPYp+Dtfx9G9bQyT7dbzgN+3R5iLO1xvhanFbvWv0+B/o29u9SfTzU7tFBc8P9Yq1BswanY52XGuz3gdGwR3TPd937GrrZbPRyeEg2eu3Itojk81J+5FC721dODgBxvcG2YR4MtksN9PtC90hals3AH/u9b9hwH7iELY0B+xC2iHAAmxM8Dk+TrraxsWHD8siu7tu25gTLsAXNO7A5xg0bNmy4P1wiaMLcwLkFzQ0bNmzYsOFvcVfAXjVozp3ubngYOGYJ4z5wbf3ZsGHD/eIS9r/a27Ndc4lp9j7oz7X05Ris1edTOSVeerkLY/1r3EN9UfdD43UtfTx0xCnxlZ6R293761zlYXwZq+vuA2u1tXvPDwVjv9uPp5Gfc/RWfSTez8G+/t2GiwdN5byhmiOe0Z3ZqA9jX5as/z6wVn/X5BSffgu1n+qbE2TnQh8SWMJg9Fcda+l6F2u0cwqf9wn9677HvtJ9n/1ghN9Efvd3f/ebD/qgD7r5kz/5k+mHIgRQ52yNKcfw7vx7vud7TmNNHX/wB38wHfvjP/7jqZwyS46927DWuBn1dO3Q1wRX8WrrM45s4w9XcWR7LIwTdbu+8XAu0vddvmDV72m6bs6AGuufU34udvu9ZN33hbX6fAqnXaNP+67vOBkD0ZKOq3bHvpBzoK5z6zgGa7SVPq4du/wVEDlBAVCw/MAP/MCbD/3QD33yAxI5YMLB+rUl2z/90z998kP1f/iHf3jze7/3e5Mz/vVf//XpHGdK1sZaYycdPQTEE87e673ea5L3eI/3mI6993u/98RtSY/E5md/9mdv/uzP/mzix/ZYHeJd3cT1S/oYONSfq/hxg+pfa/A9ZKylk1M4HXmyT8b+dRzG82sEzbCWftbEGn3e1ctaGPlt63723ZNzyS4KhJyfmSUH+37v9343H/mRH3nz4R/+4dPW8WYtgZMVNAnnCxzxb/3Wb01Bk/zCL/zCFDwFzhzqmuNkrbr36e0+oX33ttuP8XP7OGo2icf3eZ/3mYIlDt/3fd93CqLO402C88M//MM3f/RHfzTxg0ccHeMnBGBtag/P53LcfVTHobq2XwS6BeM9n0PGuVir7TU5Vfeu/i6pw2vDGrq4Dxst0NnmtIigNTq9+OcwleMsGwOk60nLq5yf2eXHfdzH3XzMx3zMzad92qdNx5XhdKufcJIc7W/+5m9O9TnGEfv8u7/7u1PQ/OVf/uUnM0/l9ZGEJTlYsq4R98Ep1E68AY7CeBwn4PM4DvDXDPODP/iDn3Aq+RFA8UxwRH7qp35q4go/v//7vz/x2aoAPu/SaePHGHMtbl1zChfjPbv+rvavPmh2IzO6uRgaEKG2d7f3gbXaWpvTsX73sK+9+9TjJeHeRx0wyqVxH3yaDXJSZhICGaflXloutS3QcZjv//7v/8SRKuccUbZ99REOVdD8sA/7sJsP+ZAPma6tLm3bZ5MFQG2ZXWrHeZ+bxfzcz/3czS/90i/d/PZv//a0VPtrv/Zr03NO5zhY5dSzFB6qjQKdaicd1yZO2sd3+2aPdK6sYEiMBQHPuTjv2bSldlvXgABJJDW/8zu/MwVOXP3qr/7qlOTgJo4OoXFhW8Ac7eoYTuggPRQw1XkbrjZo1ial3HUTS0K7JEVCZOjHqcScirXaWJPT3brdw3jMvmP3ob9rQPebDsYxtBR2db77+Rxdq4stcIacpOVT4hjnJiBxmmy0gCkICn4crueU7pkjJfZdq1wBkyj3AR/wAU8CsvPKqbsXPwQ79+IYh+s6ZdWpnxyumSYnLKj+4i/+4s3P/MzPTPu/8Ru/Mc1slBFAYYkxuNY43uUwOH5um9VNd/Tqc/omEiTnCF5KYIwB5wRIM0rnJDp4cQx38YxbxwrGxoexYlkWH2acEhv8EAkOfgTPeL4N+tI9VG7XrubqqHsm6iBXHzTVP3bD5wRBbmJU4lxlHAvtUZwtUhBvvwfVJGX2ea2+hLXqd1/B/lLtqCu5TT+1vTvIHzvWvO90vrsPcXBKu+phC80sBMLP+IzPmMQ5gYhoQzlBlKNUjlie+4RP+ISpLrbM6eagRifMwRLtdI6t6bPPt42lyne/rsnxmsn85E/+5M13fdd3TU7ZczTHBEzOujrP5WNfv5bAyKH98TPcppO7UF0jD3xdPJeI4EYSg0/7ZpF0ZfaI10/+5E+++eiP/uibj/3Yj31yrcBr63O8jHqWsPCnxsnP//zPTzPOn/7pn7750R/90SnZsWwr4cGh8rfdn/q7j+ofy+5+PoR0MdZ19UFzFykDENBNdEN3oWsbEJHpuGOM3zHCsDMag0X9yinDmEFWVJ3IzpiRX3ZEOl59S2DO/Z6C7mdp7Ku3e9g9t8a9jW2spTu4qx3nHd+njyXHR6idcZvoxyjHgN0Q9tDyqYD5rGc9a7IfAVOAGu9Vebb0ER/xEdNsxHVsSfmcHR2wl/E4yYYcM5u0z2aDun0mgqxr7DsO+iHBtgTIJjnlHPIP/uAPTvYqYPqsHHsuKT4V51x7COkT4hLcrzbJ3LHU9a5teT1e6M5W4KR33DkWJ54xx41zxHj4rM/6rCmotpSubuXUYx/Gvro+/0n4VYIfIoj+yI/8yBQ4JTfdn+0u1Ns97Suz75rb0BiqLqJ/t+Fqg2bb9nVzzgDpGkIRCCRlsfYtKdgi34sHoKyBQ4EGjIHlPDC0yGdojJmhMUxZkmWGX/mVX3kyIJxfCseQfwzS6xpQ91r9HtE9aGu8n/H4kv3Y1waMbdQXclvbc8bxsdjXt7Ef9eW2Pt0GdsMuBL+P+qiPmmYYn/mZn3nzhV/4hZOdCECCk3pzPNlZy7McqzqcD2yFneSwiM9JOlKvMupVJhvVRvtEP7tX11sCNKPklAVI9mmmabnWM84f+7Efm/rNni0ZHquXEedcewjuZ4TP6YF+tDu3bdekK8kMbqwA9MyRjL4yvtRvNgl0ZdaJd2U+5VM+ZZqB2ldvfVNHfSX1s2BkS3q+KWD++I//+BQ03/GOd0yBs9UL5ffd41h/YwX2lT0E1+szqa76eBuu/kWgY9HNN0DKjBDLgIlBg3z7n/7pnz5lXc4bFLIvmZNzBoS6PDsBxsgQlUO2pZ8f+qEfmpZ+vv/7v38yvjLXpXDsIJiLh8RpGPt8qP/judsG/yl6VW91G2e7UKf2KjO2cdv+Ujikj3PABtgHB0skmc9+9rNvPvdzP3dyrAUn4Ew5HE6TfWV/ZiWO05lj2Qmxn8OVnBZMzTTUo84CJBvVH3U6B5XJkatHHdpTDztlr2bDLdGy22//9m+f2tN/S4bncLIGn7Akp/REj3SEO4GQ7/vUT/3UiR/c0C09Kmvflt5DYz5dq4/gr+Cmz87bJmzCOdK+4/wk/gVL3Nji5Xu+53umFQL83RnA/roeOIeD6rCtn4fqu4qgGRl3dfY26B9BXsGO0SI8I2M4smUZluUljkCZcYnCAHDcNY6pDxgV8ggHYYtsxMpYZa9te2MP0Q2Qc3Du9bdhbU7PxS6njDTDz1AZlX3cjcaNL+e7x7hQHujUvm0ctY/b2u76oI3RSahDW8aC8ZUE9e3DGpzu9vVcVJ8E0kzxEz/xE6egydl+/ud//s3nfM7nTHqXUAo8BTt6SZ/sLr5I+nEdnbmOLjtu3+yPjdn67Lr07jpjAfgMx40J4rhtvKuP/n0WgLUlgEpuf+InfuLm7W9/+zSb0Q9yDidr8AlLcaoeM0r+Dp+CpeTnmc985jRbFDTpN77omZTk7PbDMeccT/AOdOFc4lw2lj2M1xg3VgPMNC3Lvv71r7/57u/+7umNWucE1uoeUR2g7nM5qC64q76LB02KRZRu5LSOhToysF5Zt20G6bh6LcsKkoKmAeJc2RXxmSG2X58QxyHkJLWFUMuysiPLPQxR4BRI/dqF865toJyKGfSchDU53R2ApyBOcYFLjpvh4yejVbfPhOH7jGcOF+fK6UvjqoTH54ImwZVtx11DtDGC02mMZNCcca/L970zdcFt3Hd+SSzNZzqgc7rnZD/+4z9+Wp71LOvzPu/zJh1zeL3tWCCkQ/phY3SonmxGGcGNHSmLX8fo0j6OEtdog87V4zybTq/qL2g6ntN3nfoAV/XPMUGTff7AD/zAlODW73M4WYNPWILT6rC0jktvPQuUnlN6Lv1Jn/RJ07hWji+kP7q27drswH3u2kTAifPEdcoR+x1nez533jWOSWYKmq973eumF7dMQOJMmV3s1k3Ogbqgeg7Vd7GgmfKQw+FRDmOjqGMUUB2E8TDsz/7sz56MWoDMgGWiBg2xPOs4CQzN4HFM+wxVn1xLmm1qT7Zmy0E6xygt+ciQymIrv4/wY3CMLo6B/i+Jsb729f2U/rueg8Qnp8fIiQyZA49TTtJnIiHihAk+GhMcAeNU3rMtnOEV3/rmnDFnW7n6YAw0RpTXnrEqKcugOVy8t8RklQHnh+79FJ3chbv43D3v86E+Vp69sB0zTAGTTXlrsheBJI70WqDzHckxCObc6NU+PdLdaH/05TzRH8clIPSvDjAWGhNxFceOE+PAeNEG2Cqfg2aTEltJDr70U5v6eg4na/AJd3EK8bi7D+P1Eh2Bkx0JlHygH5AQPOkZB2yFzlxHZ+oi9sG+8x0f94GO1aN8Up+cq5xjeItHNiuRYT+vetWrbr7zO79z4sd4ws8+H1o/qxuq/1SkL/UcqusiQbObpVQ3XyZJORQIM7r15HpZJqNhMJYcLB/ZmqEwFMbhfM8qGRfniRTGmdNUj/KMlrFZ1nFtDhLRBpvBx4FGlvOc5Wtf+9opk33zm988Xed+9hF+DObo4RScwuk4qO7aD3P67xqCy5wgjgpSEiABk5HLlOk9jvBJlMvx4hCMD2VAeS+DxLf29E1dPoPPOXLQD/Xpl7HlszFiXBk/xodlpG/7tm+bkiZiyS/OGx+7mKOTY7Gr90Oo7KF+xAm9kgKme/cikNUa91mywJaMeS/GtU//9EkP6hrtwTH76dy+Yz4Tn11fP0j2bh9scdKYiSPJL975FWNIXY0LfEmqzJBr8zae5mINPqH7vA3Oj23vfqardMgfCpa2nmPiEae9FOk6uhvbdCz9tE+P9mun43TLjkgcGDe4Sc/q9lm/atNx/BtD5DWvec3Nm970pmlcOW4WWpv1zX7jgChXf5bCofruPWiON45QQoGUmfJtnb+raxTnOgMgkp73vOdND7qJLJkBc3DakUkR7TEaTq/nGoh1vf0cJePy2UBADCM0k5WdcZ4+E+fU9epXv3pa9nnjG9/4pE7nzsEMek7CKZzSIejTyGO47fhdcA1944Y+OT8GXYIjCfI8zQzHc2l6JRkncU36xl/1ZpyO4bygmdEZa7jyGdTheOI6961f6uKEjSt8W5a3pCRZYvD2LfndNX6P0c1c6OuS6P7ZhLGOj77Mjgd8SCTdd7MCehSU7Jf8xgkdjvvpyNZxcptexntzLekY+0+Mh8ZEfBlT+qldvsUYyCfUh3OxBp9wiNPOHdKZ+2+cP+c5z5mCJf9o2/sdbIzuoLLVST+koEWHdGdL6NW5giXOsyU2on7jp3rYDl60Z1+dBPfGkFUKy7Nvectbpn31sTN1Kzfec32FeCRzMNZzGw6du2jQtM8AGvQ+R5ItZd4GZSkOCQaBGYhZ4Atf+MIpo2LUznNiFD8OCNkLkizTCJpI0Za6GJb2fR63rkW0oGmmyZnLvA0+4Izf8IY3TG/TegPM4GlgnYMZ9JwE93MscliQLkeOTu2rOjk7jpmRETMZfFoWxCd+JUfa1SbhFIhrIWMOcdZxRigRss+xGnPGmfGA++4tJ6INYwPqY2PVs+u++/e///f/nj4bT3jPiG/DGpyewudtUFfCqVqhkSga6/RJOES2wrm5b/vE/dvSdeODqMtnMvaVrpI5GPsGuMAN+26bYybGh7pxrm/skdivP+diiTr2YdQT7H6G3bbTDV0Y49mGrwixqRe/+MXTS12CGh/WkiyM9auX3nBHd3SGU/6yVbomHpboodUXbRsvnoNLsNShPrasT8aPrfYcd14Cyob4Ts80LdeyL3VnU/XPNd1nSA9tD0H/lDtU9tC5i78IpO5IczNIjqxDAcd1yiLg+c9//pOXE5DEuQpogh0nmSDGMioi+r1DS2qMPMeqXe2ToF/EADPgPDM1ADwfcMw55c00Bc23ve1tE9Hq04dzMIOek3AKp+4zvtyvvtHXOVAfx8aI/LKI4Ei3OKVrQsdmkrjGlTYJw9UHom+2+qWMsdH40IZzY8aaQ7GvLvvqGKEs/mzBvvrx+r3f+73T8zHPXzzD7vuKY/nbcNf5U+A+Qvd7DtRBJDACp2SRo6Un/HOOkg1O1L77Hu1nHBeH+rJUP9uHxmn7oB39atzaLoVz7+E2jONxvI/a22131IPEAW/GPw697cxfvfSlL518ZI8/2N6u/tINDkswCB9q+R3fRJDzyENwM/7xr0/akwCbXFiZMHbYts9WLcgYNMEkxss/bEl9fLOE1OqNCcl4r/ZHfdRv+2O52zCWvw2Hzv19L3HP0PkURzK2Pt8G1zBchHOoBgdyzExaNgVOkmOldCQgWLCUxSCcwQugMibbAmqzU4PE9erJIWib4+DEiX7oqzIcxxyn+VDRfcXPOfcZh3SJw5ZzJDyCJgPDp+QHp3QNjBefuGJoLYv6grSXsOxLhGydY4h4Vx6v+CwZawwZLwVlYt8x4nwBFbeuV4+xo05SnTnkSyBb2pVTsY9j458dpAMiUTADIZIVeqAnukjGunblXKijdvSPaF8/iD6R7NN5ZR8KRi6NQWP2Nl539ZmfslJA2FGBsuRnrMv19ENvOOYDTTT4THYkmPGbPlthcKwVlmyM/yQ+s8/R1+IhbuK/e6uvfAERVPl1x+vjbfd9LGr7VFz0RSBbA4E0kLuh27rlGmSXSXGylmTNMr3RJ8uhfAMDmYhuvVxmTDhTzpehK4PEgmLIoRODDZGys97Mtfwgg3KNAaYdzzK9Ou1XLcYgeg5m0HMSTuG0a+LvnL6lX1xZ9rOUY5ldhmofl4IonSuLHzplhAUr+zlHzlt9luSUwz8RfJtVOmd84NMM1tZx0A/tQI6+NnHI4I2VArYXvgRnM05OIYcwxyGvwSkbwsvIaxyd0l510ReHa6xzuOpiOznBkhi6Sm9PG9a6Z+MRB3Hbdgw6u23HW2PfZEIS6r0AY94PU7Ax/kwZdYJ6Cpg4LSkytk0qWnolHXcM9465Jv75ZrZl7PSIxUzzS77kS6bk2DkrSi2tgwmKev2wgQRYYNaGlRx2Z3wF7Yz9dr/7dHEODtV18eVZqP45N01ZHF2ZE4f7VV/1VdNgIIisPksJlktN8/00E4KdRw7Fk5FsW9eS2jEAep5msL3oRS+aljo4dE6EA1WngeUtSrMdLwM5ZgA+pqC5BGqXwQpmhCExrJe97GXTW7KW2nFLv4w7XeIqLvvprWZ5ghuon86aJQq66iKCMR7x6RmPc4Kla0YH0mykhEjdtc2YcUxk2saYRIxRa3cOX2twqu/uI6mNxvaxqB6Oj9AbndKJ++Uo6SXdn9rOY8Ba913QJPgtqaNvbe62qxwoy668CyC5l+hbmrXPd43jnqinpEfwkoyaYeJYwGJvrcCxReKca+J/7A9b0ldBkZ+0HMyuv/iLv3j6zN4F8IKmPrAz9bKrlmoFTCJ4jn5UO93rrg6WwqF6L7o8G0aF3wXKomxOsGWHspdmC8hEQg+qDQTkI95n5LScFAHIK0hy1JYFm03aIt2DdIGzQWeQNYAMKI41B/I0O5HbMOqZ/jhjAYxOZaT2JUFWEJSjQ0bJSTNiqwWCVstFjAmvpOfVtnjHB15ci2v1qBO/2rZvrNiOBigoMFA8ulZd6q1NKwr2jSXn1euaY8bwGqh90tg7pz9dG2f0ViJCb9oouTinnQ23Iw4Tuj7E7XgMZ/yksc6m2Br+2F7BV3kcGut8pHHeIyxjPXGMjdkSqwzK8318Hnvhc9U12o9zfGwBeZxZGlcJ6JO+6aeAzwcrn43u4jYd3AeuImgeAwqkXEGNsxXQONwcLSUjjFPj4BAsgBoQHCBHN5Lc4OIMECUIy6oFSa9nv+QlL5lmsJYWzIS0pxyyW97lzC3VqT8HnUPZ8HegM9zRnyTH0pFZpa8HyYa98czAcYIjuhT46NhLN96qk/VaXi9QlhjhtWSI/l1P/xyFsSGxEpQtWRk3jmeUGaDyxsXYrmej2rQMa6YpE+ZUjCvtKX8p491F9zDKuX3DRTN23OAMd7hUd07vWnTw2BCnBSNyl65xQkZfyebsG/OgDqI+/lECavXGb/OyNfu9JyBQlpTyq1bsBEN+NjsbpX6yjfrBzthh/aiPwXnjjP9VpiQtGx3LXhpXsTwLtXFXdyiU8XquyMkKbl6jFjgd59AMAIHM7xhaPjPd5/zKeLQRaUhBjoxMHYIip9ovaKjTsh4yleWQDRgDzUDyijQn3ksnBpRZTkFzhnr/Hnb1cOz1c3EfnO6Cnpul07UvyeNOMPNZltmLOIxTpiqAec7Rs2lLsnQsSAps9JyOGCfRTqsQnpNamvJMRfLDgTBe5xgvMHAwPvBr7OCQk+BAOA1LVrJrbQumZdgcx7E8r8Hp0nxmH3iRREpscGPs40EiIWkYE5SnFfdho+P+ofaUE2SM7y/4gi+YbOyVr3zl5LskO1bL2JdyeOPHjHXBUWIoGWRXAmYzSVu828/ekn3QlvptPXbxKMQE5J/8k38ytc3u9IWtBn0xlrTBvticr/B98zd/8zQh4QfGdtPHbX04BaOOD43ni8w0x87ZHz/fhbIWShfQOFzTeVlKJHB+lI9oZPjsHBKVIxyA69RjFsKZqquH1n3dwfIsp1GWpG11GkicR9mXQG2wIffUgPmYgWP6p3e80Te90jXpmRmdCURmkIxHsBIwE0YtcOF3HNj4ZYyMMl4FaPUWlM2SRh4BVxxHQVibRAJUwlXAZsi4zokYBxnxYwTO6LSMn+5ydvRne4ztbjgdjbNDYy0ubEfu2AO785kvNG7zixJBNmWyYYy3HMuvFUDZh/GufH7tUD8aH8aMRJiwuRJi/ne3r6F+56fVob5ddN147X3h3oPmroLIPqUcgvIcoofKHCIiKLe6OUJZS+RFAtJaM3d9jtvs0qyV5MQFTJ+dy2mon0PnYM0yvUEpWBpctpx5QfPQoDqEuwbkQwXd4YHjpVM6NqNPxwIavhgzQ6ZPqwP99ZoAJoDKihlxMzyIZ+NgTKasFKhf4iMZkn3jXjnXNk7wJ1BqU4Zde17oss+ZkJZlx2RsDNyPDXFGgF4lmMAeHKf77O4cqGOfbDgOo85wVBLJ7/FjzRhtiXEvKcy+rLIInMY5W+PTRnub458aG3yu8cLm+V7tO9Z4GqHfxlL1E+XUVYJ725hYYpwcU8dFgiblBMopyJC7kOIiH5mclzqQSigaUZTNiQqOyBMgOU8B0TM0X2vw81K+suLZZc8vLWFw4khWLydu5sNxWvL9r//1v978t//236YfMbB0IDOrD3Pu4TZ0b48V9IkLvyFr6Yi+8YIv+hMkfbnZW8jE0jcdS04Yds+j03NjCc/qxlmB0nIibi2zW16XYDFC48O4MWMUBLXpWen/+T//5+Zbv/Vbp1/3wbGf8vJ8x3n8SoYE2JHnc7h+SOB46bSlWhw6Ru9L6KEx3/gfbWDc3zAfxjnbIMYrPcZXSamE1JKs5JBvEzgFTbbBvzbWj4F22LMEVVLMD7NL42acOe7yrL/a0iY7a3LC3p1Tdhxrbcc67gsXm2m2PdbglKdcikzRto6rEzEMmpQZj8t0LcEilIPlwD336vc0HXcdctWJtBysAWXm4XmOZ2ucqYxMNha5x97PPlxiIKwN98RY8DMulwp2ztEfPcpyvXBD183wWvZmUMriRj1xXSadgeLX7BKfODYGLA/Fp6CpLasFnIetZzp4FSRblpWFa5vx5kDieAmeHwI42vRNh7vLbBKRY8driU51j3yOMs40iOs23I34yEeOevO58c+nmV22mmKse/RAThnr2iVsOrvke01cjJkxWNbHoA3t1S57a4Zrf18/5vbrLuhXY7I+HsKDG4UpN8VSsq3PbraAybh7qUfA5ETNOFqKtTxo3/eWzCy9UJST5Xgpj4NFnMFlRmnpzlbA5GRzuJYxZEf6sBSRdxH30OB+6JQjFNQETUbFKQLjoEdG7MUfW4YseMqMGTquDWwOlRG6XkYrKBIzIPVaSfDyj2QIz5IgZV2vHpx6ZqN+7eBQwOztWBxzJPi1wsCJjEHzsaOxZyzjB2f0nl31iAMHuJg7VpUj1enaHCxR3yiOOa9cwXNuW08r0jFbM16JfWj8Gv/GtdUbviy/1vPLksRjfNnYrrFhjAiWfK/Aic/KkH3Q3ujTBfZmvNldfbIl5/rc+tx4NM7S1224mrdn54IhmVE897nPnb68yzF6O4uzNINBOMdIOEOfDQQzFUZHKa7PGBGbcXIIAqUAaFC5liO3fNESrQEmiDrnGIIj8Fyk57bqXMtJ3xen2iF0K3HxBedXvOIVU8LCoNwf42DA3pTztipDFkTjscFsYOPZoCbqFBAtvQrEZbU+S5YkP47hCKdWDDgG7XESZpI5DwGycxnqsY7jNuzqeg1Ol+QzzuhY8mE15h/+w384JSV0Q3f+voneJB5znKz62B/hUAuSOKQP1ztWYGSPuJCwqJcNa9u4yPlfCru6vhYbVZ6wFXbgUZPHUF/91V899ZFuJZn9/ysePfrI1zXDPAX4Ml603dfH2LsJiSRW8urYbQFJ2yWz/Lax9Y3f+I1TX3v81fhawiaD/hh3xqG+G2OE37kND26mCQaGmyogcoiRzcEySjMPjlRgNYs0o/R8C4mWYs06zSo5WAOJ0jhlhFAa4izTGVgcKkdOOFoEK7NkwHzMwBfdMqwcpc8MAYd0bWYnGRHYHGvm3qDmBARBvAqIeOXM8em1ej8TZiuJYpzKaks7oC1JTi8+aMusUpDmQCyzN6OVOMXt0w76J3SCP1wA3RKfnT/k4HPmhOMuWWV7kp4emUiibHOy9p3ThrZx6fr6dKjNtVCbl2j7LjRebY330HjOBiQjgpNVlgKmZOTU4B+v+MGVmSZe+Ve2Os40b0N+VB/5dP3U77FPa+pc23Skvbv0cNGgSQnHKqJrKJYUwBokSCtoms1wrhyroCkD4lgd6+1NhsqAkZpzUC+nKkh6GUTQtHxnX9ZjRmLmSrkN1CWwZF1zkC6P5eBYqJ9BcZacH6OyT9eMIwMW0Mzs0y1DxCd+GCG+bCU8cSoRwqsXi+ybGQmayuFU9gjawhtee0PQqgFefe75ZWPpLsM5Fveh4105F+rAmy29SHZwZ5yyMc7Qqo0yBTKcFdhs6Z+M/OPFtQJiARNnVhHMTiRDvb2O65aCbY0H9ahvbGuJ+z0Wl2hzDgo++ZP2bQVMQdJYl6hKUvlQQfMU/0MHBMcFzBIivPZOgXP7oM2EzbFTfdS/fYF8DZ3XtvbGCdhteHDLs5HTG5EM7eUvf/nkLAnSGBRRtttjWPZTUJkXRSGo7MsgMuvwZpkZiHMGVTNMpK41C2kAhvq6Bu6DU21was0sOELLs5aLegNTpkvHZpvenGXIZvgCJC45atwxPHyri6NWn2PO54TjF+JJH3CLV79jKVjiWSIkUDtnHJA1dJ2e267F6W474ZRxqo54k4iQr/mar5kCGi7Yh+SR9BWdHB0elKFPKzgFTcFSfUQZ/DlvHOAqZ+U43tXBubcS4XzltO+4VQFtSrLaz9GOY2Ep0MsocXlNNkpvuKNHPwAjAfkH/+AfTMfqt3cGTAje+ta3ThxKiNLZXGgHlyVDbBuXkiBtSnhKgEpw8No9xU86xCm71Lf8gJfy2KtJzHhN+rYfxv250Bf30QqKMWTcGofkNjy4oEn5SDBD5DzNKARNM0jCsWagjLW+21I2ZdgyPiIQmn0wTEHSPvKafTivnBkRg3Q9lZ1C0hzoJ6n+BsjSuA9OM2B8mJkwpC/90i+9+cqv/MonQZPDYxQ9L8YDvStbcIScrDpdJ1Daqp/gGzccq/pw1sBXHxE0cWw2S7SlbGPiIXO6JJ/plH45XkETZxwgPQtY9MZOcMYBsw/HcqRx3uzUPdvHI8Gfzzill7hzTLvAmZfUtmzuGO70QSJk3AjYltw5Xn1QTntL6zke29dvsgafcAqn2Ryd482jKP+hSc/ZiNUVjyZ8tYoNFDTn3kd6wJU6bf3/be+VGCftm23qU3Yb0ltbwVuAfN3rXjcFzfwvro2BroGxnx07Bd1Hid04bsY2dvHggmY3ySAZHsf6ZV/2ZdMAsVwnu0FOgTPFII1SmlFw1oTBeW7J6Bi/DMdAYpAFSuXXMsR9SN+oOWdQHMJ9cErnzTLwJRv1G75eBCq5AUaLB0YjSeEgPZs0IyH6qixh9K0iwMgprtSFv/E4A8SvlwqaXSrL8Qquyqyl57A2p0vymRNhX14mkYyyMc+NOWP84FYwYzPeOsYbbuiVE/VMmR2yT/uCmf2SJbZJtNNMBHeO+awuerJ1rTbVbZ9or2fRbNXf8Vk9YLPNGJbmddSx/bhcg084hdMxQHmEwR/6vrJHVbgz3unNLO5//a//NSU+9ErP5BDqT22U/NhaibA6JFBa8bMKJFDj3HUkm01f2sMRYft8r+/AC5o+t5qAy1EXo75v2z8G++o+VNeDC5qgP4ysoOmZlueUyEJaZJEcAGINDiQULJEiU+3FEIYn43EusqhnhopWw1pt3wenDAtPnKCg6TmyH5Lob7nwx7gYDX1zhq4RHD0LcZ7xq0N/iXIjOG6OUpBsBqKcY3h2XNDE7/d93/dNTlYdGewluF2jzSX5zGbwwOEKmlZzBE22VZCjR06X3Qh4juNP0IxfxwRCPBLHun99tp8T7pj9uCHqdiz+cecYxypgtqyH55b7bfGv3JLY1XN9XAOncOoa3NA1G7Ii53m/bTN/Po499F+w6Yl/HG1CXQSHxkMJjXGhHoFYEmQ2adLCvh3jd53XB9d0H7bVrZ0CtUCOSwmtN+jZqT7qDzvmh/W9/hgL6unaEuTRX9fOqTh0/cWC5lhn+3NvNuUhBDlmMAaFgIlEGRVxDsEM1TKugWGAcM62hBNFkC3SGKEsdiThklir/TU43UXOsAQHR5b7iGDJuPCFx5yiLcM0E83oGBgDwh+HiBfHONCWWklLsjlV5SB+Zdc509E53DfWaHdJPvFF6J7DNWOxxPfMZz7zyQyS0C+nZoZgn2PFn+vYH9sLPhdA8aM8Ud51zkHO1LnuybFxv/OSW1zqg9luq0SeiUuEnWfLS+t71LW6r8lGXUPomT9kZ/wj3tib2SB98XPeHKenVnf4RbrtftSDHzyqjw2zS35VEBMoBcxeqnSuF/AKtMZR99FW/doR7OJSP8hrXvOaKZhbmsU1e7d1HyY++qHegnyrRmRMhsf7OAWHrr140IwY3SBu+C50LUKQgzBEEspFGqIpF7nEAKJoijUbQRRFy1I5VAPJ8WaZEAGXxAx6TsIanO5CG/GLJ7MPBuwrQIyLIcuGOVQGYZuR4THDwxN+BEYBkLERAZDxEwbHkeNd8KQ39TAy53HrWnUYB3hdS7d3YY12l+QTXwUzs0urOJ5ZmXVyjOwJX4AHOmUrcVfAVUdOkW3mRH1mYwTHOCPO4YbgsH44ns7UAT5nm8aHQEnMWDhdb7qza05X2aV1nr7XqDucymkcsDE8sTP2xP6sxuFEgGQzlmrZhsDJ9+Gme0r3/CnbwrtnpIKvev1ziRcyBc38L8F90JckqDv/qy/EzBd3fjrTYxTJD66NLTwbd/y8PhgrJUR8QD6bj2jWmQ+ovWNx6JqLBE31aRYpwb5jFHgM1FWAJPYZIuIQHcGO1x4lZ8wUT2SsBk+zlWvBDHpOwtKc3gW6xwk+GBmDlsh45lKSw7gzPMuA+CnACXiMinG0/MYpMqoCqjpwPv4AgkAsa1WeqE+9l8QanC7Jp7oIhynBseTWL2bRLcdrn71xfBxV9+QYvdtyfHSNP3XFSbNDwlbxj3P84RG/eALXGTPsUp/MbGzVz4lm12xXIOB8X/3qV9+89rWvnWaeEiZ9OyVJ2tXpbdevwSfstn8MXMsW8oWCm1Ud9qa/dEbncdHzYXzROV7pWB1siD2yVwmU4CsIC5ps1rn41e7Yb23tfsaFdtiysQNW+QRxy+z6ok+u44vVra9WqrTFd/AH+qiMbzqUPLvO2HFfrtXWyL3y9Yk4tw+V34d7D5rVpVlKBsfa7yacv+2GRrjWwHA9MUCQHeEIlp2U0TqOLFA/JVO2wMnwkHlK4K7/YSTqHCxRxz4syekc0A8OcMHg2ppp4owwiByo8hwlwyB4Gg2CMHKflcMf4+ZgGXbjx3nOmyMm6poTNON01L/9a+V0aT67/55b0ekYNL2oxZnhJL3QNw5s8SNJsWVv6nOcbeFAgCPsEd/E+MCRpBan2ifGRM5TX0qG/Si/MWPsOO8aK0decOl/GHGvXTKH912Mer2NtzX4hHM5pU86I4KloIc7+iTsT99xJLFkK/QEBU+6ZavEbM94wBWejQE8ZK/6u6/P6acxEBfZomv5YPZsmb3nrDjNn+uLhEk/8D/21ctoJcUCr8TLOBCQG2vqqh9jf3a52y2zDxcJmnW2em0ppc/OzR3krqHUrqXkjA2xZpkULWD6bLDUti1Ft2zH8VJ0ZMxF7amzfui7+sk5OPf621A/7wvaY8QMzKDHk32ZquP0l0HgiNE06Dld+jTwMxafcZbOlZMgMWxvUbtWWbNTBjQGXfUcQnXGKeCh666R0/q5FNIBxyowWR2wtM7xcpZmnvTD0dnihM7NAuiYzguAxD3jyDnctc/ujQOcq6eVH7qOg+xbWX3Bs+DpOav+GDfGELBnX1v4//6//296Zod/fVOfNo/FqNfbeFuDTxjbPgWNX1tBU8LT1/Lo0MyNHeKNLdEv5Lt85jfxQ7IvfLiuBEaZ+rqvz6N+cJH95mu1YyzgvQDYLDRulWsZ2LW16TiOjTFjEeeCrlUGdahTQJZQKasvtvVzH3eO7TseVg+arr2tCeeSPiNEcKMYijgWY32RyyANGiQTg4dCOWYKtxwgI+VUI3IuDMgwZnbqZ6gz1HsQ515/G9LRfWPkeldGuO+kz7twDV3jmUFbgsLzF33RF01jh/H52y/8HpMUjZzmsB0bDe8cnHv9PuzqbymwH45R8OS0rAx4AYTz1WYvbBQIS3g4MM8Y8SDTZ1sFxDggY7/H/Rw+0BfbIurXDzOeF7zgBdNXYvAu+dJPq0X+5u1Vr3rV5EB9HxFv+ubcsWgsHBoza/AJS3GqHjqynO0lPDN0AVOCg096FbQKTvRlv8SWDhoHjqeTtnf1U510pDzujRXHbB0XAPlKn3GU32R7hI3Xn+xxhL7rM5/rzVsB0++Fe/FPwJTAsf/a0wdQz228HuL7KoImZVYmgiiOMo6F66vT0oEAycD8wLssVeYiW2LUDJ5T7a07xs24KHcuEAr6b1+75JodLJzD6ZKoH22737vuW3nGhk8B80UvetGUEOHWW56WaXwFwbMtiZFZT9nrIYOAxpA+tE8yunM5Off6fUh/S4Oz4izZTjMUztdyrTbp1ZZO2ax9dus4Z1WgZFuOZ1/Kk7Hf7af3EWyL6At7ZtecvxeVJEq+UK9v+OU4zTbNWnohSB9sj4H+kLs4X4NPGHVzDtTjBR7JRn90gUs6xCWO8cKeIP8nQElSnC+AjUHrrv7RizExBsrGgGTKMXVIyOzzmY4X1HCNc22yc6uGYkNjofZd1/W4Z/u4lzAJmsTsM9s3FuPsNu6Uuw1/f2QujLuUOkLnic5Saoo7FtqkUMo1MKzh+7Ppl73sZdODa6/Q+16nQVSWVaDLQZ4KfTdIypQ23I1x8I77h4AjXDFyHPerJ77/iVu8MkQGbxxltMdwMvYFr8T+MXVcAnQzyrlQh3s2ps0gzd7NIL18ISBxTDJ6iaeXOdr3Qo7AaeZglslRlUimS0inSedssyX7+MMj36Au9Up6JUZWEhxTloM1g/L8i1i+lTwXEI6FvjwG8IdmjXRREGzm6BxhL8oIUM7RWeeV301kDiE+C2aCZWNBEMOZ4EYkV7j0mMxn54hklwh4yrhe4qu+bLrxBAVY/XWfgqxkrxdBu+9z7eIib8+uCWQjn9L+8T/+x1OgFDQ5UkoFykMO4//3//7fP/m7L8SUCV8L1jLah8TpCP1mvDi05OQXhizHvvKVr3xipJwnZ2p57t/8m38zcc2Bg3NzdFqwWANr1Bufu9scyilQR86Svm1zTOp13jFOrPIFOVsY99130uf62X7n9sF5wrYJ/tm1F5T+6T/9p9OzVo92zCi9BMS+fYWhIC7Ij+2fg7HfS9S3D7VxLnBksiC55Avpy/KsZ9SSTkFGW/lH6J5cC/VlTp9cG+9EQiPYOSYICpBW9pRTH5/tPJGUlVwJdPpk7FlF8hy9ZFhg129llAV9lbSpu8CLd7NOon7+wapD13Sf433Zb8zuw6ozzbVBSQy4JTqKNbM0QPzyjGUIx5rmU4ZrKE7GI0jKeiwJUGSZyymYM5g2nA88Mhp8M3qzCRwzLAmP4MhpCpqcpYyUAeCVzHVwGfRDg36PsgTSA/ugY7MGs042I/u3T3KOznN8zQhyniMH9W13/xAqq07tsGF8e15lm7OtDb7BOIGc4F1tPEa4Z7wVNPJz6RP4xfzjKB2znWMP6qPrVgX4174uZlVCEHNMYHPc54KbzwKqfeVtE6sY/vvTd3C9YSs4KqOuVjTwr03t70vyGof7xsCoi33nR1xN0JxLSohMyjEFlzlZsxc0vT0po/JZZiIbqW7Ko1gGJ6shTftvU+gh1I+C8oZ1gW9JUi8xCJiWX3DAWTMgM0sBU+DMiEajuAt4jNeHyukx97sP6SCBHA+HWFCk3/aJc5xyDmp0zuf0J6ijPgja7Jj95jR32+YwXeP4Eu3DQxwT9NXzRPvxFD8jz+2Px46BerXTcn5BUvAzUZHkOC657bglWEFzXKpNnBNYrRQImH5wnn075vrRhxNtN1Zt3YNt4n6TXdx2fMTFl2cjRmDTFcTehZyZ6bnlGDNLwbLpO0fqWYalBw5VGdcgk2Eh0e9lkn/37/7dpHQEp9RjoA8cuWcBHPaSxglL1jViTU5DbSx1DziUHOGaeAGkZ9RWFSzJWZL9b//tv03GhGfLMjnUucAnZ2tG69qHwOmSfKqLrolVGlsOaHSyS+vkGGRz+DEevBj0VV/1VdM/6LB73BsLHGtvT3O8HsOc22e6GMc1OdZnzMVSnKqndzi8MMV27HsD2sSCf4znyodj+kAXxgmbwQGxiucz4WPZpKApGPoseAt0zvP9xpUtneLZefWyR6KfvavCz1tp6hePLNcLrK08GAMCs7bsa0d9fMFd4+DQ+YvONBFCzNLmBixlMxhke7ZBec0y/U4mB2pQUKRgRtnakYEgkRI977BcML6gcJci96F7OOXaxwr6yOlmiEuBIeHU6gIjsfxmTMA407R0w2gzwGNgvGjnaV09YF+cE9tiQ0TySS9j0LgU8Mm5smf8cr6cbrOoOM9XOEaWADsf5SFAP+mLntgH22iWJplollfgSo/N1I65V2MjvbOhrjduGj/A58ZVgVTfTGCsHrQS6Bif7TwpCJqNEn13Xj3acY98ep/dg2A5Jnzn4t6DJqWORte+GyJ3QfkyDkGTMVuqEzi9Qk1kIpyqwIq82kCUJZ0eRCOggHmOQiNnCUIeIkZO2x+P3YU5ZSuTQxc48W4MGA90X5aaAXICx/KijWsIDJcEfVr5KSkl9tdIJOL1GOCTveK7gMjR+0zs55SVs3V8KWi/MXXM2Lok6EPwYBstf47PDAuagg4boq/doDne9yGwn5Jb46gJTm/lsmH1qF87+pXUPhn3+0z0M2nSox51Nh5Gv+5z97IELhY0EzfqhpO7gBBK5zAtxfiekWU603RLNYIoYpp9BIoTMK2Z+31DA0fboxNoOxfKI6MB2QB7GhGfo9DFHH3MLYf7cYXBLNOWcY66t59BjknTHChrrGSk6pnTt8cEDo+eLXuxsRLRZpznBM6us036PBeNlwRyxLjjTM2kLM8KBoLoUg4zjG0/BDTD9EzQIwxf/vdd1m/7tm+7eeMb3zj9SHov1/QtArpkQ9lWOjx033g0ftgmn+zHFLxf4sf+fa/WKiA/XfAsQVVnga32boNyBWa+QD2NSVvnyIi76jwG9x40gxvYlbtAKSnLzFLAtCwrgDJwREXGuBRAYQaAmaW3sHrG0fJdwXpOH3ahbiSq/5Trd+EeR3koGHkkDVKyi2PvDY9dwyhwLGtlMM4V4FrWwadExnG86Mtc6K/rXVe2+jSBjumUDdGzIFmCYtbQLPQY/kY0Hhobh8bJITQWGhf6qt/q8Rl/+GebePT5XNSWdhqTDwWCoFmZ4Mn/CZz+7NkzX1tB1As2HluZjRY82ZXrbOmxWTy5LaHESzNNK37GjoRLsOS3+WvjyjiiR9t8Ninw2frcWJTI2ZbUqZ8fMD59NpZG288v67vjPt/W52Nw70Fz7LD9Y28gQigdEQiwbeqf0hvgQJmUyKEaCMQ6uoz0WKc6Qt8z+ra7OMaw6vMx11wDdnns8z59QE4H5txvBkRw3EyT0bgWh7jEry3DYCTJbf24DcrjUz270F59PxZz7vUakLOia0LP9J3Dcu6S91H/OFt9Mx6acTS2cpDGhjFwqo3fhrh8CHxCuhD02IkJhGVZAZQIkr1x7p2AxEw9fzk+e2RnzUbpdvR/dFKww1HjiI8WRE1wiM+EL8cfLgU/1xH7jjsv8Lq2BI7Pb6LkvGuNC31wr/x9wX3s4xLj4MH8uAFD0A+K85KPr5WY/nsZxE+omXXKZKD+pkBKk0F5W9Z3fb7pm75pWqptjX8JRe6Dfuj3OKAOoXskytf/NZCO1sBddTMUOjGwu9dDOlI+J+n7t35z1K//ePGLQ8SjlQPZsrfnLDlZfucc4Bh+d/tenzqOI8ZZML6tzyPGOu2vweluv0+BOgj7koyyLc6JQ8KBpb1evuB02dUlkJPlMP2gge/rvuIVr5jeouacjYE3velN05vTbN4LJexdn88B3WSjEP8PzUa7B9smHAWyZnCW422JJXpBzDW29K+scSKI+ayuZLff7I/QEw6In7szjgRinwVmwZh4sYd9GYM4LqAab/yAPlvy5e8Lvs4ra8lZ8Ofv1Ws10T5foP059gqHyl1sefYYREKZCyX2+5eCJ2UxFs5sJC2iZBsyI0qUVTH8vttzjEPdxW2DBBxL+nwXMsK5xF4j9t3neD/phN7w1dLMIShf5slI8W/ftYyLkXGQnsnglwGe8oxZO4yycdQxop72d+UYrMntOf0CfSNmEEQdnBFdQ04UF7eN+7WhXbxzlIK6gMkPcOz6hj9ljItmGi0pLoH4u8S9L4WCWLbDH/pKhgTjbW97281b3vKWKfEkb3jDG6ZA5LmnZVzinRDC3sxEexmHrx39aeMwWzdu2K9g50f/JTm2kl/Jj63zgmWP3pTxLNR5W78r3fNRX5nBvWfuBU9xQHuSpN6+lZwf6wsO4cEEzQJmhktJsiEEZMgN5IwfkdazBUcKTIm9knyOITUg5mBOueqrbPfw0LDb53330ACe43idH5+PMCr7jjXjw7FAadUA1wKm43CMDkf9j3iIPMBdut0H90p3snr2EU90nUOzLWkpgK4N96IdQVHbxgLbt9pkxiORcs7YKuiz8ey88XAuxjFyin6vBXgl9NSzTjbUSkK/qGWWJjjaOiYp9V6Ic/Z7N8T1bG9fgEpn+GO3gptnm73ISSRAgmTvquDVz/0JisQ5L3xWDvdmnM1EmzRpR/s4d1/u75gZ5hw8iOVZCmEklgEEyn6g21YG4hwDJhRGKMoAaIru7TDZlO9myqScPxejXnbVuE9nt6m6AWVLlGvg2a6Bff1bErv1d2/gXnOABnec7dOhcn60gjExFFmm7+Li3bGexfg7qF6dxzVjOdZR1p5+JCPGe7K/r8yIyo/XKb8Gp2MboT4eC/bEsXFqZnL0zImxLxm8Wb2lWrOUklK6Xto5BfdhrAjQfIE+cZz+Fswyvb4JpByo/vkTai+4sHfLgCVR5yTJ0LjlnMH9kodqo7vQXpJ90rnxQL+SVcdsBSr+lz82Ppod4sK4MVboST3QuKAvXAiyPSIzjnDjs3Fl3/V+uMQ4FGhdx6b1zTHt6pP+jOPuW77lW6Y/E+AD+AZ1S6Zde8zYPFT26meaERh5zS4RY1+20axDWXDDBjJj9jDbMw5vhsmQBNFjlHcqtLErt8G5AkdGeNc11476n3RvGY2ZjKzUfve7DzhlpFYWGCXuOccMmDEwjGYUpHFwLMb+7sN4/lCfQ+fH6+4Tp7aHI/wIiPbZFp0LVpbEPE8SsCyttSzKPkcbXBLqLGAaB34ByC/bvPjFL562xoWEWp/ZvDEgeTILMi4cN87OBX3iXV2N28eExmi2mo2yL36TTgUiM08+1e/Afsd3fMe0dCtxdVxCJUg1dqqTAC6NE4GvQCv44tGjtpe//OXT8+l/8A/+wTTWHHeeSJ4lywJzz9oFTtAW3ps166t++Iyr2l8CVx00BUtKLruhKEZDehlARuJ8GQ3lEYpCHMVRIOmFgCUVGJZwFrsD7LHC/WWYt90vfeKUgeFawoR3W7xLlFwnaDIMGWsOcin9LclpWKpvawIvOUz69RkPAhc7lLgIoJbPLI36XAKLK2XwQ1yTfWbPt+m1c8q5RpDENSlhNsPUJmfrWZalYj5AHwVMDpN48SOHOSfBmQv1qK86HwKfx6B7InRKjINWFOiVfvlVSYklWgGzVR6rer0vYuzs6j6OjQ0BL24lZWaslmCNLVv27rjzlSECLs6bLKlfwNQ3/eQLcK/fjuvDkrja5VmGw+B0T0Yi45B5MBbG6kuzslwGmzECshg8ZVmakQ0RD65lTIKmMktAu0H7Btip2Kdj9z6DnpNwH5xq45T+u66ZC8f5FV/xFVOm6dmGTBPnDArPePVywlvf+tbpmQyDtbrgHD6O6YOyOB3Ln2Nwt+l4aSOG29o6BQJWiaqlcA7MCxiCIj4ERrplTxym2Qe74rRymM7ldAWunBfdlvnv8kL3ibYFRA5SXzhUQZPdF6R7CRDMcrStL9/6rd86LfNx4mZIa+h7xNzxdSyW5HQp1CccjYGPfQp2bBQvVgN6C5sdK9+1ce8zGfXXfufGa9ris+uML3ZPPHqzLOs7qF5own1+YGxjDg6Vv9qgSdFlEhSPjC//8i9/8iCYITMqEtwKRTFgRtuXdhlQzzYo0fYcRObuQDiFnH0Y61yivn24BKdzoW+MsSU5/5VpKdDyjIRJ1smpynYFS8+vPKfGPcfNaeNirrPc5RLS/VIOd6x7DSe+JJ9sLvvj/AQp9idhFThtBS1tmk2wKTZH/4Io2zMbsRUsBcmWSpUfg+Y4vrUpQNYuu5ccadtnM0tjwHljg7NWF76z9Z5xmwE14xzbWANr1b8kp0tCvwgOCD5wJLHBUb/8w1YF0hJgMt7TvvsbxwSbHMFuxvM+8+WCpJeU+Hj7uPdc85yl2UPXXOXyLGVSGAPiPGW2DIgwVuRwmsgYFe9GKbGsN8Ntql7WsSS0v4/8c3EK0Y8F9Il3HJtpCJykZRnnc9T4xi2u4znjOgVrcPnQQHd0SMfsyJKb9wHM4O3TMdtjl70s1HMnSS1n6esDnj0JsOxVooO/ZpCkZfeO49y+2aNAbaaiPitMvfwleFYfh8i+9UmgNNMggrexIGA/zXa0Fuh0HCMSIYmLmX5v0+KgZ4psFBddewj50107HNvEO9Guun3X06qCtu0bs84tNYnZxdXNNGuLc2wNm1H6Uru3qcwyfW4Wyni7BUqSYbTm7iG1zMPDaX8LRNHnOFTQP9fbaj/4fGpWcwhL1xfuk9NjIFmiVysJHCjn6scrzDQ5TjMPoGuO3AsJVhL+83/+z08MxbljoM30rG37fTZelsYanK7FJ/sigpogxva++Iu/eLJFtum4LefJ7tiZff1hiyU27JAz40TxSq+4YueCsGdReOvZVS98CJLemK4tohwn3FceBPNXvepV01iwTKeucTl4bazVxrXa6Ah9JGb9uJEI4Qt/xFItvp2XCHVP4yxy9z7TZ8d9brzgvtUKW2Pq27/926dkyUzTWBC8fXPiHNs9xOlVBU3tUKaAyEg4zuc+97mT8cg4TfmbbXJuZqI5OaBISzS9+ONZpoBJoZRJ6TDjlqe+7CvX8fo6lrE/p+67MLa9RH37oI1rBD7x7xkaBypoelvTshwx42wlAbe+kC1ovv71r5/4P+Qo8bXPkOKR7ON0CaTv2lkaa/GZndG7pVmOjzNki72YZyZIbzgRsOJQgATncOWzgMoOC8ZxBo5zuom21K8ddWRzZjEco0DMttm6+i3N6oOAqa61dL2Ltdq4DxtNryR9HRtsXCv5wadxYsXBaoOtt2H5cnzy4WN7XXsI6VafjBXcWl2QiJnd8use0fgeqW9ImCw5bnsOL4euvZrl2RRJqS3LWobpAXOvtjNGZaAbKwOxZbQMh9JkvhxsWScco8hDhKpnnyyFuwbTY0XjoNnNOMNgkM5xvAzDUkwc4x7Hd3FQ/WRE141c3lXXKdht99pBB3TLhtiWgOX7j2aRnJRnSWZ7ZnicGdvEHSfq+RZHyYY95zI7lQzZEsnQ53/+5z/5FwzfuXReWde0FKsu/TAjtfTHUXrxp59NFDz1S/8Kymvx91gw2oBtiQ7uThmjdE73ghkuRuGPHY+TY3npGvatHb6efzcWGnv5gpbl18TVzDS1kcFxjgzG97D+4T/8h9NzETMO5wVTMxAK9BnZpullIn72yfMNYhZCqabqDPpYsgrOBdxd6PNunenq2LbCrq5va/tc3AenpwCfnCRHaqVBwtT3szwnEyy93s5ZyzDxbJnW0sxdunLPIz+ncnQKRn2vwel98Jm9ca7skV0Kemaalt/YrkBpVuG8maLjhLNL6F1iTNisOkl6cZ7jc0ybHC77JYIk7km/MTwmTZfAWuNoLU6r15bQMZvjd/EhyJ2iy+rDv8doViP8TrRZp+RJQoRzZXAbfB4x6tM+0R/jgK8XHP2GOD9Q8mRfMtcYO3csHOL0aoIm4hidoMjIKN2v/viSq1kmI9RVxNpPMaRnWQzNj7FzpLJRiqVgjralojlwv/pjG2GpaZ8uZqjwZKxV931weiz0iTHh+CUveclkaAyO4VmWx7vZBuMwu/Cj3D3X4kTn6EobZDQqn9fkcBdrtHUffGqDXbRcyzmyTRz1Mk8rAxJbs0lLq46xbTpnp2y8QFm/1QvslJhFcJI977T0atYiSJplmFlIitn2uJJ0CTw0G1VvXPYZpzjCzzgrPBbq4r9xTiS9EinPw/lz40Y7bLnVo8aDawVtoh9QYoVvSZOAzrcbD2aYgmYvHvEBxkFyDg7d+1UtzxY4ZT0UyRB9plDn2kKkUo6giWgZpyBJGJbPBdRjUN2jjBiP7Z7bcB6MA8CzMcDp4h1w3dJ7b8nh3bLQMXisnNFd+lsLdMee6Fxw47jM9CUyHFgv3hHJq4QGXyWugmCOMcGrOm2rk1P0vNLzau8mWEkwo3BMvWYWuO/6x4w1OB3918gpfXbsVKhDosMP9+MHLekbH54/CnSeS7NhYyKRAPHZxL5j+XaB0Xgy3nqbWxKlHWWMg3P7PgdXM9OUUQiWnKQs1TONL/uyL5teBCp7tSxElMvIEM3Iepb5jd/4jRMplMqIKV5ZRD4UpO81B8DI6djeJaEfjYOXvexl00+1Pe95z5s+m2kaG2YXnqURKwmcMd69DHLp/h/CqO81nLz6xzbWHje2EptmKBIb+xJdwmbxZ4nOD5OwaeeJF/lsXaOfJcT2OVj2KziaOfRVghwjOy9RKmBemvf70PUabdD7vnrPbUu9icSX7Xqhy6wT9z779xL2bMZpFjreK38NrsexACpJ7mUvW+ND0DX7NB74edul9HSonqsJmoIhY6NAhmZ51gsBvm5A4ab8+sHYlJWBlB3JOBgVxfodRK+9c6qM7VoM6xikb31eq9/3welc6AsDERxb4pMw4d8zM+MC73g065CxeraF4zJUGec1c7w2p5fgszZHJ9mSG3vtF7zYtGPOu8ayrnJE0lMibJZpNtHslT2za3aMY7bOMZYwH5t8aHsN3T9kG9XGqJel7qV6JUPGAhvuO/aCpm9EtETbpEhZYyBe2bz+CJrsu6V5s1fjxOzTZ+WLBUvhkB6uJmgyKpmHFz4YG6XKUGWrlOo8UKTMVmZBSbYpkVI95xI0LQNYAqBMtzjjNs8Ch3CsEe/DqOs1+30fnM4F3eHVbIQwLr/+JBsl6RbfvnsrWOLX0h1nyqgYzzVj1PcS42QXl+RT2wRPgh/7ZK+eSeOT/XKcYDxzkK0aSWpx71q2LEgSgVNA5RjNKHCvrC39HWMXY//yB0viodqo+gUqoBdY8l7GMYFrQdJYsO2taMeNEVtlS4rsO2bfuDCjbJlfMmWrrPHReOgelsAhPVxF0FQ/Q/LA2HKs2YXstO/6OMewSEToNmVymGaaslFLO96etSxriYdyl1TkbWjwaWuGOm/FPj2v4WBhbU6PAV4ZkFmJNy69Oe37XZIngse49n1MyzM49ruzluucWzLLDHR0Dp8jRn0/tqAJtY9LtmArUNpnr5wl4ElAZSuCoFUkWxxykpbacepYCZFzdJbejuWkPthW15JYaozsYk1O1U0neAK8jPex1D1pI8FvIlDiWDvGhvEw+k/9M34Koj4bG9m6cXFqEjUHh+q7mqDJeGQffkHC8yxBkwO1VGtdXPYadJnyZBmy0qbsvTjgoTNxfmll7iLd2Gpr6fbW6v/anM6FfgiYDAT3OJc8+b1Z3JutWEGQWeLab4z2YgiuGc7oUM/Frl5G/XfuXE7W4PRa+IT6wlGCz+2797Gvjo/6sJ8THOUcjP24bwd7DtbkVN2SCFv9PzfhnwNtJXECu2MgOD7a9chdx9fq86F6/67nF0JK1EnCCRIkgi0FRapzMlBZhyl7zzy8TWdrKUewVG4thY6ojfof3NOGwxgNSPbpWZcM1DK9z7LgDEpGiXece+4h0zQuRkPasDzi6BhkC2yWsEVJbrOE9kmzycSx7H8pbutPsuFvQBf3aT+1h1vjIIn3XTE2xs+NC3JJLi8eNIFRpkgKNCW3pWCKSrkZX885LNvZ9oq7maYZp0Cq3H3hNgKPdTZPI+io5VlBU8C04iAL7jzeGZDZpsRIwuRYWNJ44vI2Tjc8PGx8/r9IH3zsbuDc/NZhXDxoRpwgKRh6AUDQEwx7Y8oLPb1JZ9+r6I57/dgyrGdbfRUhp6rOS6JBORcGamJ21f5jR/cpcAqaXhIg9s02JVOecXnRS0IkGTJWJFEZ+33p6VhORzwETuvf2M9z7vna8FjuYynE7a5eNj0dxlXMNJHEAZo9mGVaavVSj5mjYNgzLH8wauvtWF909tUDM0zf5fJc07WcadP3h4Td/t6nc911lPeJuMebZEdw7EvL9iVPkiUzTVDWLFSQ7QWPhwD3eSkdz0H92jcOD/XZuUvxMPbrUB837MchH7np83Yc/SKQ/RmXHA0v+njhxwtBXgIy0/BWFWP0tp0XRcYlV07Vsy2zU0HTvhkJ59oM5KEgndruDlYJwBoY26p9uE+91QdLs2aX/v7L1ne6nv/850+/PetNWm/K4hbXEicrDP3WpDFBRzi/Vox6hjU4re5T0fX4LwDSafu3jQvXsV3nJT5hyXGkjeo7dJ9LtnkM1mp3vNdRB/eB2r6UTi+NQ/d9Nd/TBAYqayXa9Lm27Y/BsNkkcbxzM27nqrGr67WCwX1xOgfNHD3L7NdkfOXE14187cgX3XthRACVJBG/CNTKgqD6EEDva3B6Lp+71++rj205ji/3YF/AtJ/txkf2eS7uuq/x/KXsf6026fQS95NOL9H2teDQvV/V2hbjs0TLORLLrZxhs4xmk7Y5UTMN17j2MZDsHkZ5GuA+8YdvvJK+2I7fVhqahVqFIH0V6S7Hek24Vk53x9vu5xH7ymW7S9rhMQFxqTavCY/xnh4Dru6BUMaxTzq/4fEBr2YpJUGebwqiPguQlu39/JavpPQrMwJo3999SIHzPnGsXkZ7IwVBMs5AxvPEzLJZ5pKBE8a6ajf0eff4hg1r4eqCZtg1hmTD4wNec7QCpplmvwLlmF8KIn70wN9N+X9NP7Pob6l6y5ZDTzb8HZawGXXEUQGybUkOWTpg1u4+dO5QmQ2nYdPpYVxt0DyE25zj5jTn49r0pD89z/YsZ1x+74UvP2zQvxpw0Bx1Bu6a5GkcA9u4f3zYOL1OzAqalyTvUNvjufZtk/HzQ8RD7fcpcK9mlkTg8+y65dl+Qs/XinwNxdLtuJRrduN61wm6cf606e9put9rwZo63zi9DO7S+ay3Zzds2LBhw4YND3R5dsOGDRs2bLgEtqC5YcOGDRs2zMQWNDds2LBhw4aZ2ILmhg0bNmzYMBNb0NywYcOGDRtmYguaGzZs2LBhw0xsQXPDhg0bNmyYiS1obtiwYcOGDTOxBc0NGzZs2LBhJraguWHDhg0bNszEFjQ3bNiwYcOGmdiC5oYNGzZs2DATW9DcsGHDhg0bZmILmhs2bNiwYcNMbEFzw4YNGzZsmIktaG7YsGHDhg0zsQXNDRs2bNiwYSa2oLlhw4YNGzbMxDP+71/jb/dvxTu/8zvfVOwZz3jGtAXHZlx+7xj72P619vUurNXnh8bpLvT5nd7pnSax/27v9m43f/VXfzXJX/zFX0zba72XNfo08hno5Vp1cM3YtYe7sJZ+3/Vd3/VJ3fgNf/mXf/lkfJ+C7u8+xsXYVuPxUjiG10PnZ800DzmgsSPXBn1LNvx9jEY36umh6Kvx2D24HxBEn0bss9Fxf8N8pMdL628MjkvZ5X3b9qjHS+tzKcyaae5TdMeuTRH6JSsj9mVr7/Iu73LzB3/wB9Mg1N+HRN5afR053eX32vWjv0SAxC2O7b/7u7/7xPvv/u7vPnE4f/7nf/63V10P1tDvLocb7g/3YaO7yaA2T2l3rPPa7XwtpIND93/o3Mlp+amkrQ2Dq6CZM9VPzrVAuuFho7GXCI7kz/7sz27+5E/+5O8d37DhMWAc78kpOPf6x4Jz7v/kmeY1Qj8Fyvd4j/e4ec/3fM+/l52ZcXCof/qnf3qVs4/bsNbgHjmdk3ldE/SX4NezTJyXELkHHHuuabZpe21YQ88jnxvuF5uNPj4c0vPRQTPHdG3gQMmHfdiH3Xzqp37qzad/+qdPMw/Bk2P9uZ/7uZuf//mfv/mVX/mVm1/+5V+e7iG5ZqzVv4dqkPoqSOIUtx/5kR9586Ef+qHTZ6sJZpc/+qM/evPHf/zHU5L027/921fB86jvNWbAY/0b7hf3ZaMPwT4fCw7p+ujl2WsmTtB8v/d7v5sP+ZAPmZzpJ3/yJ9984id+4s3HfuzH3nzER3zEJM6NM9ANf8PpQzFIzoPgUJD84A/+4JtP+qRPuvmCL/iCKVHC9Qd90AfdvM/7vM+04rBxveExYAuY14NH4VFypISj5DA/8AM/cAqcH/7hHz7NPjlXzvT93//9J0eq7LVivJ8N/y/SjaD5vu/7vlMi9Cmf8ik3H/3RHz3x7JhZqBnpNejxGvqwYcOGZfCo0nCOSUYmKFqu85kDNcMUPD/gAz5gcqawZW4PE/GG2/d+7/eetp5bvtd7vdeTl73aB9tLByx93sbbhg2PA49u7YqD9Czrd37ndyZHxaF6MUQg9dnLIUtCe+p+Gt7MdX+Xvsf6QOg9wfkf/uEfTl83sd8LQJfu74brwTYWNiyB1YJmjm0OKnvqoM5xut4ME7wEJJA5LljawtIvYWhT3dcwo1kbx3BU2aV1kq59JxPXvQAE3orG+8jxGn3YsA7W4km9xg0Z29jGxrpI7/wwG/W4xLYJxkPV/WpBc+5yVIo9R4GWXIllOc8xP+qjPmpajm1Z1jHnkcWhFkyXII3T7isuDYYlQH9zdXhfmNsnOsg4ltIzqAfHOPWSF/HmrGVaHFt+t+9lMJzgpueal0a6uzZO5yIe5+rylLLjNfuOjbjtOIzH7RuHxJjsuvF+7G9YDnRK1+yPPXrPgE/2wt7HfMzHTPYr6WWb59jnqdedi1VnmnPAiQhkpzoT7VA8Z+olH+R4gxI5XgzxEpDjHKmXgxDISE515uM19kdneOo97GKpei6Jcba3xP3QNceHQ7z6WtFzn/vcm2c+85k3n/3Zn33zcR/3cTcf//EfP53zIlicGxubUzwPjfN9cG60iWORHbYd67ttH/bZm/NjfcYL/kvgKrMrHd+wHOhb0BwD5ud//ufffMZnfMZkq+yTz1Ymzo7FpfzkVXiTc2+eUZhZcJKCZLNLDhY5sh0vBBEOdSlDcb2+CxBjkHjaMTo0OkpORdczLvyZXTI8XzHx1qx9b9AmyjBIY8LYcN2G5XGI03EM3Iaub3tX+VMw9nGN+jf8v8hWBUS2KHBa9bMyZELDP/PF5wbNS2E1bzLHaHZxyqCmbMq3NCdg+l4mR/ppn/Zp02dfMxE8kdbXEZaC/varM56lLWWU7im5JhzD6Viue8k4jr0317W8hsO+l/msZz3r5nM+53MmvnHMGK0w+Gw8FDCPaWstHHvP14R43+V/37Fj4DrJJhvqt4JJde5+JocwXkPUyS69CNgvgVXfWG5O3Rvmwzi3/Gqywv+awPDLz372s28+8zM/c9q3IiTBNanxaOuabPUuXE0KfsqgzZlSuozGTJPSM4JxHym2o+GQY3HbNWN92iX1by7G6x7KADqE9DzCPeFid7nsEMwYJUY4ZmQSn54jy1TVBxykH+b3i0+2vTm99BvTx6J7JHh9bJjD4aWQXR6SDctCwGSnPRprZUiya3VIoivh9VjF5EbwZN8PJXA+eAum5LKaZpH7jAERjnGgnd8tcwpygtUV4TmSYwdB17X/UFHfR70kBU37c/SjPI4FSTzb9iKBeuJA0PyjP/qjm9/8zd+cgqbPAqfgfSncdW8bLo8l/MDaeCjjSD8lsuxUwLTiIygKoFaJzDoFUMFSEDXjNBsdZ5vXjqN7SCnXRiByLM0hgwHkJJthIMIMM1HmXEOhA/Vy2sjuc/pxnFPvRZRjdXZs+WuC+y0wjjpJX2aJgp7PBb5DcF55SRGurSgQxtm1OP+93/u9m1/91V+dfmfY9rd+67emwHlK0Fxa/+ngMWIJe9pwOxo3D2EM6Z9Zo8clAqQX9gRIzzMFTy/rWaJ9/vOff/OFX/iF04zTcq3AyS+c4ivvG0cHzdFALnlz2uZwEWT675llb87KbpzXz543jl94X8LA04M6iX3OmdgXsAXonPZdbeovKbBcUrfnovtPH4ljdOVHCPygunJ0VHKzD/QhWMpUx9+VFTBHxC2o34zz1IAJd/E1ByOnD5nPDZfF7li89rEkYSb8c49SsoH8W8kuu803u89L2Yo2RzmE658L74GbSvlmIGYdMhvB01YgVSbnXdDsZYCloH7CMbcfOq798fgcVP7Y664F3ft4H6MwkIxEubsCm6Ubxidg7hohjPXQN65xTjq/YcOG9ZFvLmjyz63EjfCZvY6+wLHdcteIs4LmJZ2RgGm2IUByptbGe4uyh8pI4UB///d/f/pZPct1ZMl+q4uMjr9jyRxUttnYKcH22jDef/uErsbPtyEj6rV1s02rCPjFfedJXHuWaWu2SarnEhjvF5/d94YNx6KxlFwz+F722WMYvroklw3wb7ZNZnxuEuT4JTDq9C79PriZpuyFEzWrtBzrOaa1c585VLMSZRBkVsmJejFEsLQkCOMs5VyoZ3fWcy4egmEcAl0wgIzlWKRT1+OS8eFcctQvini2OdZtn84YHSn5yEA3XBY4jddxFpJjbT9hxwkHnIwOeJQNl0dcxBUeW/1jv7jreDNQx3x23JgYbfq+MdfvPrigSckMqeXYZh9IcbzMxs3LZCzJNgPx2fFrNbJd0uYQeI0w8PHACHBxCjJA16vL7BLPGSBDqwyhq4JlgZOcosOx3nOx2/5D5fQcpEfbMWgWOAmn2X5OteOVdV2Ods3AuXR9TxPoLfv3Bi0pKDqHO1zGN5/NtiuD30sGzjm4WO8amKMcQmUonNP0NpY3s2zNPHpBBAmUbpbpZRCzS4HT8qzPZh45rqUcmHqWdIZL13efwJHBjw9c4Osubnfh3uObMLx+VWT8QnT1Ko/XlnugoHkMao9hj475XMTlQ+X0HKRTukyfxgQnyVmyWYJjW+8n4Ddbrlz7HG3cVN8o52C3jnPre5ow6g4veGSvBU3B0Hnc2XecLbdKyF/gPX4vofu5bT7jrw35Tkte8gaqS7O7+7d1xTmKZGxmG55fftEXfdH0+rKg2SvLxExDwBQof/Znf/bm13/9129+7dd+7eb7v//7b37+53/+5hd+4RduvvM7v/NJ8Jxx+weR4VbXufXtYun6QrpfGvSRUeCMnn0VpPu46370Sx0cZdnql3zJl0xfiE44VIao/pZhtfEd3/EdN29729tu/sN/+A/Tcrwk6djgWfvtq/8hcLoWn4egzdrNPumO+Cx5SpRzzBanzRhdw1Z7aavAaCsB6hyO8ah8xx0Lzik3rjSA9vgDn+My0Qewr4+gjP7bum7kv+0ubjt+LtLtWhjrP/ce1EXw87mf+7k3z3ve86avlLzgBS94kgAJpPGAq1/8xV+c5Nu//dtv3vGOd9z8zM/8zPRVMROckt+1dHsXDrW7WtDcd42mOr5v/7auGNyUztgERs+1vvRLv/TJz+XJWJwjBjpCOMwf//Efn0j5pV/6pZsf+ZEfmbZ+LQZBozGcA/0e72OJOkcsXV+oz0sjp5njYySWxsG93KV31+K7F35sX/rSl07f7fILIn7w2VhQv3uI79/+7d+++a7v+q6b7/7u7775z//5Pz8JmtrKgc5BfCaurb9LcbFUPSP09b6gLfcQ1wU/vAg+9vHTm86Ou6ZyY9B0PA7tK09wb5UIhxxogc85ZRP9MKacU0Yg7ZzjpIDrmG1l1dU92K8sCMra7hrt2O7DGnzC2pzuq//Ue1FXtusnLv2ZAnnRi170xF4LmoRe+eOC5vd+7/f+ve9X41xf1tBt932o7kPnVg2aSRgH3W6zt92I44xMYDTdN5U303zJS14yzTIFTYaYsTIGxuaN2R/4gR+4+bEf+7EpeP7kT/7kRIaXgn76p3/6iSFcO9bq48jL0hgdEccYOCSOCG67L0bHwHDs+SXeZax4FjA/4RM+YTqPaxwyLnVaUXjLW95y8/a3v/3m1a9+9ZOgCeO4uwvpxdY9jP1casyswemafMK++ukHvwIc4RRJyS17NcsgdIc3YwKvBU3BKb3i1DGiHslW37ktaHLAytp3rkCnHn20b6biXH5AW47bV57DtjIhIdMf/dJ/dWpLXc4bU/rgWlI/d7EGn3AfnCYh3Tp2zH0ZC67BoX8z8eMFZpu2dMw/W34tkaHjVv4ETT5aECV8NB5u0/e52L3ffTjU7r0EzZqghNtQG8oiADomUPrNws/7vM+b1sDNND/rsz5repZJIsyWE2UcZh7f8z3fc/ODP/iDNz/0Qz80bRkCYxqXC68da/Uz3a4BdccHh8WJcpyclaXyfcagvGMMTHlLPHj2gwaeXXtLWsDEtzqVZ3y4Jr/yK78yBczv+77vu/kf/+N/TByfusQz6oYDdx+kWce5WIPTsc9LItva3acXDlKwwS3OSnIETG+248++Y3glzToKjoIhfRB1p+8CnfM5UHCtfecEtGYkrnWsgGicOV8A5aSJYwVTQd1sWPCErue0iVUpTt0x54y3kbt0scSY2IfqXwvVb9u++zvlfrIRY0KwbKZp3xgRNHFPh+nZpOanfuqnJpstaP7Gb/zGvQXNQ3UfOjf7RaAUO8pd0HCNH3vztTEapzdlDXSOUybKCDMyZbWBEMaRYRCGYusYso7ty4bjgQ+DnpRdkkNwDS4ZGG45NA6XU+OYOUzONAMFXKq3mQhRz9LQztMwbuiOvdG/mYEXsHpLPWGDkhmJTO8V+B1R+8Q5KwUCp7JdY4tPwZXgVf3t2zZbxb2tPhDnlHX92J+xfgm1Nvsqmr5430GyRRyr3+3X//qsDu005vIvjTf6SR4LlhzX9ERnibGUzaa39OlcYy0poVpbx+fc86yZ5njDI+ZkAq45toO1pV0OlEF4AeQrvuIrpuzV4GYoBjXDGvtlhilbkSW+6U1verI8+8M//MNPMkZB9aHgHHIPYZfLpTByp+/2Mxrjhe733VPXtbSHb0uytmaaOUp8qwvw+bu/+7vTbMJSj4xV9vqt3/qt0ziQJIF256K+g+vsO6bPc8b7bVBHOKY/czHWfyrUwWHhgNC3gMUG6SHh6AQVMwflmkkq57hjeHJcsuucsuonHGP7wCaJutOvMSMRIsaMc46pF5TDr/OSJufBvpll17a0qw4zUJ9b0leX/vInvV0vufZCilmPRzref3DcWFPPPv7X4BPSz1oY62/f/Z0yxguSuLUkS8w0X/ziF0/jogCqbvrCh1m8Z5ps9id+4iemfc812TI+jIlT+3MuDrU5e3l2lHCOE7kLlMzYKFrQ9A/9X/VVX/UkQ2zmwSjrk/5QuAHvzdk3vOENkwEgBylIUGatQb4G1tLvyOMaUL++106fb7sf5wnnypl5Y9YLBc95znMm5825EWOiOvGZo7M8661oS7Tf9E3fNB1rVeFYHVZ/19X3U9G9gXrWGH/Vfw4EHg5OEJGkePmK7QlWnJhz+DETIwKqmRlbZKfKkXGfHau3e7bvmP52nMRT5ZTBr0CFR7auXvYOyrZ6YT8d23cdqMv+eLzgJ3AK7uoknLixZGmQv/DegyTMc/KW+gXp2rIN+rAGtPNQUFBkny972cumYClw+kF24yDe6Y3gpqVYPtrjMzr3Ip/Aec1B82/Ss5noBkZZAwYLRTOQssHxTTzHM8wGlr4gwsCncA/xbXuGYWBnnBvWR3punMzRPS4ZFudM8Ix3zm1cttmF46ODJuc4nPoc7ur3IegHqU/n9GtN6Bf90bMgaDnUMqeEZVwO7T0CwZSYTVoZaImVveItvoDtFah6VGI2yFbZpoAlmHGSjZN0Tm+4JWw+HSa7fI/ntF9QNJ74j8YWP9J4Ae0WgOuPz9UF4/6Gv49RL3FCv47Hz67gND5wY8w4BvF/ju2thdlBs4G8O6jXAIVSoGyW4fYFWM6TQTJqis4o9SmxXNffQ8liWpKp3xuuF4wL7wKlLYlv+zm40DgkGSmjY4C2xtElof36lYO+dJ9ug77RGV2bQQqGVnQKiJ4JskUB0zminGtIDhLwIeAIPIJiL+SYWfSGJBttpmEpnZ0WQAVY9qo+9Rb4djnN5gVb1zQrtVWPIO1zs0SiHaJP2if5DC8Peeu6/jmez2gL4/6Gv8E4tuO/WT6MvNlPXKecLZ+OY/twrXpe7e3ZU1A7HGRLsr6bZ7mI0fpepmyWEY+KZzhIYiheX7ZE5zt71spltYImI3mIg32tPt8Hpwa//t91D/rCOQp2vXn5NV/zNRP/z372s58EwZxzwHmOEc+W0izRft3Xfd3kpDnJOe2vAffk/o1l/dfvHLuxuDTO4dO1+ihgejGG3tmbt9Udd77AxLFJakpczdiaAYJy9M0mlccREYxwYlswylFKiAnbliRp04w152lLf7akOvHO5rWZpN+u9Vlbzo0z28qox+fOGUcF9B71OK8eW3CvpLGl7jWQTteAut0/7twDXdqeCuOAfRrvlmf9qEE/cFCyo73aMD6sBhoPlsM9TqPv17/+9Tc/+qM/OiVTJUX3DX091O7smeba0FHCOBgSw5HJ9labzLYlWsonyiPBDRr8Bq8sknHKXhkAQzAgjkUkk7Ifxzbcjbici3RdgGkJ3tax9L+LDND1jL+Aemme9FVf9NtYdi+CgJUSn68N6b9+A5tiT83SbAsu7ErgI4JLL98JMGZrgo4X8TxnJu3betnDVrl+rUs9bJQN47R+jFtwjhTotFkd6u/FEvv6wgkTn+uX48pZibL12XnXVT5n7j4LmNoM9YM8VODc+Bz1ew4aQ+zQNu5CNjnaZmOM5L/H85fCXbxeVdCkaES2JCdItjwrgPZsa1exKd/glqEwJlvPTRh72eYcqLu+IN0g4Mhzyg2IayD3mpA+drdzoCzdFixxT+cCTHrfrQ+fDA33xLipTDzBfTs2fdC2fuu/MdtyZ0nfNUF/ExAkzMJKPgt2bIoIPIJNQcobpgKNlzi8zOGFO+Ktded6c9338ZQhAhj7LPCyURwC3eXMbUn2hkvlBFi27QUSbWjPL34ltasPvWBSkNSPzinnuHuyNdsh7lfg1LeCJv/SWEv0577H11KgzwLc7hg4BeOYj0NyG+gtn41/yZht/anMNeJqlmcpOCdjic7ykJ9P+7Iv+7LpBQQOxznlGBTousHLgBi67PCbv/mbn/ycGmMYHescuNdIz2GTMmEo87wPUtdqY0lOzx3keBcsfZ3IMp2leW9Ke3uTjMY3co8Thkfw7ytGb33rW2/+03/6T5PTZ4T3wdEIY0bwF/iN45YezVqMT8GC014ap/LpOoIDYolU34mE1Tn2UJDomlYAcpQ44PiC8gJOMwjnfLavDckDe/Z2dN/tZPPZnJk51Kbr1IVTs0O27cdLBG9cq59d5oQbJ9ks5CvUlQ0Hs2mflXE+R66cY+P9w7jv3Bo4ldO7EOf4i1v3eaqtqMtqIF4lh75q4s13P1DiR2lwUZvaIHSNOzx6S1kSI3HxQzS2EjY4tU/n4lC7VzXTRCJDonxGwxg5IGJ/zELAjSHc4O5ZBaNoOWnfYD+E+sBwM+ociD44RpTJKJdGgyt5KDinr66l03QtQYprcht/tdl5XOdc53K+JPTHuBBQjN8CgS/+Swg8i3fumkBPhN7YjwBklmW5su84e8ZkfxTOzTsD/gjB74bamlEmZnxdb6bX7NRsVYLDSeOYPeG755n0w9bjti1OJUmuVYfAyblqQ3v6SLSXmIGaWTbztDUrbgmXmFU2k5bUcNYF4RLlXR9iv349RMT5sf7xEMbVQeJzPI66ql3bkhP6tsRPGhuVvS/Uz93+7sPVzDQZC2X302mWZP1U3ld/9VdPmbrzHFLONOVTMIM0yCn8677u66YM1JeSfVYG7rpNdapbO4KmgKk/9jl0dTEi9SCZg0H4koiw7q97XAPaWAr0BvX5GOiHhITT9EMGVhVw7wUgWaoxUF9tR/5xn+Djta997c0b3/jGm2/4hm94YnzH9ucc6Bdn0Vvf7sF4dj8yakuFAo1VkKWRjpaAukZdQ9yO7ey26XP6busYKdG09V1rqwl05Ae9cewlP0lFY8m2NgGfEmJ6FCQFQKsKvTSC64Jc18C4H/Yduw279xjG/j0EG91FvKTvAhnYOjdXT+ows+z7u14CwqkfJzEDrQ11ltSChMZyuBUitiEJIvnX+0A6Th9zOL3oTLOOUipnw3EKmP20laU5xyvTTUWwLRIYlCyFQdlHyr6Z6W1QrpkOp2124M0vy8O+ZO9vyPxAvMHAsQvi+jW3/jnoHvUjB+PzQwAeRqObA/ebExU0LWUyOEGGseHAsfQ76rl20pfEhuCcpL+luJmD+GumpA+cvGPuS3/MqjzfvHZkW+xolHhOds/nENsS5dRHH+7fDJyNmX37YW+2Lljij67oceTN9YKhwGjG6teeBEvJh1mjmWGrSwJnbSba3pVjsO+6+rfb14cGfR/vbbwvXJA+H7rPzhv3Jhu4vM1/Nbs0yfHIgt9u9u9Zt3M4vA/Ub33Nf9T3QzjaK9cQWQLVRcE50L5ALTC5AbLbHqIzjJZlkeBz9VX37rW7qO1I56xlw5x3f0clWNpygIK7AFu/7qp/w37QW860hKUvznOujh/Sb+fiT8Aar0nuE8alvrgfW+ORQzc2CWfxUJBDTfYd2yeVa0tw0+qN2Qf7khhJQNPVLuiOAxU06c6yccutXgISSMdnkbW5Fnbv7bHg0P3MtSEcNO7ZoODj83itdgRNfGYTkh7L4maXfLjz96Vf7ZzS1uygmfJGJex+PhXqEIAELUHTbIPjpHyKHwMguFFGQiKBM6J4ZZOu6bp9cE4btd2bjma8lhh8V82M1/KDANqMiFPX59pZChF5KqHHYI5+1oR26R3PnKllTA7Vsp3Pzo39w3foOMEBLjhmHDZmlubmLmgLZzkPjsPY5BR6ZsbRPySM47D9OTKWB7zQCdvxI+r9yLskiS3hLq66jiM2ezT74FzNRARNzyoFTjotaNbO2rivdu4L4/3ctp+d3YbKslf+02Qn3x2UIfEpQHo7mT30prJjzo92fh+ob6McwuygOVaYEvfNAI8Bp0axDIrhyDot1zAswnkyJuWgmxm32keSLNZWENUvn12LyDG4JRwaYpXjqAXGL/7iL56WYf1moje/evbSr6DoE2e+65TJuVBH+qj+tRGf6fM+gRPcpENb/NEvw8MdPezqduR+NK50pw5jCG84k+QYX9pr6aW2HVeeMzcORnE8R2+/6+Jl5N0x57SvvEDZVy8sI3qb24sznr17fPA0IT3RJV7xgRc67hweOUvSuwIcqKU7gdJLPxyrwDmWcd0lxi5kN5dqfwmkPzLu95lUrv0RuMvu8tlW4UqE2JsyQb38s0Sn78OyB8fIfSY/oG/ZLcm27+rDSZ55VOw5N5mzoVzOhsMkKV9Qcz7jGgmArs/52RLXlekoQ1y7u+885+yZCicr8/XyiWVYAZuB6w8DtzUQlNVmBCdLQD3qJefq9trRveGigRt/RFBzrDJxZruLzpUE4Qp3uHLM+GosaCvBfePFfkFVWfujOO762/oQcgpWPTh7z+EET29ocvqc/dMG+qJf9sOh9niD3unVeePduB9XjVrO5liJQDo6Vtcd4mItaD95qBj7fug+5twnDtgrTtkc+4vbXeAZxz2uwHOrBTCnvaVQW429uX736KBZQzV2VwOHwAEVuAqatoIm5e+bJY7weXS246xh1xEmyhN11672LA1aNhI0Pcv0OeOub4zeMe2OCj5HB0Ed6izrOle3DwHurzGAJ5yNQRNf8Z7sg+PKuh5PxPgROEumcF076s7IzX7GmaXjjaX64trGz27Q3O2ToJijFyhl1JYSvaTWl+WfNtARveKlZ5i4wgUY92aQBUy6s5TNqdp3rH1ljBt17ur+PqEPyUPFkv3Pl7K7+GUvIa4KUBKgOGUzfN4l9Fl/Rr97Fy72lRN1CkIcFudmpidofemXfun0GrpAxsmNjhPcFGFkum6fY5KxyOS9js5BkZZ0nEsZnB5BrgBIPL80s/Q7iZaOGDdnqW1tIFV76nvNa14zvcHne1+er1C4MjPUeCd29bxUvfuwBqfHALd0LGjh3vL4V37lV05fPfC8i9HFP6SL+j3qpeN9Pw9HghMHK1AR2azPBP+ct//pNP7wyoAZTc5d2z4bRy0T+mwsGE8ZWG0nYKvfztuSnD0xlpZGbV8b3DudWsXxGISt4brEmIMFerGPJ0J3bMuW7rK37/iO73jCFz3GwSWxVvtrc1r9p/S/Mc6WBMwv//Ivn36z2F+BefcjH4p7ZbVBrL5IJvHY782++c1vnpIkydHcvoy6OUf/1TPqIrkNFw2ajEbg5DQ9P/Qsytc6XvjCF07BjONSbmyfkXBYGRRhRBROECF7YVQcXtkMQ0Sw7Jaon8PmPBkw4bAZLqKV0W5ZkevV97rXve7m277t2568wVcflsJ4r3eRdw7Gdi4B+jWbw72ExezeM2XOtaCpjDGQHugZh/U93fSZARJfSeBojRPSMzBfZseneo03fDPsvnCvvmad2nEtjo0v46ovX48voOzjXn+I+uqvct2H65ZGOrg2cKw49HIfG2Nv3ppl9+wvp0pPhG5KiOOfU6Z/X0vwjNhWIqQcjpS9JNZqf01O1U3q+yn3gBuc4fAVr3jFkz9Y8AKloMmOlAlsQNDEn+/S9/OG/mjBC0GXCJpht75DdV40aDKiZnqcJkfmLVXfkWRUDC7Uh4wqh2XbW1ecI4fmGDE7KJiacSKXMEKkasMzFo6SmGUyVAMB1M8oXUvU51f4+3NrDjpnuCS0H3FL1x3W4PQY4EGCgnMOVaCUMHGoY9BUjo4TY0LfCd2M94F7HPk1GkFTeVwrJ2j69RhQt1mmtgTNvrqgLo5cu/Zx78vzDN1MB+cyYsG3mSmB23ga+wfK6dfS2G3nWmAs40yw5ESzOdyzOfrgWJVhwyPYKGGXdI7bklU8KE/u0ueom9t4Ogdr1Alrcqruc/1MQZO9vPKVr5xmmUTQxDO+Rx+OJz6TPfkFKSsHBU22y4/PRT4aTu3/LtL3XfVdJGiqjzAks03Oy9uqZhmWSD1XZFCVhbpJ8QIiZ2Wf5LwIZ9k1zvVCASAZwRwlx0m0g1jnOOjgWgYp4CKXY2W4fr3ibW9720S8GcgM9Z2FtepfmtNjoG26tywvYeIULd2ZabaEx1niQ7mSICIIup6MhuMzoytBssWfegRMQRGH9KmO/mZOG9UN6hx1w7gZthkO4zYGGHhB0zjZx5E6buNuDU7HPl8b9I3Osz/O1Ofsjf0RPGWX9CqZMh4k0SVElvKyR/zi7S59jrpZQ/dr1Alrcqruxrr+N/7nwnWjP/VDMAIm/+1HK/hVHDsP2sBpv/qDR7ZErNyxp2Oe96eb+r80B4fqO+nt2XPgJhMoUylrodh9GJWk3Chgy/A6pk6fEWr2wEGW3drnTJ1TrrK1QWEcYg7YVwX6CoFAaYlOcF4KtXvt0M+Rh1P6PV5Dzxxlzx85Rc6wRMdxxsw5Ol+5DHx3YOOw5CeDNp6Ur57GV+OtcQPOlXhpS98EYkuB+hbv6qnt24zrtuMPGXFOZ8fyT//pVgJDrzi2T8/EORyol8M1W7EaZct2HYNj2w5dd+r1jwnG5yin6CPbIRId/NivThjbwC3bwTUb97iDGBuVn4tjyy+Jew+aIZJsOTDKRgLFpuRdNNhHcU3wuW3HOVAGlwiUAieSC9YRHyKXk0SqNXjLQqTnp6PjPAf1+SEh3Z/bd3pmQDlOujWjkKjkUOmZM82x+jzO8Maxoj/4THzu+gJu14bqyaFrA785dcuA+iUjdrw+jO0+dox8s6vE57mgq93ASZ8jN7hQL7uU1FqJsAoh6WW3Bc1Tsa//x9zDY8O5Yzg9FjTzp6H6R8Ez3gXNHnudEjTDqdedg4sFTaBwSi5LydHBqOjdz6NkaF1XnYThyVLNLBmfZylePHG8Wec4yyTqY9iINesRMD0L808OxD5Hynkuge7joYCO6GzU+SmgZ85yNB4BM30XPPFQRkpcUyDcbV+fCG6dUwaq2zhrFqqcPjDYAjJHrj/64CUFz0b9MMHb3/726bPAqQ8FTtc/dtBj0mf8s1e67PghGN9sis7wh9OSkrin1/iyfGuJr5+w9Ny7vwcsuT3FZvIV6mgMP83If6bLOVwGZemPHnt2aTwYF445n32ovzas2li582xTMsrejAl2eCyqt7rvC7OeaTa4KKLip3ZUHSlcIBPQvDXrDUoBzQtBnmE4zrkhQVnt5TAJQ8vZdT7FZxTI5CiJbNXx6tSHELm2ZUFmlZ6dcKBeBvFMq6VZbXICpxB9LE7V810Y738u6DnuMrZ0Nxe1Gw8MTWLTc82+fsRZeqbFYRYgtWu5rqyWBOfx0UzGcioD9VmwM17wqoy2+91T+wVC4wu/ynLqkiPjwPWew7he3cbfObyswekpfM7BLuft2/pMv8fej2sTNkokOr5yZgzwBf5nE9fs1niQSJGv+7qvm17KYou4mNN+/VWOD6jtrk1OxTnXHoI+3gfGdubcS/oz6cAbjrw96yVOyQ4e2Sbbom91GivsRhJq8vHqV7/6SWLMx+LyWH+qD+puuyQO1Tc71UpRpM/ngpI4K8qTeQhSDMO+7/KMz7eIz5whJXNmZgL+wNR3M/1MGXE9o/L8kaNTXh2jgewDUvWHs+RE1VF92tW+gKqMskuT9FDQAD2ky0PomoyIsdA54xGccOvtSNnomIlCWWzJzzgmE+c4yQxWG7hXh5e3+oUe40YyhF8v+xDHvArPqG298GUsCp76qB79ftpAr2PgYQNL2IH6cMrp+jERf4rghUC/92yW6YUwLwoqk8Sva+dC2co3bkd5mnGMHke4jo2xR0msVQBB1DK64wRPI4wZ2G3zWD5ht/yp93EKZs80dWrs2BKDrmzEbIPSZZa+CuDtWUupZhqyTu1zehwradlUIDMz4Bh7RtJzS9v+5oswyJbnZLYjOEPiek6VvOpVr5qcqqCrnZz3ufd8LNZq65RBlhEspYPGlHozPtxwor7vZdXB6+vjd2mdyyDrT9CnHDm+SAkYKQjiU1tmteoSFHFLjCMB0n4rCuq07b7Pvfdzr9+HU/g8Bupfqt94E/xw7o15P3ZgZcHb0zi2ysT+6Z2jVV4CLNn5t//2307JrASr4H1Xv3Z1M97LEve0Bp+wNqenQr9wYgVAUoOrl7/85VOyQ3zGb/3HI+GnJaZW7b7pm75pskkTFL7cuYLqNeAQp7Nmmiog3Tzp2DlQD2eUwxIABSnGYfboj0n7V3YzAmKGaSbCiMxGKJyYRTAkDhARguvYT+3A6Gi7J47SUp561K/9ArTjgilSl7jnh4zufykdVBcO6NcYaHkch80MBTnnxvbJLjquvlYM/CCFseLL8biMV+OE0RpDypCWi1pVEDT1i4xj6WnEUvfNkUqMJMmSFgmtJVkOWLCU7JpRAidK91YjjAmcZYvxMQe75eJxqXt6GoFHPOGrt5slopJQGHWMR/bb5IMdsq2k8g8Fs4ImjEpIzoWBX7bIEAQvhtFSrSXSgiURzARMDlCAFGAt4XF2BUuENMtolgCCJaLLfuq/LeJcx0lzsMT1gjgjZbTHGOljxVK8j6hO+s1B4iMnKZHBjbGBT2MlLnb70nhSDm8CYEu+uI1TAdXWioXx07gZgyUjv6u9pw3ZzinI9tihlaC+TtK7DFYTBNLR8dK/8VBSi6fGQXzM5aRyx1yz4XbgEleWZK3+2O/RSaBnthOPbI6NETxmZw+Nj4v9IhBUr61lU8ZC6bZlMQyJ46JgBkf5HBsyIiRH6TNjbHnWQ2kPp/uVIW2oA7nj9YKwQOmHC5p5CNK2iKaiZG2Mul6zzVM4dQ2htzUQNwywl4I40/4A3HMuL43h0TixDfqVEQq+Ei6rBm984xsnbptFCsQMtvsgxo+2wee1+V6j3lP4PAZxD6fwT7/x6+UuzzA9fmGjluH7bVq8Ksf+cYUzwdJzZsuyfsZSAiSIwhxd1m/bpXlV51r2UL+vDTjCI786/jeqR2vs1IpBuuZf+VAJqwS21UO/Dy1hFUDz4afosXaWxqE6Z88010ADmLI4Ok5PQKRkhkLJZpY9l2IsZpcMidEgwqzBda6nfBB0Od7eyiOOZbiApLIfdbbUqz2ifg54dKL3gdq6r/aOwZx+GcSnGru6cdg4wC/DUh/eqrvPu3AtzlzbLJIYR6SZCt4Lrq7BsW37cb7hbxCfc/jfB9dLcLJJL/gInLZ+mUkANVsRKMfZCq4ETqtOEls+ALd4OrYv3cOG5WCWaZLiuaa33/nZXT3jir9upQefElh+lw06zxcfO660cylOLxo0RzRb5Mgok8HIQjg6Yr/ltXFqzwGOii9gIpAh2jLUAmaKLmiqU/3ItOVkkaqN6jyW0MeMfbrYN4A7tnv8ENRN58YA4SAJVM9uvWP9cSqRIo2Zkix1qVdQVJaMSVGy4XYcq5+4agXBKpAVBEuzXtTz0giny0YLmNkpLnEomWWXeGTrONtwWeBn9LMEt7vJLK740mab7BCnBczR/h4KriZo3oYUOip1PNZxJAqYDNASniU9Sz9eNHCMQY5BsyzWEp5ZCYda4GScDJZTnYvq3fB3jjI5Bl1TcGu/ABeHeK/utsowRsuxjFR5wbMkawySG+Zj19ZuQzyMcAxngiLHakZihmLZ3WyzxJbDLWASbeGSo7WcZ6WgBOpYjH2/6x423A2c8rV946EXuXBptWAcB/lQevdOigkJW2yiwx4fGq46aDbYR9lVMoIYW4JEyz0MstfXGeUI9ch2epFIJmt5loHmXDlq5U6Ffo2DZw6Uz2kce+014Ry9xTOjEuxkpgyUMXK29nOuI1wjQEqAJD+W8vAqeBaA1XlO305FY+EhczoHu7rtfm1bnsUhB2uGKYBa3nMcr5Uv+cGdBJZd4pXDxTEej0Xjakk8dj73wT0T9oe3AqekaOQx3dA5LvlbS7S9pc62s8dTeOmaJTmdy+fVzzRH7FOQGzWL5FRJa+wy2fEV9pFEIjgyRgQySDNMBjnOapYgZC4Ryu2Th4AlB27AAaMq4DHS0SBH3cRpMxOcxmtZrTqW4vQY1M8SobHfjw3d23iftu5d0GSHLekRAdRn50qC8IMnKz0cK5skAig5dgVoxFLcd3/jfT4tiE+JK96sEOARt+yzcQ70jSs2iDv2KAkaE9lzsKQtj3zW/9vwoILmLhBELAsIkt7G85xEJutVdi8aeH4iqAIlZ5Qtz3orzyxzXGs/xrlScANln4yD6C5UvpnU3OuuAaO+xvseZQ4qiwNbhigQ5jBHxGecWr5jmN/93d89vTxiFSEDncvnHBx7LyOn5DGhexyl492ve2ejxMwkbtklx+t81zXLxCP75GR7p6Gkdkkuj0X9dF/d49MC9xtvgmXSDBNGe8QlP4tDy+te6LS6xyaduySPI+Jx3B7Cg2fcDcpam10KmIKn55oMdMxiI1LmwxAt4fVdUM82GeYxSz+7SrbdlblooCUNvocI900v6SY9zNFHerDFBQfaCzyuH/VSWZwKqJysBMhr7X4Qww8jCLi7wfYQ6u++vt52fA66tr4/JrgvXI+JQXrqXDMSNmnLZq0K7Y6ROOdoC5iW9CS146rBMRjr34dD5/ah+o697jGg+8Yb3ypg4lbQxD/kw4gAGYcel0iGcOncNdlC/ZnTr6OD5jUNlshjgJZira0TAZRBtmSgXArhQGWsnCkySRktY+WAj0U6GfXSvnaPGRyVP+aaxwj6Y4Tjks+ok3SEU5wJrAw0XuMU38qcgpHPc7BUPYegjeS+oK24sW1/lH3Hc7A52bgkkiOzExy2woBbPAqYyiyNU+rsXp4muF+cCZZ8a88xfU4fdJlN5mtNRhJc8rNr8Hgq6svcPh0dNKv40oMmAmU5lmTNLP2GpS/aesEgo4xIBtfaet/54liR61zO9Rgyq7trxmura2596ZOEuddeE/TZvTcjSObqwv1zsozScp5ldvwyUFxVD9EGA+RkLf8Ikjh2Ll7ntDkXY9tz0L0UNNbEsX07B41T9yUAWq4rEI4B0rHOc5aCII6MB/ZmxjGOE/scq1mJlYIem5yru6X0EpcJ3Ie+rwHuF5dWCUxK+jeavplA8EQfuG2G6REJP4t7trrEs8yl0XgNd3F60vJsg/CSA6YbRSbn6m1Z/5AQkZxsAxsQhUgkeovLFpFlPwXNY5AOMvrdzx2bg311PVSM93LKfeCVgcpgiQCort3B7VgGSmS1uBREHS9onqrLU68L6UA/Cg7n1nlpxEE8dD+2473t3mcJD+DHZ9xC/NqySUGTjXqZS9Acrz0Fu+PmVOiDftbXx8DnsbC83i91Wc3jZ/HI15Y0CYx49PzSc0wJLS7ZQHq7JsSr7Rw+TwqalwYDQJDsxowkIr3GHpHOASUgKucq62lW4nPZz1JO7ZzrR9LO7cdDBW4ZHv4Kmh3D+Qg6wmvL7S39ZJzn6nApR0uOMcprBF0kuIgP0vFdjGXb7xqC4/RBP3izUiCRbXaC0yW4XAL1wfah83kscMcWR1/rsZjl2cZA4E/5Vs8vCR7x+lh09uCCJvIYG7IESEt3vpeZmGVaslUuQ+RYLRXIXr1V6Y1ZP5XnmKwXyUsY5tNiQHchJ8qY8HAMMs5eFrGKIAnCKaluwJmAycH6QQMGmpPFfUZ6KkZHcArGtu0/xPGRvvGCz1YA2F/ic45TuaSyElvl2vb9aRzTCZ5whrsSILaKTwG0VYNT+Bw5PJdPqP2HyuexiFO8CZYeg/mtYKt6lmh7mQviEodWC/haPFot4GPT2UPX22pBk7KXGKS7QJCgiUABsrfwGGEBkwEzQkQxOFkOp+ptSm/JEkHTM5OM8Rjsu7clB8JDHVTphf5btuE4j4F7x4lr8elNaE4Wr/GkDePAVtLT6gE+4zQdztWl+nL8+myMdT/nQPvH9uXakB7SUbz67J7YWvZWwuJ4euRwvdXu17m8d9APjzinruppJciynuW8XgZSp/PH6G/kTp/jdgkc04+HjDjHkwTHkqyA2f+fsk/cAp2wO/bo0ZeVPMGzJXYJ0bF+9lrxIGeajBGJlgoESwHUPgKdhwhkiAhsqYAwSttTn5c8LUZzCjK0eDrWWaVbzhTHEiKJkc/7gD9JUU4W38dyutu/pZzriIc6ZugCh2aJOCD2x4CI63i3bd95ZfHIwfZLXfYlVY0PYK+4I5xt22tanh2hP8ljxci9pJWPlfyQXs7DsXICoqSp5fWRR37Y5OWx6OtBBc2MEYmcqXV1RuiNWSQiEBgZIxQYfTfIMoG3ZfvZPA+nLR8IpuOs5Bg0AB7LQDgXuBm3OGBwOcW5wK9rJEN9GR7XDNTx6qdz3GWovmuLX/uOHZvVKq/PYNv+0wy6FtgERoEOFwQvnKhg6E113ChDlBdYne+rYGYofmjEX0f5Z39Jbs/DoASXTUp8OFszzmaap/A52qVrj71+w9/YIi7xnT1a+SECJ7vEoXHCXrxPIGDije+VyPKxPdN8LH5y1aBJmRSfnIPqQiLDtUTQ/2QyQMYKyJPVyHCsp3t13TNMP/psSZZh5liv1TG6V/LQkKOiV/rlDIEDxducABrPrmGkkqEcrGQpvWiHkTJOSRAnm6PV/rEGOtabhCW4eEh86iuuJKF0bynV/yX6EwQi+Hm25U11zlTy2tuUOBNgHVNWkPysz/qs6RmY/14UMAu62qFnKz447G/57Dc7OcVGb9O148bWQ+LiUqAjNicpij9bPPO/bHH06ZIS9k6sDvC/giVu+dt8wWPA6jPNpQcoY0YY8jyIZryMNYeKPA6bQ0VYrz17nmnW2avPyh3rWO8D7uEhGnW6LOBwdulZQoMfgfMuuHflzV6aZbrOMUZa/fFsVpJx2i+jJcdgLN/1JD6W4OSh8Nr9ZmsFTjMMzyWt7ow/ti4IEjNPvDnOPlsF8vzLta5RV3xqA4+crITHapCVIIlPAdP5Y3EX993fhv1IP3iSFEmO+l5mCU+rPoS+cZXNs0t2iFdiv+XZx4DVgmZOJ5yrsAY5spDWiwWf/umfPmW1HKwySEMSRypACphmm36P1M+rCZ5IvdagGRqQDw10Srekr/MIdhwph3nonpxT1gzHjIST7SUgBlzQVDcDLaMVMDldS0O4P9bR3jZOq6d+LcHHQ+DUvQpqeBAIOUoOs7/bI5yoGaUyOCLNIq0OmFUqbyXoS77kS6bZadfgs6BJ3zj0Ihc7HVeD5s401XNIr9po3Cjn/pbi87EhXdJPM01c+rNwglu+Fn98sXLQRAVvtmyTPVqeZZ84fiyYFTRT5K7MQQOWnIsIEhgZkzr1I4PIkfYsc/zlH6Qhc44RXhpL6evScA9xggOJzNz7GmeNrSTguEBmLDhXVtu5U/gdx/I4vsfjS0B/597/fYM+OUFBkGPkIAW7F77whTfPfe5zb5797GdPb05KVJ3/7M/+7JsXvOAFN1/91V89BVGPSl7ykpfcfPmXf/nNS1/60mk5r3cNBEn8cbQ4yqmySYHSo5Mf+ZEfmQKnY+x7jp5u42jkb1fgWjm4BqSbUWd4s4Jg1tkMExrPOGXb/C4O+7oQjk9dYr9mnDXTTHm3IaVGxBJQFxIYVpKzJJ6FtCwrYCJPxsO5VvaasaSuLonuI24YDw7mwDXGVo68jNaxxlPimPO41U7tnoPqDn0+t+677OWSSI+CJufYSo4ZotWcnmFa1TH78NkMRBlLr170sRwr2AqWjivXct44syxoslNfEeJkewmo1YI5uh7L7Jb3OQnjsd1zG/4G+8Yo7oix0fn0l9/FJ+5wanYp+XEsn/uYdD0raJ5zw2soS50Mj7QswCkThDFAs0z/FG551jJtGc+1B024Zud6DPBEMqw5uleGmJlYHuJw1UEnjHYs47hlW1lwSZF2joV6Qn1Oaos8VtBtCQq9+2qIoCf4PetZz5pmmZ5LehnIcWKm6WU8wbKlO+cd64Uhy7ECp+U8dQOdcqitBnnr2dvtgie7dZzjVW4O4mnE+Nn+OF6eBj7PhfEw6lDAHPmjO3bG3vK//C7uTFaIfbPP7P4x6fsZf62EO0fnNTjxjNpSnWz3xS9+8WS8DJXj5FBtPRNhiD/0Qz80Bc5eebbcN+NWrw5r9fkaA7M+4dCzz3/0j/7RtCxoCZDj5cydG8HZvvWtb53kv/yX/zIZcAa9BNLREhyMjmgNTs/h07X0y4YkIJZZBT9Ls7384Zkl56nv9EzH9okZBbieI7WV7LBZ53HSSoNZ5Pd///dPq0DEcp7Etq+GVbd6lsaooyU5WLKuEedweiq0iTdixcHqgXEgkbL60NeFJEJxKmg2QeFzcSpomqx4sQv/a+loLRzq71nLs5cAY2J4DM4v+7zjHe+Y5Hu+53tu3va2t00v+/S9TBmr5VrEPjTSnlZktBy0bcc6HspejYccLI6X4nm3vccO90vngqeA1w9L9DxSwkoftoJiSapzOVFbIvA6p6x68WTpzgykpDbpxR/JbQFT+SURl/psf8PdYEfsymQDPwIiv8rn+g9iz6B9lY/wvZ5Nt2IgWPK9LbM/Nt/7oGaa+sEYGaVX2m2Jc2UzgqSZJdJ6qWANQ9yFvq0xONYacNfoPPSJE+asv/Zrv3Z6ueSZz3zmNNPEc0u1+ORgGelb3vKWSf77f//vU+aL53O51g9jShAp4VqShzU4PYdP90q3dGxG+bKXvWxafvVCT2+7CqIFnVG/6cZx0r1VriTXDIRD5XS/67u+a3LEZiFeEGOzypixLG2n9QuXlvu1tYQ/UCd0/2ugNu4bxgMYD2aWZpglUWafJVH4o8+eZ/K3hP9lN6SE9qHhEKcPJmiCfiArA2ifAbSkM27JWgP6vvDYDPIQ9IljZqD/7J/9s5vnPOc5k5Qgcd64FhwZqizXMrzVBUGT4437c5DT0B/tLc3BGpyew6dr6ZdNmTF+0Rd90fQM0/NMjtI5W/am73TsGkJXHCWwRej+nPdyjxd9BEdbiY6vf1m+M7ssULpmLb2MfdX3pdtZo9+gz5eCtvHNHgVKY8AqgqV6YINmlAXNVgmyv7X4vC8c6vuDCppg4BMGalvfIiyyzs0krwUz6DkJ18Rp0CdGykA90zTL5Lg9T2GwgmlB07LR29/+9ilgCpz/43/8j8kBGwfnBk39SD9rjKM1OD2HT9dKSKzi0DGd928W9N4LWc6B5IRDpRs6H+2u446xUbMOzlXQNDPx2MRSnuOtBK2J9NK2fi6JNfiEczhdAvwrPtljy/YE8IY/Y2Gcva+h30vg0D08uKAJoyEQ5LqNnOVjIC2sdS/XxinoU0HzFa94xZOfYePALRPKcnHMUQuaZiz/f3v34StPdpZre5ucc8452oCNA04DYyOPkBFCWEL8kQiwQAw24wHGM2NjMNjGYHLOOWf4vnMV3HOW++xQ3V3V3Xv/6pGWqrrCCu/zprWquttLJR/84AevnnzyySnbzXCXgP6sIf816jyGT/ZD7gqn2I8QWJYTMAU/9XsBz9ZSnACLBzNG9+DFjMP1OOBM3ce5uk7AbPnOPS3HPgRbfag2qn1BUymApguAZzYXj5WHgNvGcS+D5qOEtZTwUjnluDnexx9/fHqu5kvygma/OEMeMltB05fivQT2gQ984IWguZa8lsQafTyWz+4vgHKOeOiFHscFR1sQ9HKYAmPJynWzDfvjTOQhJLfkUP+Naw1cio2O/djtExncZx5vwm1jenReD9xwL0BZOSGB0bKe/0G1pGd5T6A0U7E1q3GNwoHfB3A4l+IId5HzayZPrmRtVtmLdZ5BKvYVx53vJZCRn7HgSp2CrABbW0vilHKtrUvmc0nEl8I2x7I0j/cBW9DccFFghBw3RyxYerXdm5e+rsBJc9rO5aArcMlO7L45VzwIcEozyookpe/ojUGQE+3eU+JcstVuM+8Njw42xjdcFDheztjXE3xhWtAUPPvuFxRYc+r2W0K81OBUYDl1QDkE+ogHshUgm81LWLwNq0hUHC9w4uCcM49TthuPxmvcGx4tbEFzw0UiR80pm2HmrAXOZpqW/ZpxNsvZsCwKEGOgKDgqGzY8atiC5oaLRAHTLEag7CsLtj1XEzB7rnbOWc6G9TBn5eAcvJc0bDr36GELmhsuCpyQAOiZmcDol2MEUAHTz65ZprWvCJhmm67dHNjDxMbphkvDrKB5315i2HB/MeqaZ5SKl08swZph9nNsnnP6PUxLtoImbHq6YcOGtTE7aG4O6fRYU+aXyGd9St8ETN8XFDTNKC3D9o8YgqYAOgZNuMRxnQKP6rjPjTXlvnF6mZj14wYbNmzYsGHDhu2Z5oYNGzZs2DAbW9DcsGHDhg0bZmILmhs2bNiwYcNMbEFzw4YNGzZsmIktaG7YsGHDhg0zsQXNDRs2bNiwYSa2oLlhw4YNGzbMxBY0N2zYsGHDhpnYguaGDRs2bNgwE1vQ3LBhw4YNG2ZiC5obNmzYsGHDTGxBc8OGDRs2bJiJLWhu2LBhw4YNM7EFzQ0bNmzYsGEmtqC5YcOGDRs2zMQWNDds2LBhw4aZ2ILmhg0bNmzYMBNb0NywYcOGDRtm4kX/3//B/+7fiI/8yI+8ctmMS1/Ai170ov/d+3B8xEd8xHRO+diP/djp83/9139Ndf/3f//31X/8x3/875X/g9q0dc9uH/bp0zlxnTzm9H2t8R3C6bmR3oz7dMYY7O+O5ZRjq19z2lyjXx/1UR811Xtd3aeUwylxHefHIh6vw3VtpYNrgH9Mv6G+dewcvK4h87VxHad3jeG287NmmocQdNP1BiBQfvRHf/TVx3/8x0/lYz7mYyYnvju43Tru+nzJuLS+a/8+ye86jP2/NPmeGud0pOfCKcd6U1tr9qHJhDJONq4LAqfCKWW+FJbu8+yguRTGoPlxH/dxU7HvmBLGNnfb93lpQZwC9fsS+n4f5beLS5HliHM5tEuUxUPAOQOURKhZbMHynP15SDhGjid9pllHGTdlkEn953/+5wtbpfNhd39zDI820oFdXbjp+Kkwtnlux3ZuWdxn7MqrQFU5JeKPr8w/Khun+yNZwrE8znqmuYSyVEczSs9gzDCBIniWOWZW4VFXkLXGf2oHcCkYx72GbNV/V71rtbthWczVlVPY6C6/a7X5KCBZHsrpyYJmEDDV5xmmAKn5CszoziOFteSxJKf3CT0CGHXu1Fij3UeVz3NhlPduor8Uxjbsb77xdLhN1iddnoWclSXZZpYdu62jGzYci5zQ7nbD/QUOT83jpjfr4hyc7oOTzzTDWOcWLG/GWrJ5VA2/cZ9T59Zo+1Hl81wY5X2KmeaG9TH6htts9OQzzVDH1nAgGzbchHPp3OYAN2x4GDhb0Nyw4VHDFjgfHrak/2FhDp9b0FwAnOHmEB8W1uB0c7APB+dasdjwf7G0jc7l82zPNB8KIk7ppaaOh2OM65h7b8O5OdV+Xz/qs7Hadg4cS65jnzu+u78E6gOoW1kSS9cHo2zuK4xhDdmsjbX6fCin91WO+yDZNNalx3tbfVvQ3AO7cvB5LP3s1XgORue+Lw65Zw7q2ymRTHzdyO9qftInfdLVJ3zCJ7wQPMnJ93f9SpRz4Pu7f/M3fzPtd6/rfLf37//+76d95R//8R9feCP7GJnVRhg5XQprcLo2n/ip38f2f7ev42d1ryGfNbFWf9fmtPrvm7xhtNFjbf463FbfFjRngtMY5WB/PEaMOVjHxmsdhxmi/n9wyD1zMPbvVCAvyu63hj/xEz/x6rM+67OuvviLv3gKnAKlY37wwnnHbAXRv/7rv34hOAqW//qv/3r1z//8z1d/+7d/e/UP//APV3/3d3939Xu/93tX//7v/z6dd92hiLvkc2qDPBRr81n9x/b9rn6upe9r4iHZ6H0B2Yw6uTQHt9V374KmvujyKLBT4LqgKQB0jHMtOMLYv2Mc71rjG8dyCiQvgVCA/JRP+ZSrz/u8z7t68YtffPVpn/ZpV5/6qZ86FefNQhU/5i94Co4Fw3/5l3+ZZpWC5V/8xV9c/fmf//lUfvmXf3kKpAJnycuhssN1OKaem7AGp6fm81Dc1M81ZHIqrNX3S+d07N91fd2Vy5Jyqj3bY5Lkm3BbXy86aI6CGUvHdF1ZYwntJtT+Pjimb2uN65BxHApBSBEIBUgzys/4jM+4+tIv/dKrV7ziFVef//mff/UFX/AFUyC1LCt4QsFToAyCpSKQ/sZv/MY0w/z93//9q1/8xV+cjgmorhdk6cUpdWMu1ujPKfnc8OF4CDY6F/pUkQQ3mRiXSx3L/pwjH8WxZLWUzKp/CYx13VbnxQZNbRI+MhTLdByq48iwjPdv//ZvL8wuZBvHzOiWxK68junTWuM5BadxiCszRoHyK7/yK6dgaf+zP/uzr77hG77hhWApmDbTdI+C92aZZOEZZ8uzf/Znf3b1x3/8x1d/9Ed/dPWrv/qr08zT88+//Mu/nLYCqOsuLXCu0ZdT8HlpMOZx3GvMOObgPtvoPtCf/pWKjUpu2a3iuGPsl32yv9454J8d8xiFLY/2fClIl+rTbbp0kUGzAQiWOU+EcLSOcYKACI7xn/7pn14g4hLJOKY/a43lFJwKmL3Y8+mf/unTcuw3fdM3Xb3kJS+5+szP/Mxp1vklX/IlH2aIJUr2bX0mg5FbgVNpiVb57d/+7as/+ZM/mZZqf/M3f/PqT//0T6eZJ8OlL5ekF2v049Q2ek40VttKOnIOjtdq85I41Rf2KPmV3CrsmR1Lfj1Kccx5NtdjE0mrwk9LZvns3j0gt3PwdR3SI0iXbsLFBU1OEhAka+FMEcLpfu7nfu5ECidrdoEAhYPsWRZn2pAuhZBjsNYYTsFpwU+y80Vf9EXTDPNVr3rV1Xd8x3dMhmaGieOCI+7Avv7ZFjSD/fpOsd2Dewb6W7/1W1PA/PEf//FpBvpXf/VXU8brmgInnFsv1mj/lDZ6DozjSz9AUmYftyXOcEqO12rrEjitD/ljNtsLfF/4hV842fTXfM3XTDw4p7A59vcHf/AHV+973/te8NM+t/pjokNulXOiMbbVn3sRNJEiQJrq237yJ3/yRIrPAqWlAM+9XMcBem5leda2TAYRzUAURJXpuJYgbhPGJWIthVqbU/VLbvCIN8alfOu3fuvVq1/96ikJaknHtQpucMv5Net0nAwq+K9+n0uULP0wVIWheuOWDtiaidIP9bqOXrh/fPaZbtTOUtDOiKXrD7vt3Dfo/1g46Gy/rWNmM/SCk/bZtZImz7UlTnwAW6cT8bk21mrD2M4JcuaLyTkf/GVf9mVXn/M5nzP5ZoUdS4Dxkj2zL7NKj08+9KEPTfWw2/GdAzyxRb4ZT+zUOdwpbPIU3CXj9C771KebcBFBU/2MwIzSrES2YvvlX/7l0xIAx4swZLmWQXB2tgzGlsBziGYYDMgWUTKflnBPRcZSWKuva3KqboUh4fGrvuqrJi7NNi3NCpz4ZIw5PsBNQbCgqeT8bBlx9Y/3MD6GinMO1BKRY7j/wz/8wxd0YAyggmoO1mf1qwuWknv9DOpdg9Pddu4b9D++OVhO2oyG/pjV8An0KefMX9AR4IQ/+MEPXv3ar/3apAO45wfidG3cRxudg2Sc/xUcv/Ebv3F6cY8t88dxorBN3JE7DticxyZsXD18NRtsIsMW+WfHJLsCZ5/Z5Fq2MiIZ2yray9/chLMHzeomVIYhk1Esxdq+7GUvm4zH86/RkXJ27rWPAIQ45rlWSwMf+MAHpq1jCHQNQpX7grWUZi1O1VvxvMMs85WvfOW0hFOGap8RSpLqh3Hip8CFV0ar4KtglmE6D+5zj2s4SjpgP+MsaEqivGnLUCVXPfN0j2trg7FW75Iwzupcg9PkeB+RvuC0mY0ZjESLD3j88ccn3eEf8hMCp+vdh7/3vOc9V29729uufv3Xf31KmnDbjGVtrMEnnJNTbePBLN/Ehfy/4iu+YlolsmJkn20WENkgu1TssyO2JTF1HV4lQhLW/DUbNBvlp9moz7/7u7872adECHdryfY6GPMcGz1r0EzIhCqbkcl8/dd//QtfQ5DNyDLHTEZfFMQEDi9ny0m2JPfzP//z07NPxCAPYQzMtiBrP3LWMrAc/AjtzRD9rGsOwSk4ZWg4/LZv+7ar17zmNRO/Zg4SIoampKj4Y2TxYp/c1IU717i2r6wIuNoA53BHD7rOZ4aLXzqheOZZdttLCoyTvsiM7btecW/Z7tJYo861+Fwa+olTtqzQAc5UEHRcQJRQ0ZGem5ndtAKFe44a99ktvt773vdeveMd75hmm8048VkStCbW4BPOxWnJCJ8sYEpy40PQlAg7jq+uze58xstYCpoKPtgpO2dzbNEqgWDJV+Mxf+2afPupcRun/683PyFyrgwGQQwDGT3/Ejgd5yATujKSYJ/hqaN1d84awZYFv+7rvm4KxIiXHclcOXIO3LXuVY++LK2k6qsUAEZFu0+Y29/GOXKi4NbME5/Jm2IqZaYFLcYk2xTMBDcrBTJRMwjHWlYdDVM96kwf6IwsuWUlhu5NXTrw1V/91ZM+0AulpWP6ZlVDf/Ux7jYsg+SZfuCHMxYY2Tte2KuvIVnGxxE7ligVMHf9wchPsx5bbWzc7Q8yY8MKW2ILOGIbfHM2TMYlL6M/Y8sFHBx0Ha5G28Sl1YR8Ndtkg7iO30vlcJWZpuvvqtY1CClgMhrCs5T32GOPTeQQHiETXqW+qL+CtI41O+BIzS44X9mMTKbPstCWbW1bLjC7GUk/BvXTNsXSf3Vro+XAu9paoi/Xof7dhN3z+j6nv/jE2cjpy1/+8qs3velNk4E4p8RZshAEWzJVtOcYbnwWKO1/y7d8y+RkGTCjS57qS8bqd1xRt0Iv1GGLa3rguJUHLytY0qcfgvSv/MqvTMHZNdWjLIUl6wp38XkJ0EeF3XOObFyAtPWZY7ZVcIxLttPKAl7t41vBo0QLb1aV/MCFxMpzNHbd6sHaWINPOAen2iRzsscDG/7u7/7uabJh3/es8YeLfAI7cl+2PNqj420FwmTVvewRf3wx7n74h394skcrQvGnzlPjNk7PsjxbfWWPnKksEyG+jvDSl750croJHhK+7ioEqdhHsvMVcBwhOclmL4pnWxmWn18zu0GOoMlRu6d2FORWJ6QEiO+YbccVwcN5xyhZ47AtEGiTglXHdbjt3DFITtdhlGHj6fNd/TFWMwgOEKcMzXL7a1/72skIyQRf6sEfeQtc+PF1EXLBUU4RJ5Ic17nejJGemB3KgEH/tDs61vpZn9WHxwI/jh1TPz2wNCRoW9r7pV/6pWmJSKnddGIJLFXPiNv4PAfSG/qOc7MN+7inG7gzs5AESX7ohs/jjBLISj3qUDjeHDX7oTde/hI08WZFgn3jU5KE37WxBp9wCKfdk9zan4u4Imd+2Yz/e77neyY7jp/Osw0cNOnIvthK3APOFRx3L44hO2dr7PAHf/AHp2ec+GvVyflT4zaZnTxoVpctISIBGZZlLKdyrogi1Ova1V3EIIswFUREjP2AtJFIJDAks4rf+Z3fmUiyns5Rc9zIV3KUSvcmJlvt5ABs9VOhDD4rKRcnLoA6X99lVvrQbMfx6t/FTcePxXWyDZ3TdmPr80396RqcWorF5dd+7ddOM00/aOCFrhwh+Rg3h4YPcpBZClgcoFkekBV+HcOBz+ruBRF1B+1yvuRuC/V/RGNQMlht48NWElXQzHDr53jvMTj2/uuwO85zor7kgNmAZXL7bAF/kh/8WR53rkRL8tNqBX5KdoDeqDPb7P0E+iJo9kKJoCkBirtjMMr1Jt7W4BMO4dQ93dc2+c0Bnyb5xAE+JDXf+73fO3FldYePw4HrelOZPxuTy4JmxT24Z5d4xrFHJvgMbA93b33rW6evjLE99fLN6j41buP0LEGzIpOxNGNG4mG/dW0/4G3JhnB3oauIIUSG0uwxIgRa+8iIrO6DSBVwOUmG5W07S3LqQRLn6HxBtGyK8UL1aoNhUzAK1AyHQillZRwCZPzaYNSCtSUJTlu/bqJhBj0HwTjCuA991mf7fa4vu31K3iAjxaMfMfBMCsfNDsmqe8lUMCQD8rd8rrRkjk8gM86PjOyro2cs9IT8cEre2rasxynXn91tqB/qxHkGqg8CJ91gxPpG1+znxPXlGKzB6e74zgl9UThK9ijR8SyZLUhu2Dqe6IVzHLSCc7qksKlshg0mM7YX53TIObb7C7/wC1OxxOeFL7qV/R6KxgHav4m3NfiEQzjNFhV+SN/Iam4f4wxP+OGPv//7v3/adwwn6rL105X8qACHE7KWpODMNQq+CpruFyy9N2CS5JjCd0pS2f4zzzwzLbPzAWyOTZ5itWAXt8nrrEETERygmSWjalYiiOY0QRdzWAyFkZgpcnQcGjIQnVGORthsMAUC9TTrFMAKlhyl7AlRSNTOrhJARo1wbSKdYlCGsjRjkBBQEnVQKoViWLN/7rnnphmNc+cImsYQyCaQDTTeuLft2C7IQh3qNLsULN/4xjdOBscpkpGt8wUc8ifvd7/73RMHlmbNNAtetRfvtUvOZIzb6pac0B9ZMWMke3APLtI37bevdI0+4QYX2tcPzsAPwhfIHeMUOKBjjfg6GR6LxnMJSL64Yo9mKN/1Xd/1wot4kiqrDpJMNoSXCpCP+/FC3hLY7ISdFyzjTvL8cz/3c1fPP//8xBcn7phr8HoMxj7dxNsafMIhnCZHstcvtrOPDNiVRJcvk3x68/0Nb3jD9BlnuMhW+DA2wjaa1Regu0b77NO99IBvUC87xT9bNgMVICU8zz777OQP+F8+XtIq+Tk1buP0/3rOE0OnKMWuseS0Q8cYBxKQw6kSJmfGQAg8oTMaQpepELyg2kwlQXDwnGlZMIVoRsSgFZ+R7FizJ0Vg76F424rsWXFdz23Uw3FQHAqi7dEYbiNnTejDWAQ+hoaLjsGc/hmTe5ttKwWzxq1edTEqDs1MoCy1La4kKvhyjUTGPqPhKBVG6xrJDf4F3pZXcS/4xr/zivPqFhDVqw79SNf0n/PmMPQb53hW6AejxqWx0Jv0dcM80CVyoxdsQeFE6QW9ySYkp3jhcPGOJ4W90wV64Jp4Y9MVvkGQVLL1Y21rtIP7iENkQLf5Ar6xpGaUAX7YIT7wwhYV+xW21mMWdsr+FLbquGtwiecmJNrlP0rAFfv5o0vCRcw0zUhkoT6bqfRMEwqYjIHD4/g4SM8vBE5EcGYEzjAZoS2jFLjM9hTLdxkoMspCEchAGR0CHffZbNB54mHczilQOwUJ9SnjMc6XE9a3ZrIUyJKGtzPNsLyMNCrOdZhBz0HQ33goaNhyUqGssevsX9cfsk7+uMThE088MS3DGb+6yYZsyaFEhxwUfMoqtc0gGVTt1H5gRIq+MmzcKCU/iuenGbx+4cI13YMXOmFLDo2LrukjXeAIBGGZLx2jJz6XrI1Bd19cJ8NjMcroXNjlifzxz8bNNC3RK55j4iOHnOzJlK3bcrjqcJx+ZNfs2D1sBkf4Yl94+tmf/dkpcW5plm2p6xA0lra3cb0GnzDKcw5cX6Hr+lyZA/exD8miGSH/ia9v//Zvn+yFndN/cifj5K2wD/JW2E+yJ5t8g7rNMNXd97YlUCYW/ILA6ru2Hl3xD02K+OO1ZHwTbmvvoKDZ50MG0r0MggGYzREkcny2PMvpMir1KzlbQkQQoXK2CDSb5PyAcqjXvQg26zMbVNTrGGeKwIIgchnqqFjIphSONUb1hoIvo1eXfce61ragBII9hRAkBXtLGj3s1tbYzi5uOn4s9Fn/FGPTX1sKr01lrrEJWGTLCPxEHqN43eteN3FK3upVKD9jwB9HaEYoecChgg9t2t6E+gxkrt7kLzgyQkbPWTNSiZhrcriO6auVAf12fKzTuLWPF0HcM2/c0T199byM7nHK+jpXRiPW4LT+tw1r6c9tSJ50iqw5XMv17Jqte0mMXrBT3JB1hVwVumJLH9knG8cdnco58wk4ws/TTz898UO/Cpjuu02XlsJaMt7lcg6SPejXPn1zHxn3XoAVM0mwr4xZbcGZxLHZJDvm01qeHTnMp2qffdIF/tJ7CJKm7/u+75uCsnrZbD7yySefnOqzUsTWTDQk0qfW49vaO2idaV8yRnSfbc6p7HIUdEgBGJd951yXYRF2ywCCaLPPlmsrPVgelwEZHeMCpDLiZoctzyLWttKSqwDB6bbcVDCmIPqnbsol+AoQnK6+UQzHJQKHynAJaHssuEj+uxzcBcZg/OTA6MhQdlkgBvWTNb5wpeDBZ1yO/N8G/ap/rlcnx8p54lS95N1sFu/tj/rgs/bxlJGrk47pt/4bC67pgEIvjLOE4xKxD29ron7EO52XGJE7x4uXeLLtHBsxc8QNTulFfLDPElZ6pe78gC3nWrDcV4cfCox5LPuCbPkxNlxJ5sk95Csg/0H+2bJjld1z7Gcs+qouXI/1nhJzbfosD2citKWwCqVXCNn5BpHRIJPT4rycQ4DrGaTCaeY4BSmG6RmXmYGZnbeyFEbLcTJYBso4EUopKIi2tCELEhgFSPtlRc1i9KfZjv4aAycsaMuSzFJkTX4a6v3vf/+UlfWQW5sUw33ngrb1gbzJkgzq09x+4YEsyIWsSh7IcDQwdRuzJKLEhvw5u0Padd1okPpP9pyt+jli/OOe3HFOB8z0vYBlHxf0hL6kd2BM+t7s1UyJDrTMSx/nGtg5sI8cl8auXMiUnZMze/DCTkupOPBVETMWj0O8/WoVxrUCKE5KXugWHgqeEjW8t1TI/tlfjlm755LBuXEo/7ij2yWLdD5fJ3iyaysH+T5gJ7iAbNGWPY82XakNyPc4jjdFvemMuk9pZ/oxByd/pjmiWZrlU8surZ9bEuB8a5cQGUKzNoHoJ37iJ6bApACBJ2hwL6LVY4voAh+FsIRnyxA5w5YXM8iyKvUoxDSWlIKSKAxc3zhsfeLAGbSZpa1suIAueBSoq+8m3HbuGDSu0L4xzUHX23oebenTj1Lgzr4lWs8XOTl14oZ8OE1LaZyiQj7NEo4FvvCGwzLj9Iih4ll/6EMv+eijPvtccHRf48MT7vD6Yz/2Y5Oj/+mf/unpGN6NbV+O1uB05COspTtzoB/4KAklWxw4RuaOK+wf9NU58lf4BNflI9gnXtkxXWJfAm1LeXgRfPmIeKnepTHKGObazL7YbWcu3HfIuPHjcYbfl/VegH2PMdhyM052QMYSm6eeempKSMdlVInLKH/Aa7rgq2iWe9/ylrdMPOPVccmuRJpfN8EwqeEv+Ex8rw0yG+V2G6dnmWkGHRMQCbqZDgfqGDQAgyF0wQx5BG3LiApyCHdddRbIykTNaswskCzjNfNAvHOWCMcgVpvBMfWqU19dy2jdqzRzYrzaULct4r3g0qzWNdrSL3Wpt/bOgbH9Q/qSopWBCkKSEtmpY4IPuVF6pZk4TmzJgczj+1jov7q0pW66RN7as6IQT4wRJ1YhFME7/t2fHEa9E3xz+gXVUUcuAbv9WbJ/+443faLn+DATZCuSJPLOFsmfvbAP/EhG6Az9YdslvAIv50r+zo8rC+rE8y5/bR81HDrukeNkT+YK3af3eHGcPeAEH9C9d+mIvuEvHulHvp9/YLO2Pjvumpswp719MFdvzh40E1rOjmElLJ1vAIRT0Mwx9+IHApGJ2EhRH8c5GhbDLGjaMlxLpRxqMwf3a6u2qytSmy0KuAIig1csK3kzVrGvfue1oXAU2toNmpeAxrpPf1JYBQdmBZ73yh4FTzw5h0uGoJAxLlpKXyNo4qsArc3assVZiY3suO+Y4Urf4lk9jY1O0Tv6Zl/JWTh/KbikvoTsGxc9p1TYAh4UQdNWwHSN61sNECwlY9l3yQqdkuTwFRIgRb3acX++Y8P+yH4KlFCi6LNgio8mLvld55UxiI7wWcGP+vHD1gqS/DTfmJ8oidWf61D91Xss9tGXswbNBFhgswXCctz5BkMwiESWlzK8hWUJwZdvvaDjOOcWcaMw1aFwijnxgiiD40wFws5HVp+R6DoGbhnIa9GWEd7+9rdPPzD8Qz/0Q9Nnb+95XlYwVT+HrT311JeHAHImb3IXLFvGscwpcDpnrORo7DlJHAuWBbVTySP+41XbDDNH2yy0QJ7u0SVOwXhazrWVsHEaOZZLAH3PwWUDS+PYOtOJeKjP5FjSZSnX8qzPkpVRzmxRAsR+2Zpfb5IA4RJna2MNmV4KcEL3ydJSt8mFQEbm2QnOcEgOkpseexU8cbmLdNL1OPVmrkSbTalTEsVnSl5bcZBA6c9tSHdsryv7wriUu3ARM02OSuFQZY851gJnwstRy3T6EYF+SKDZjXPjkm0l4hSCoRy14bPzEe5zAdN5iiOocqotK1EoL5konq0wXsRTgGZTlM396krZqv8+g0KSKRkzFkbD0eGA/MdlG/wJUDglx4yQ7MkXt2vLQ/1jwQUnwDnol60+Kvo1cmWs6Y7xKsZnK4k71EDXRH2/JCT79vE+2jWZCpitInGq7NlxugauZ7dsi2PNuZaY4m0f7MtbXOcrLo33Y0G+bJKNkik/Rsa7fti46b6AWcnv4su5fG1203KvfcfUgS9145B/lQjl+/E82uGaiNfKXThr0CQUwqHwZZCCjsBpnzNDYsYQAQgys+k7mIrAyeAyOtdw6EiMSPc6RuGRkSI4h1TGSWjOabfAqj8t7ZltCpiWYT2wlpEpgmZLTcindPof+dpRTqEEa4OMMgRybmm2jJM8k7HxtzyqMBBbfJPxaIxrQT+Su7a0idf6ZeuzQKpf6VswXuOhH+lROuX4pWAcZ9s5TuDUqG9gnwzpkhdPvJxHj5rJkzG7B7zhiCNnZx53cOz442ydXxv6WjCwf4nyPRS4YJP5XlsrbGwjOzXe/CWeJMr5XYmOAMo22IjrutaKFE59Zl+KgKmd/Kvis+N3+YZRh46B8VTiU7kNZ317NgUkYE6XwVji84ZV340zk2Q8nLGuErYtATMghQHlAGUsHDNjEryaPbhOPUjVrpkqIxVwBWDtW1oswOVU1WUm6cURdds6xrnmbJGrJMoZIp2NJesaQQbVPe7f1Z5rcYErRuJN2f4w+PHHH5+MB5+uYwwcHPl549RM3TEJByfHOM4FOk339NcPMVjqpweWjmwlXnSFPDLwH/mRH5mW59/5zne+MGOmc3RgH572uXYuyBsalzbose0S7Y06EvrcuX3b0U82XgLsLWxffPcjCB6/qDffI0CyP4kq/bHik12yw8Z6He7yX3P6rQ79KXGyLbFW1sBd/V4a2qP3/KDSjxv4az8rSWxFUEteJg/5XatvbJ2N881sw7X8ohUEibX7/bCFevGLU/d4r8DjLPsKH3GXTdEd/VVcV8kO7N+mEyFeFXW6h73r9004a5psQDpI+ThRgU5mMz4TFPQKSmBgiswFCZw3R8fYfOXBj3b79R+kMESBEeGUwfX2Xe/rLc7beibaGjuDgIIiAimE5yaKPjFe5wRifS+QV45FyqCsibGd3fZu2gdjlE3KHMlOJgmjLCgfzvAan5Kbnhu67tzIQPDI8dni3TicCyO3jasVBMcuBbscLoXq3a1//Dwe3wf0qGTWrMW2pKs6yZzO9BxTsGSLklfJjPO38VA/D+3jLpaq55JBnnScPYx+DowfP+zfZIMfbfIhIAqSzTptXcf3Sor4YXULmHyp5EcSJPlxrBWDu+yqPsRrpQCorIW9a9axpUAwFL6gKRj1JqpiP9IQ6Hrty/KQ0bKgwCdoCphmDAVO/3aBRI6dQQqYzWZlPM67t6Vdxiogg5kEo5T5tCRrK6gzXtmVgD4GivuI+EzpKmE8H4zVbJMxSEoYB04oOz7Jo+CCV1wyDkFzXO45J4xB0Q880jH9witd0//xuj6De5Td4HoJwFN9XhKjXrTf57D7+S64nh4VNNkmp5odOp/s6RGn2vcx6RR/gbe7xqqe0cEeglGm7Y/H1sShfT4ExkPeCtmayOR/6XwBSZ92g6bJiMLfNjPlo+0r/K171MUP8Ad8vJnmGDTZ1V2Iy0r9Gvu3FvYOmmsoiTrL+DktQpRNEui73vWu6a3Uvrhsyk/ori/zYXjj8zVLCwiybPjKV75y+sEES76vf/3rrx577LEXnp0IpDJdaH29JVjPKH0R36+UFCSbhRQU1pBFSnAqGEPjSPnG9nfPK80yGYKEo98UJVPn1EE+5IUrcsYt+ZLfGnI7Fr38oG8jt8lEUmB1g1NXOHnOviTrUrDL1RJQ56jz121Hmc3BqEvkSKYSYVuftUd36AznalaSU+2Ry1xdGvvXdixzoK90QGk1ap/7j8Ep2gDt8IP8HXlbFRI0yb1l15ZcyYFd87f53JbXfaPhTW960/Tn1X6Y3fKuP29Qb3WZXeJV/exL2yM3d8G1+X/b9LNk1jWrOCgAACVHSURBVHZOPdpmwy2515fbcNbl2RENmDEQJMEKXpZhLI96QYhTa3bn+kChDVwRQDk3RMp+BE9E+iFxjt3M0/ExqyUo0LbZZUqDVO1y/pRJ/yJ2LYxKc4p2xmJsjU8ZMR5zDVlzboImWbe8neIBRSYzzu+2us8JfcGtoG7rc/3MsWdYkjLBspfMGq9rLgHJdhzDUtit65i6k2uyJcdeFrHlwNTPHtk8X8AOFbo01yGOcP0xfe5+Ok1PSp6PqfMS0fgkJ2TPF0soBUvHR3uQ8OCOLQigfAHfyt96Fmq1T7FsK8lmK7hTFx9rEqSNJkH7cNS1Xd/+6GfmoHu0X7kLFxc0OS+CNOOzpGdJVNAUwHoBxzUFMMgAEYlETg2JCLQMK1j27xteAJIRWVYQNBkoJSA8ZGpXRsVAtWkZIWIjBOaScgjUvWb9u0hxlLva7jxZc3AMhawFkzFoVh+eOL99jeIU0Bd9pE/4vS4ZG52EJKHCYdAdxTXnRnJtTMm640tgyfpGuRY02aMtHdJOSawEVgLNHnFFl0aeTgXt0hHB49DgfekwHmPkZ62uCZq2gijZJ3f84Ql3iqVYPtWkRND0TonZpUdljjVBcT9e+VlBs+fS+Ye5cK0y6oF9pXNzUB3GPDcRupigWedTTDNKQrVMa6nUMwwvAfjBbcUMtLe0Ul4lQ+TMOLdeGPJwGqkFS4EViZS/bFZbnpn4EWnLB33vUj8QPbbzKIKhkC3ZkSv55jxSXlufkytjA/eVnFwKGo+AL1tuhtM5+7Zdx7iNrYy5cV/KmPRjtywF3ClkcSzIj6zZHx1qqd/qjxULx8ibs2aDHpN4VMOBc7LZIj+R3t2E+Kv/x4A8tafkXJeU8SXA2NiuCQQfTOdNWry1/Pzzz0+PyvhfSUwrcGRBxnhlR/iUSCuWbU1U+N3kjzs84pePaBK0jzxHPuPkUNTuXE4vJmiOaACMg9NlLIKXZ50CKNIYkWOy0DEL2hVewmWECmIVBpdiVLfSC0jV+VAzyn0xOkuyIOeyM3LC1ZiBV5x3DHJgl4SMhI7kzG318zrOHSuxe1T0gmzIhf3kqI5F8hYgzS5blq2N9ItuNSNhk47H2VzZNxtS9zH6N7a7T/v3CY2LjrNnS7MCpOQl3yiImlRYheObW7odfSUOk7tAKtHGtRUavLsWv9rZ9dlzUD+VY3BIHRcZNKGgKai1RCOo9WMCyGvJRrZS9omADCvkrCsIRZq6ZUvqtgxMKVoKpgiu0Y+7BHuMId4nJD+yIBeFzAuatgUTpWsuOWiC8eTEc64+d65tfR/Hd4jB3ycYM1kIaLbKsRxWZ0GzwFnC4hy5FjSblYxBcw60o6gXr0v0/VEA+ZIzuyV3/lDQtLrXL6LxxSYbnk0KrCXN+GIb6miSIlDi14qOLS5cE5eVfXDofTeheubUd7EzTUJFBENBjKDW26x+uq7/qPRVEMFO4ENejnvXmTEYJFZ81gbiGaXAqy6B2NdMep19rpGq71EAWYyyJcOMRZGEKDggE0aTwyX39s+NHLf+cNoMWrF075yAGOK/fmfwJQ1z9ONUKFAsiTjPbo4Fnei9A2+ye3TSM69kT3/oEdscXxqRzJL5HMQL56/o/9KyeYiIb5MKj62aZQqUHl1Z6RM4+WDFfxTzxT1G4zv5bX4BSo484/QOBO57JILzEqV9Eb9L2d/cei7e00cgQ+KUGY3sR2ATKM04e2HH68wCbUEzIYyGYh9BZUBj9jM6Qluf94F61f+QDdPYcj7kS9Yd99mWHFxThtmyDBkXNEdZVTreuTWx217Pvm31U//BmNJBelHALFi699KgX0uh8TduIBvlkLGTO6fZ96ybZdIPYHecbbPLnnkpbFsf9h2feyoj7w8dxpodjftzEff5RImHRMaSLN9r5uk9E38oLpgqJjY98zSJcZ928eu5tZeC+o68XxOjA/jnj/fpX33bVxdgXzns4l4ETYXCc9DNZmSffS3FbNFLQTKc1tcRvYsUh8Fw3gXNXgIZjUvZB2Pd7T9U5HDwwiigY5S/wFjQzCkWNAu6o8xGR5zsOr80anNs10yHI+fQ638Gmf4Za8FDcXzs70NFPLOpxhxX+4KsyNjLIhzmmLTWDhsvYLZ6pLBr1yhz4dr4UrS/q2cPDcY1lmORDPlf/lVCY4JiBtqqn9mmVUDF4zMTGdy5h6zZfysLvr0w/iMS/9tsc9/+7qMLI46Ry0UHzQRiy2ARYMlAcESYt11lNUiyfCtwmnEiNQPr/hQog0ci4205jlG2pMBw3dP9t6F6a0P9yqWjfrd/F4wvx4MLW8fIMpBpwVHhGAUijjHn6HpBqeDpul4UsJ/xODenX/uicacD+sR5e7uvtzf1o/ZHPaAb9KQZj5KuXAKSV2NcCsmghAFHZITDfdpxLW7pBXlzmmYbHKdjzpnN9EimZdnxsUuBe1/ot/v1IR1cWk6XhN2ZW2NV9vFRI/f0nu/txUkzzOeee+7qmWeeuXrb29529dRTT139zM/8zHTci0L8sXu0xb6tKvi1IAHzDW94w/R1FF8LxL3zTV7m9u1QNKZDcfnefQcNuCDKmBiEz/YZ3a5hXWcYGQ6iFM6Tw7SNuOvu20XXVeAYQk6N+jxnrGBsZEz2FSAHcmumyUAKmpZlfHfLF539PnC/DewnDH2H1i8KWbLhSDlQ17eke2gGehPUU8CUMMl+tYd3x+hC7YLx0i8B01jtq4MT2SdguqeyBqp7lNVSbVU3GC/7MvZ9A1j9K4ki/5zlKG+FrG1d37EloB4cKn1+SCAvZcRNenCIfiS/dEDBFZ9QQinJ6Zlnv+wmAWJD+sa2JUsCJh/A/u37agpbpA+7Y7gk3LugCSNxyII+O5ch3GYQY9DkMHPyGTDS5irV6FBua/OSMI6t/TnjNb6CZYXs3UtuSrNHjlHQNJOTXXoRQPBkJJ5p+J1KWwGT0XhJQNB0T0GzGV/lWKgDt/XPc0xFe/rdDConDsZXkEjHjHtO0Fyq33NRW0u32TiMN1tT5qL7lWTv+bGgWZLiXFC3zzlP7d4l67tQ30df8ZAwyngO5l53E+IkebIHgdFKgeVZK4C9ZWvFgK/WJv7ZeT+9V9C0dMsHj3Z/ibi3M80yHKXZJmEzREFwDHzXCd8513CWZjgyn2Yczs0lLSPUpxxJny8Zu/27SU7XgWzAOHeXtMlU0HENhygQ+v1fv/trK1B6GYCh+F1Kx/xa0zd/8zdPW8fdgwv3j/1aQqbq0j8zzP6SSnuWjQT365Im++5h9J7pcACN+S7n61zlVJjL41zoe3qtZHeO7QP9Iltgd5bDS5JwnZzZcTyMYzlEjvU9nmzxlr4+JCQfHBlffHVsd185FrXJNpples/EDNPzzaeffnp67mlZl82AxJT9WZ594oknrt7ylrdcfed3fue0CiWZ2oLmwiBIxkWwzQ4ZndmCfed3FcPn6+Ba5DBURLrOMZ9Hp3kbUpraGPfvC3bHMAclKwyBjJPlKDP7HJ9lONwISgKVBKX/M2U8jtt3Xde2XJrjrBwC9+FTXekMhy14K7WH9xHJxPgKGrYchPHnmC4BY1/bvySQP/1QSmyzsXjVd47XC0DeS5CQ+Zzs4dLGdWkYuT+1rLSHJ36hrwsp3j/pu/Ve3vSSF7+Bd8lRCaxHNQr/wD57TDP6gEvAvQyaDI9DbfmP0Auao+POgdwG12bQrkWQ4ti+OLWSHgN9rRwCAUPwUHJoOUFoS64tx+Gq2QWDwFmB0jmcKhKYOBjrPATuHTlmhJy2PjBOpbYzzhHkY3zjTKVZluON/VIwcnoot2sgDsiYrCUo+HAMknFBs+9lFjTHcR2C2t/l96EhOZ2D+9rlEwqcZp69OCR4elHT803nXUsf2KPVPoHToxrLtpLoVv7GScwl8HdvgmYCY2hN7wmWkD0ns22JlWMchXubAiFDAEAi4/R5n5lm/Zpz7aUiZb9NTqGxkpngwal5o3l0bmDruoKm2WTZY1uB1LZkhzN1nyVQBqfOMUDN6d91wCXjpBcCpOVYLyNZGn75y18+PVcVuHPiI5c582bU9uvT3P4ks7Uxyv5QWa2FdIFtcar2OUulVR42KFh6Huat+L62QPbkfSi0hX96ONeu7zPOPT6+AWfs1/c5Lc/6i8cf/dEfvXr7298+/YYtntk4W2J7AiU//sY3vvHqzW9+8/TXYt6B4B/wJnjiEH/nxkUEzbucSgZHaITXjMVzqP5gmuPlhMtMduvLkYzOxD5jRHLF52MM9KGDzCg6kFM/RVhxrtmX7W5xv6Bo6c31nnXIPPsxbk5SnRxodY2c7Qt6QB8YXjNahkhv+poJ3RlnmumOtptN12+OwHG4q19jXY8yyIB8caDgQLCUxDTrdA19Mrv0VQV60DKt48fqgJIuHVPXfcA5x6dtcsYZ+8Uh22bjfgzBEq0Zpx9B8NlxduUeumAFyATI2/UCaT/2PurMdcntKXEvZpqE02yBYAVHwi1wEihhtqxHqBnKTch4kBvJtgXOffHQDTEkM3JiFIIfpS+gOD46J/uVDMk9nmsImJ5x9P1aBtSzrN2geYh80wE6wVkLjpaEJVnXJVrpTdB24yxzbjm6/hzSr0cR5Ms+8eClH4XcS1bYN7niPX2iBxKoUd77YuRz4+rDkX0sDXLGGXvHJw5x6Vfc2Dtbt1wrgLJ9QbVklE7w64KloGnJVrFSxVbpUAFzjb7PwUUETUK+TaEJidEJjBydzEMm4m1L/xJOoM4Romuh+m4SbMRyivY5TJ85RyTnHO9C9TxKMGaKbvmM8jMCnzk6RkKGAo3r4sS+c4zEd7j8/JYvQv/UT/3U9MXot771rVfPPvvs9Msifr9SfXg4JIEZoX3GRke8mWtZ9iUveclkkBnhmGx1D+gz/WDwxtozNsf3hXsqa6F+27Z/CdCX7FfSYsYgaeEcBVHnyJ/OCKICqgRKYpUOHCM396rj2HoeGtbWR1A/XvEoSfaD7374wEyT/f/kT/7k9GMIlnC9dYsjdsk+/QDCD/zAD0zFoxQrRGz13Pp90TPNhMOZyUAYXM/GfHVBBtIXYscsRNmdNUBKogiKHCAyra8z0pw9R9mMaS7WVr5LArm0tGqppd//JUeBMzkyAHIcs03X9E8Jlmc8u2IwvSTgvGurQ1uHyBb39IAz5pQ5Yjrjy9S+ZkJn6FSzHCV9C/b1gZ5w4Ppv3C3XXhLnu7p+KUimgqOgSeYCpsBpHzclK+SJ93GW2QzkGFm7v3IsGk/loWCNseAsH6DglZ8VHP05hjdq2X8+gD9wDZ4kT95Z8ZzT19Ekut5F8IilBJfNLoV9OL3YoNkACKYslaMTNBX74xIbo0yQlTAKImfH8SHIjKZXoxlozn4JAzsUjX3s96Ug+QmEAgj5VXomSa5j8mG/61uWZTy2lmyaVeQoRw60dQjSAbojmaI/9MWyvuKzc8n4Onn7zImXIBQwjWlOvw7t+zEYx7E7nnNBP+KBM7T1uYTFebIiV/IumaUzJSiHwr275Vjob/2+FBkfgvrfGHa3SyCZs2X84tWKTbZv5UkQlXRbuuUD2L8+8OtsVbDsbdqSLTpEf5ZAMpg77osOmgxLIShCsyT74he/eNqadXJ8hGcWwRgb+HUKjTSlzIeTRpalAUuM3vJCJFKPddgjxj7MQf3e975jsG9b5MK5kVXOjbLLFP0GsJlnM0ZOjxEIqIKj2STjcF4QImdYQt7JDf8MqueYJVn0xfNvuuOc67pvF/pCD/wwdX9Lp/8SgrlBE1x37LjmYhx/Yzs36g/7JHO2mk5kZ+TpMx1SJF69EHZs0BxxbD2jbjXbuU537gPqt/EYR2NZU2+yBbzjNb9h1YkvbumWH3bOdfqTj7eqaLXIVjBl20vIv3E36bqrzosOmgZRdipweiYlYNp6rsn5EWZZh+vbNnglY4kshVHKdPwHnKDZm1xLLAdBbR+KY9u/C/Vvt8yBvpFR8pRwUHxKLyD2PHK8hnEUOAWiEhTnXHPoeK8bg0IHJFy9MWuWOb405rzrgvZ3i34ZizHJhPWb3hyjH2ObS6OxXyIETDbMZvECBcwK2dKR9IduOH4M1pAJ7vX9GD3YF41jifFUR4Fi12/OCRyHItnlg/mB/mbMuwxsTOEnJOau1S927Cf3LNeKAeyZTi2Bffm86KCJSAGxDNWMQYZhywAdd81NJBNAhQOUzSKLQVoiMNuxPCB42hcwGekcwYUUcGmspbQ3oXHMHQ8ZpWhmjMmSEZAtOTsXRmNU2h+PVaD97su4K/Gejoy6wikLjAyNk65Y7rG0IwlTx9heaFz0paXZlpOa/Yzj2ge7ba2NU7d3E/CEGzY82m1yZnMty5rJm2UUSA+V9S6WlMUp5aqt69o7pg/ZDVvACbvAC3uxbQXPNexkSeSP8dpqFbuy8jc+3qELYzJdAixY2urb0jzUt7twsUGTUBBKQJbWrGv7jFDEIhX5hF8h5JsKgspsLLd5EN1rz816DjHQmwTd8TkkhAxkaWW4DmPf2o5t79MHzs1M0qydPM3MmrHHo7fh+iEKmaIXciRA+GW8rstIKwylZT28M+6MXHGcLgiIZpBmkv3Ahfq9PNC/qHj5h86oU8noRn7s0xXJFX2QTJn1yHr9qol9Bj3eMwejXNeCPlVGrN3ubdA2OeMQb3HElvEG5MlhknF2mM1eN55DsUQ9/E3lVHId+61NbZfwHQL3sRtLm2zFD3uwSY+9vFnuBwUsgXrZEl9sc9/25lxrXPxDCRO+fc5vqKNjrpWEO+YzOyyBXQLqjVPlLl25yKBZ5xkc4hRGh2iloJmT7foGXCHgCnLMGjhCQdNyQA+fzZKQEEHnxNj/U/RlbCtZ7du2mQHZ5vxkjAIPRcSRgjOGKIAJZorgOQbOAlrBjXGXBRcoC6Ku91nAtFQvKHMCnnd4q1qQbDlHAHXMc3H643592nV+xkxP9J3xmmH2DNb4mgXti+S5j0wPQW0cyuPSIFv2iU8c4xoHeCtR0k+ypTO27JDcz9nvm6CvJVXNgk/Rz9qwrQ+HtJuPxAn5sxt2InCyRT+gbsuW2Ame+F387RM45/at8SjsShBU+BB+umCqXT6Af2GL7NB1zi8B/RgD9F242JkmkjjIZhi2nJ1jkcjpjRmCMg6aICi3IlNhlLIUswbENHNAANJOZQQ3QdtjOSWOaZN8KbBAQ8aKz47jAARBHJoFcpyKAMdwW3KXHDFWDta+Y2Ylruk69/dij8+Ou4ahq686FUHa1vUtz9Kf6wImGL/+Gge9GJeLOEql8RyKtXmNx8q5kD2y0xIg/JcglRixuZIUhd74vDR2uT4EyTQ/cUr51t5YDgE5xAdbY0dshN1IMgVRqwGOs0HBis245zqbWQrGQ67jfv4jP86vWNHirzt3qBxGjPKcU9/FzjQZFdKQZx3bNmNjiM1gXLsbOKuDYBmggCl7lb14S6tf3G85SMDMye9Lwm67S2AJRTglyJj8yFGQkYz0jIKSU24cMT5O0z+LWKqV4b7iFa+YfqDCb8CafZoZOm6p6NWvfvX0W5Svfe1rp32l34t1n237rrH1nS5LshyAdgROQZMONbu5yfgZKsdt5cEM02qE8fR8Nmd5qdC3yjlBtmOwlKxwvrhX7JvB0Ad9JV+JCVmzQfzAsePYtcvqPQaXIuN9kSzIAB/soZm/hNMKkB+LYU/9Sbz/wO07zTjje2+ynWOgTvqifu1kr/lvuuElQxMdfoV9Ord0P+Zy+qL/c+GdVy7dudsQsYjqeRQhyoZe97rXTU7Qua4j7O5TCnxKWStn7u1OX6Dt1ygYqMzFyyvuOdQhcgywllNdur6wJKfJHh+MjBG+7GUvm5Z7ZK04Y5y4woVAassYcNC+FQBBixPt5R3G43ztlHlWGFoJFr7di08BUmmGaT9njbP6DGSMO/czTAmVoElf3v/+908Ga197S/CxBqeN5RJAD8iYzMkbB5IfOiHpwZXz9EHiqnhj8n3ve9+UqLBVXwXD4yEYud0FnpfGfbFRvCiSSY8yBEg+lo16fMGv8pcmF973wIlJhl/vYheWRktslpBjPOmTAG7FyP9qCt4tEbNZE5vnnntu0g/90TeB03F+Yw3cxunFLs8SJsNidC3NmiUwtMhXErzSfe0bOCdKuGY/YzHz5LBzhGsp/qOA5KcIcGaYlFvwEQgzNMAhYxAMGasg65kj461IlJpxeinBrFGx75hZqntse1bJ4NTXUpNAzVmb2dAh+kN30o1d6Ls+Ctp0Q9HvgvimH/NBxmRtJknuCuentETuPJly0grZt02XNqwD/PCdkk3csA+JDG5s2VFLtWxJMM2OSnZusqMR113jWEU96lPoRAmwPjkmieW7+elKK4NLBe5DcLFBM1Jlqwgz27RPmM4ReEFzDJ72K4yQoFtuk9FyhjIo+6b6xwq/GY+2H2VwcuQg0MhUfefKP7f7iSyyLvCQE+fJEHEq4xUMBUCZr5mIZVbZZm/yCaCWigRKReAUXC0hCbA+q6cArMimd4NnznqXK/2iA/SFTuivzJrejAa6OfJ5yBk2u+eIJTX45pidB/rCMbY0y1bpyRKyVkf1bLz9D5ID34gDRRKLK4GqlQF8sSm2xZbYavbKjlzn3vxs9mSrdPy6km5oVz30QZFIs9OSK7ZqcsNX8ycty7JLPpze0J9z4GKfaQKSCVjwtE3YBB9BXTt+7phZAgdoec3MpzdlCbyM9lioozb1bezfowhyFWg4QQpupmmJ07K4ZTccyBbjoKQDSpIYzch1xjbuO1d22rW2jmX8jJEzcKxrdnnBX4WT1af6pa0NhwFHZiyW2SQ+nK0Vo/iyxQu5s1NOUSl4HoubeH7UQQaSFLLuUURL4o7nF3GEM4mn9wRe+tKXTsvrkh8BDn9jIEze43Yswb57SqYE4952V9RPT4Ae+KaD5WH+gx8XRPkXCe4WNHdAsJzcbkEQjGSMpATEEypFEDhlK7ayFIpRJroEMsgUSD/H/j1KIFuzBQrfrK1sUeaID0rvmnFWoZAX+THYDHGUYfu2ZN31XetYelOQdK7jY10jaj8O9YnuFEDr44Z5iItxBlHAHHlVyFYCRV8ETM+7BdFj5d39G28fDvJgd2TsMYpJhMJWHS9o4knCiTuJj5Ubj0F8lpBmY/GZncWrfceywc67Z5zVCsy9Ba8IpK6hF/pkhbAJj88S7qX997646KDZDCEHaOs4IGbcjkC6wvEJkgRvuZDwOfCylCUMqvYRmFIo1/XrkqB/Ff1eqr9kS7EZJFl70crPZOFA4OyVcUUA5TDdk7HqB671aezXyCmM50ejVMb9cVw37UMGqG37+sSxFODnQr27dT9qIHcBUtBsNsFBNjsZgc/0xczHls0eY5u796Y7x9R539H46TabI2OrQGyTnbYCV7LIDvDn8UaPQcwIfcYpLiVCfHS+Obvts2sEx3Glhx70gk9v8KrXaoSZps/uY3P8tRlm/4Ai6S5oLuW/D8FFvj3L6Vk/9ysVr3rVq6ZlHssEiCNopWt3HSOhErit/2b0KzWK52scNkfNMA8VuLa61z5FAMqY0gAFdN2h7YRj778JZDzKrXaW6LN6FQYjk5Spei7Z8xDPHzM4WWfGRWY53JbzHI9TRd/KVLWRATFKcL/7cKGoS3HctQVY59yvvuo202Gc9IbBfuhDH3phSZ+DmSOX6rwNx8r3Omj3UsAxCpSvec1rJq7xz5ZbhmMrCplbuvcVMOWd73znC8uzVigOxRwOlsRaba3BqTrZh2LWyLcqvu6FL76VvdhmI3him3h5xzveMQVayTCbypYEYXBMwpndSTx9xjebdt71gq/z9guUbJqOOMZPP//889M3HfoRGm30jsHauI3Tiw2ajM7LHq2jWx6Q8SC6oBlpY/9M4ZFLwO9+97snx1e2gkDkC55LoL4CpRj7gljHjsVaBllflbGN+nxsu+rNEHAp6SkIMhKOdXzmqOCGwbQs5HrXMaAMl1wdU/AvYOpzGa82e5HAvusE1K51jbE71tibTXLYnqF4td3zE8mWLFySxWiX4mINTtO7c0M/yFzS6ytiAiZH6KUu+wq+cIFPsu4/FQXNlmfNKu4L1uAT4jQ9XQLqyt7iSQDDj5fw+FZ2Kdlhq9kJztiehNKKgKSGHWVPeMsWRzsTMNmWoj7tsm9Lsepll/phfPbNYh1XH31417veNSWwEld+XX3qXxu3yXuvoNkWliLxOhA28swsvVXJ4XqbyxuVpvaE7JqCpqI/CieHVE7Od3sETEuzshXEIX5JoY8yGXGMfNTZ/WvJmey0s9v/pYImqFs7DE9hMPhjNDhs2a7zDMK2wJqBZXSCmwAqKKrHtbXhWsZeveqonsZqbGW37nXcMU5akWj5M2yOwQsSXkCQUQumAudSWIPTXR7PBf3AA6f4+te/flp28wamlQYzGglwNljQfO973zsVSW5Bc6nE9hRYy0ZHTsf9Y9vLZ7IBQUrg9Ha6HzWwL2E183SOPUlesx+Biw2yFffri+PZkXPsC78K+7VSpDjPHtmnWac6u7/r8e4Ye3vyySevnnnmmWmVx/FmrGuh/sBtMr64mSZwZhyjbKeHz7IhxieYKgwOkM852rqP0xM0BU+zhZ6nOcZYDXdpwZPPXIHPwZJ13YT6vIul26sdBUfNPhUc2zqm4AWHrmNszjFYqwfVJYAJmIyuIOt6YOTNMp3nvOmKehgynXGte+iUNhgq3RActeO5q0SrY4w3J7EU1uD0Oi7PAf0ge8HRDxpwxgKm7/3hgtzJnBMlU7MJs0wJigDaUjyZ3xesaaNrQL3ZGZvBFz/Lx+LHfo/CBDif2Qq7KcDxpSNw5rjzktvRpoGM2J8gnM27RyBlY865jw1me88+++y0QmhW65y61pL1Lm5r5yKDpvY4S1kJUjm/yLSvELLrEJnjNJScn+k8MgjcloEm9BlDng19ULRPaZaoX33VsWRfR2jjVKitDDWDYjyMsaUc6FqcCn6KQAnuZzzuU/DpmPvdRy/ojc8cwTjrjB/bgqq21UFnFO1YFrQqQYfsy6zpGme+FNbg9JR83gR9UMjWrPKJJ56YAqalP88yewGEszRzIN+nn356cowSFTN8TlQyROZLQ9/WkP19s9F4YjvZDP+KG1uPwiyp2zfzNFlxjj2xHfclS4UN4Qx8xi/7dm026nrXOM4+s2V2ZVVQkkQnTHLMLB3rF4D4bvfW3ilwWzsXGzQ5TSTZEnTBMufKARI+YgxB5qOUvSADKYxPcXwNgSO/QLBENjTKWj1r9BlOzSlok7zGgl/HjdPnxpxhObe7QlA97Suux4H6FIGyxMtn5/EkUGa4rqFH/fAFo1UESlwKooxVu7W9BNbglAzOjbgoaL75zW+eAqafU/Qskz2TP/lKZM3qn3rqqenlKytE73nPeya5x/eSqG9L8hjW4BPW4rR6bbMFNoIbgdKqgK0kh/14l0TwrPC5rgf2UUBLxmyTrdm27zjZdw2OS0Y9CjHJYYNeDBMo6Qa7dHwJv7ovbmvrIoMmJPy2CnITesrfvmEo7Y/HKmugPirNNJfEWv3W33Oi9u/qh/N3yaA6Rn0peLYEzCFk7IqAytgZLsMUIEu2GDQuRx1aEmtwepccT4Fkb3XIewiPPfbY9E6CpT4zzVaN+qqDGb0Zpt8S9f+2XsIi+2x7SSSfNWS/Rp1wCk61USmptCzrmbTlWrw5J1h6Pi35YUd8sWCmsBkBNuA5u3E8W3Iffgu0gqQVnVZ1lP6TtxVCkx33nxq3cXqxQRNqN1IrULdtr9s/FcY+rWHsa42nPj8kNCaOmwNQBMyCZVm1Imi2CmHmw/BbkSj5WUv2a9R7CXxmCxIVTteLey31eZGPM+ZQvZjXMpxAaWbh/QOf10g818ZDsVF2w0YkNj1/9kgM8NbXUwqakswCp9WF+Lef/dAFflFhc65lZ3gWLK3sWJq1bxnWioNHJfYdL+CeGrdxetFBE2o7QuC6Ljs2Yyj3DmuN6ZycronGxQEojLv9lowKpoxX5qsIls1yMtK1ZL9GvZfAZ30wW+EsLet5ptwSn0Dqsxd/LL1xjoImB2mm7+U9sr9vdvxQbFR7bENQbCmdneDSMQFVQLRVBLyCmvMlqhJUdbE117kGBOMefThny+5s1SUIm23SBcfUyybPoQ+3tXnxQfNRx0MxyHNhHOfufrLd3a6NNdq5JD45RI7T8l5LfV4I8tkynxc8zCrNMG0lLy2V30c8NBvV7ljwuXtMKbmEjpWUJhNJ64iCbMmR0n7HFVhLrnNwW9tb0LxwrKU4G6fnwxqcXhKf+sJxWtIzMxE4e7nEZ7NLs8q+CiZgcqbNSO4bNhv9H+ivInAmE3owoqDY+bVkdyxu69feQdP+pQ70ISGZl3UtjZHTDafFGvZzSXzqi2I5zhKfbc/CfLYE5yUPxVJcy+L3za9sNno9xqBpH0ZZOXeJXI/yvo3TbaZ54VhLuTZOz4c1OL1EPvWppT3LdLYKhzSW5LGWrq+NzUYfBkZ5b0HzHmMzyIeHNTi9dD6bcewiWayl56fAZqMPA1vQfCDYDPLhYQ1O7wufu/1cS79Pic1GHx5u4/T69G/Dhg0bVgBnNBYQHLYAseG+YAuajyg2J7XhHChAboFyw6XiLr2cFTQ35d6wYRmsZUv31Ubrt+19HMOafb6vnN5nzNHDWc80N2zYsGHDhg3b8uyGDRs2bNgwG1vQ3LBhw4YNG2ZiC5obNmzYsGHDTGxBc8OGDRs2bJiJLWhu2LBhw4YNs3B19f8DKwQU6gzCNl8AAAAASUVORK5CYII=)"
      ],
      "metadata": {
        "id": "eHnwQfKyB4JJ"
      }
    },
    {
      "cell_type": "code",
      "source": [
        "# To generate GIFs\n",
        "!pip install imageio\n",
        "# !pip install git+https://github.com/tensorflow/docs"
      ],
      "metadata": {
        "colab": {
          "base_uri": "https://localhost:8080/"
        },
        "id": "ssMBLldxB4zK",
        "outputId": "4f59601d-48c4-4b21-8116-bfb22ca75fce"
      },
      "execution_count": 62,
      "outputs": [
        {
          "output_type": "stream",
          "name": "stdout",
          "text": [
            "Requirement already satisfied: imageio in /usr/local/lib/python3.7/dist-packages (2.4.1)\n",
            "Requirement already satisfied: numpy in /usr/local/lib/python3.7/dist-packages (from imageio) (1.21.6)\n",
            "Requirement already satisfied: pillow in /usr/local/lib/python3.7/dist-packages (from imageio) (7.1.2)\n",
            "Collecting git+https://github.com/tensorflow/docs\n",
            "  Cloning https://github.com/tensorflow/docs to /tmp/pip-req-build-xbxl9m4b\n",
            "  Running command git clone -q https://github.com/tensorflow/docs /tmp/pip-req-build-xbxl9m4b\n",
            "Requirement already satisfied: astor in /usr/local/lib/python3.7/dist-packages (from tensorflow-docs==0.0.0.dev0) (0.8.1)\n",
            "Requirement already satisfied: absl-py in /usr/local/lib/python3.7/dist-packages (from tensorflow-docs==0.0.0.dev0) (1.0.0)\n",
            "Requirement already satisfied: jinja2 in /usr/local/lib/python3.7/dist-packages (from tensorflow-docs==0.0.0.dev0) (2.11.3)\n",
            "Requirement already satisfied: protobuf>=3.14 in /usr/local/lib/python3.7/dist-packages (from tensorflow-docs==0.0.0.dev0) (3.17.3)\n",
            "Requirement already satisfied: pyyaml in /usr/local/lib/python3.7/dist-packages (from tensorflow-docs==0.0.0.dev0) (3.13)\n",
            "Requirement already satisfied: six>=1.9 in /usr/local/lib/python3.7/dist-packages (from protobuf>=3.14->tensorflow-docs==0.0.0.dev0) (1.15.0)\n",
            "Requirement already satisfied: MarkupSafe>=0.23 in /usr/local/lib/python3.7/dist-packages (from jinja2->tensorflow-docs==0.0.0.dev0) (2.0.1)\n",
            "Building wheels for collected packages: tensorflow-docs\n",
            "  Building wheel for tensorflow-docs (setup.py) ... \u001b[?25l\u001b[?25hdone\n",
            "  Created wheel for tensorflow-docs: filename=tensorflow_docs-0.0.0.dev0-py3-none-any.whl size=179891 sha256=df0d181987730b400635e638f129df94083c8e7bf574065b1653faaa7738343d\n",
            "  Stored in directory: /tmp/pip-ephem-wheel-cache-rmcu_eel/wheels/cc/c4/d8/5341e93b6376c5c929c49469fce21155eb69cef1a4da4ce32c\n",
            "Successfully built tensorflow-docs\n",
            "Installing collected packages: tensorflow-docs\n",
            "Successfully installed tensorflow-docs-0.0.0.dev0\n"
          ]
        }
      ]
    },
    {
      "cell_type": "code",
      "source": [
        "import imageio\n",
        "import glob"
      ],
      "metadata": {
        "id": "QB2z70ZECNC3"
      },
      "execution_count": 63,
      "outputs": []
    },
    {
      "cell_type": "code",
      "source": [
        "anim_file = 'dcgan_MNIST.gif'\n",
        "\n",
        "with imageio.get_writer(anim_file, mode='I') as writer:\n",
        "  filenames = glob.glob('image_at_epoch*.png')\n",
        "  filenames = sorted(filenames)\n",
        "  for filename in filenames:\n",
        "    image = imageio.imread(filename)\n",
        "    writer.append_data(image)\n",
        "  # image = imageio.imread(filename)\n",
        "  # writer.append_data(image)"
      ],
      "metadata": {
        "id": "CU80heh4COj2"
      },
      "execution_count": 64,
      "outputs": []
    },
    {
      "cell_type": "code",
      "source": [
        ""
      ],
      "metadata": {
        "id": "1oXOnQIbCVrJ"
      },
      "execution_count": null,
      "outputs": []
    }
  ]
}